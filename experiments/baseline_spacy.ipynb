{
 "cells": [
  {
   "cell_type": "markdown",
   "id": "6b094407-081b-4074-b5e7-b83953ead9dc",
   "metadata": {},
   "source": [
    "# Baseline with spaCy models\n",
    "\n",
    "It is a baseline solution using [`spaCy` package](https://spacy.io/) for [`Named Entity Recognition` (`NER`)](https://spacy.io/usage/linguistic-features#named-entities). \n",
    "This code will load the dataset, perform NER, and evaluate it against the provided labels for persons, organizations, and locations.\n",
    "\n",
    "The `baseline_hf` notebook is the first notebook for modeling. It holds all detailed comments about data preparation and modeling."
   ]
  },
  {
   "cell_type": "markdown",
   "id": "9a043fa4-c08f-46ab-82bf-4a073ac36f38",
   "metadata": {},
   "source": [
    "## Setting up\n",
    "\n",
    "Install all necessary packages and initialize the library names."
   ]
  },
  {
   "cell_type": "code",
   "execution_count": null,
   "id": "a5a2a841-504e-41e7-849a-032c280193d5",
   "metadata": {},
   "outputs": [],
   "source": [
    "!pip install spacy\n",
    "!python3 -m spacy download en_core_web_sm"
   ]
  },
  {
   "cell_type": "code",
   "execution_count": null,
   "id": "ee15ecb6-fd70-4ec1-b900-490dbbc48889",
   "metadata": {},
   "outputs": [],
   "source": [
    "!pip install pydantic==1.10.12"
   ]
  },
  {
   "cell_type": "code",
   "execution_count": 5,
   "id": "cbb03d5d-3739-4ee1-87df-818d14d7e82f",
   "metadata": {
    "execution": {
     "iopub.execute_input": "2024-11-07T00:37:34.531353Z",
     "iopub.status.busy": "2024-11-07T00:37:34.530233Z",
     "iopub.status.idle": "2024-11-07T00:37:34.871730Z",
     "shell.execute_reply": "2024-11-07T00:37:34.871145Z",
     "shell.execute_reply.started": "2024-11-07T00:37:34.531263Z"
    }
   },
   "outputs": [],
   "source": [
    "from collections import defaultdict\n",
    "from pathlib import Path\n",
    "\n",
    "import pandas as pd\n",
    "import spacy\n",
    "\n",
    "# Load SpaCy's pre-trained English model\n",
    "nlp = spacy.load(\"en_core_web_sm\")"
   ]
  },
  {
   "cell_type": "markdown",
   "id": "1aa9317b-17e5-4198-a401-b90d27cdb78e",
   "metadata": {},
   "source": [
    "## Data loading"
   ]
  },
  {
   "cell_type": "code",
   "execution_count": 4,
   "id": "f918b6c2-9614-4bbe-bb07-2866d6ce544f",
   "metadata": {
    "execution": {
     "iopub.execute_input": "2024-11-07T00:36:52.193860Z",
     "iopub.status.busy": "2024-11-07T00:36:52.193301Z",
     "iopub.status.idle": "2024-11-07T00:36:52.219854Z",
     "shell.execute_reply": "2024-11-07T00:36:52.219385Z",
     "shell.execute_reply.started": "2024-11-07T00:36:52.193819Z"
    }
   },
   "outputs": [
    {
     "name": "stdout",
     "output_type": "stream",
     "text": [
      "Loaded (14041, 4) ../data/external/hf/conll2003_transformed.train.csv, list(df.columns) =['text', 'persons', 'locations', 'organizations']\n",
      "Loaded (3453, 4) ../data/external/hf/conll2003_transformed.test.csv, list(df.columns) =['text', 'persons', 'locations', 'organizations']\n",
      "Loaded (3250, 4) ../data/external/hf/conll2003_transformed.validation.csv, list(df.columns) =['text', 'persons', 'locations', 'organizations']\n",
      "Summary df: (20744, 4), list(all_df.columns) =['text', 'persons', 'locations', 'organizations']\n"
     ]
    }
   ],
   "source": [
    "# Concatenate all df-s\n",
    "def load_data(file_path, usecols=None, nrows=None):\n",
    "    df = pd.read_csv(file_path, usecols=usecols, nrows=nrows)\n",
    "    print(f\"Loaded {df.shape} {file_path}, {list(df.columns) =}\")\n",
    "    return df\n",
    "    \n",
    "def load_all_data(data_path, used_columns, nrows=None):\n",
    "    suffixes = \"train test validation\".split()\n",
    "    \n",
    "    all_df = pd.concat([load_data(\n",
    "        data_path / f\"conll2003_transformed.{suffix}.csv\",\n",
    "        usecols=used_columns, \n",
    "        nrows=nrows\n",
    "    ) for suffix in suffixes])\n",
    "    print(f\"Summary df: {all_df.shape}, {list(all_df.columns) =}\")\n",
    "    return all_df\n",
    "\n",
    "\n",
    "DATA_PATH = Path('../data/external/hf')\n",
    "used_columns = \"text persons organizations locations\".split()\n",
    "nrows = None\n",
    "df = load_all_data(DATA_PATH, used_columns=used_columns, nrows=nrows)"
   ]
  },
  {
   "cell_type": "markdown",
   "id": "06c749cf-09b1-49e3-8699-c2c610f2dadd",
   "metadata": {},
   "source": [
    "## NE extraction"
   ]
  },
  {
   "cell_type": "code",
   "execution_count": 6,
   "id": "757e8766-866e-4a4a-b71a-e6ca1ec8969e",
   "metadata": {
    "execution": {
     "iopub.execute_input": "2024-11-07T00:37:42.466790Z",
     "iopub.status.busy": "2024-11-07T00:37:42.466247Z",
     "iopub.status.idle": "2024-11-07T00:37:42.472512Z",
     "shell.execute_reply": "2024-11-07T00:37:42.472117Z",
     "shell.execute_reply.started": "2024-11-07T00:37:42.466749Z"
    }
   },
   "outputs": [],
   "source": [
    "def extract_named_entities(text_list):\n",
    "    # Initialize result dictionary\n",
    "    result = {\n",
    "        'persons': [],\n",
    "        'organizations': [],\n",
    "        'locations': []\n",
    "    }\n",
    "\n",
    "    # Iterate through each text\n",
    "    for text in text_list:\n",
    "        # Process the text with SpaCy\n",
    "        doc = nlp(text)\n",
    "        \n",
    "        # Extract entities for each category\n",
    "        persons = [ent.text for ent in doc.ents if ent.label_ == 'PERSON']\n",
    "        organizations = [ent.text for ent in doc.ents if ent.label_ == 'ORG']\n",
    "        locations = [ent.text for ent in doc.ents if ent.label_ == 'GPE']\n",
    "        \n",
    "        # Join entities with ';' or set as empty string if no entities found\n",
    "        result['persons'].append(\";\".join(persons) if persons else \"\")\n",
    "        result['organizations'].append(\";\".join(organizations) if organizations else \"\")\n",
    "        result['locations'].append(\";\".join(locations) if locations else \"\")\n",
    "    \n",
    "    return result\n"
   ]
  },
  {
   "cell_type": "code",
   "execution_count": 7,
   "id": "b885cc07-5f5b-4440-89c6-170e191f91b7",
   "metadata": {
    "execution": {
     "iopub.execute_input": "2024-11-07T00:37:55.666690Z",
     "iopub.status.busy": "2024-11-07T00:37:55.665513Z",
     "iopub.status.idle": "2024-11-07T00:37:55.701610Z",
     "shell.execute_reply": "2024-11-07T00:37:55.701235Z",
     "shell.execute_reply.started": "2024-11-07T00:37:55.666650Z"
    }
   },
   "outputs": [
    {
     "data": {
      "text/plain": [
       "{'persons': ['Andrew Clyde;Kelly;Louie Gohmert', '', 'Timothy Kelly'],\n",
       " 'organizations': ['', 'Lloyd Smucker;Trump', 'Trump'],\n",
       " 'locations': ['Florida;Orlando', 'San Francisco;California;Napa County', '']}"
      ]
     },
     "execution_count": 7,
     "metadata": {},
     "output_type": "execute_result"
    }
   ],
   "source": [
    "texts = [\n",
    "    \"Andrew Clyde, Kelly, and Louie Gohmert visited Florida and Orlando.\",\n",
    "    \"Lloyd Smucker mentioned Trump while discussing San Francisco, California, and Napa County.\",\n",
    "    \"Timothy Kelly ruled in favor of Trump in the Mexican court case.\"\n",
    "]\n",
    "\n",
    "named_entities = extract_named_entities(texts)\n",
    "named_entities"
   ]
  },
  {
   "cell_type": "code",
   "execution_count": 8,
   "id": "016f5ecf-5184-4ffc-af6a-e6c9ff87af95",
   "metadata": {
    "execution": {
     "iopub.execute_input": "2024-11-07T00:38:01.326594Z",
     "iopub.status.busy": "2024-11-07T00:38:01.326138Z",
     "iopub.status.idle": "2024-11-07T00:38:01.332602Z",
     "shell.execute_reply": "2024-11-07T00:38:01.331799Z",
     "shell.execute_reply.started": "2024-11-07T00:38:01.326543Z"
    }
   },
   "outputs": [],
   "source": [
    "def predict_entities(df):\n",
    "    nes = extract_named_entities(df[\"text\"])\n",
    "    df.loc[:, \"persons_pred\"] = nes['persons']\n",
    "    df.loc[:, \"organizations_pred\"] = nes['organizations']\n",
    "    df.loc[:, \"locations_pred\"] = nes['locations']\n",
    "    return df"
   ]
  },
  {
   "cell_type": "code",
   "execution_count": 10,
   "id": "5b8eb728-65ac-42b4-a60b-1732b48863f7",
   "metadata": {
    "execution": {
     "iopub.execute_input": "2024-11-07T00:38:27.927139Z",
     "iopub.status.busy": "2024-11-07T00:38:27.926900Z",
     "iopub.status.idle": "2024-11-07T00:39:30.178943Z",
     "shell.execute_reply": "2024-11-07T00:39:30.178335Z",
     "shell.execute_reply.started": "2024-11-07T00:38:27.927126Z"
    }
   },
   "outputs": [
    {
     "name": "stdout",
     "output_type": "stream",
     "text": [
      "(20744, 7)\n"
     ]
    },
    {
     "data": {
      "text/html": [
       "<div>\n",
       "<style scoped>\n",
       "    .dataframe tbody tr th:only-of-type {\n",
       "        vertical-align: middle;\n",
       "    }\n",
       "\n",
       "    .dataframe tbody tr th {\n",
       "        vertical-align: top;\n",
       "    }\n",
       "\n",
       "    .dataframe thead th {\n",
       "        text-align: right;\n",
       "    }\n",
       "</style>\n",
       "<table border=\"1\" class=\"dataframe\">\n",
       "  <thead>\n",
       "    <tr style=\"text-align: right;\">\n",
       "      <th></th>\n",
       "      <th>text</th>\n",
       "      <th>persons</th>\n",
       "      <th>locations</th>\n",
       "      <th>organizations</th>\n",
       "      <th>persons_pred</th>\n",
       "      <th>organizations_pred</th>\n",
       "      <th>locations_pred</th>\n",
       "    </tr>\n",
       "  </thead>\n",
       "  <tbody>\n",
       "    <tr>\n",
       "      <th>0</th>\n",
       "      <td>EU rejects German call to boycott British lamb .</td>\n",
       "      <td>NaN</td>\n",
       "      <td>NaN</td>\n",
       "      <td>EU</td>\n",
       "      <td></td>\n",
       "      <td>EU</td>\n",
       "      <td></td>\n",
       "    </tr>\n",
       "  </tbody>\n",
       "</table>\n",
       "</div>"
      ],
      "text/plain": [
       "                                               text persons locations  \\\n",
       "0  EU rejects German call to boycott British lamb .     NaN       NaN   \n",
       "\n",
       "  organizations persons_pred organizations_pred locations_pred  \n",
       "0            EU                              EU                 "
      ]
     },
     "execution_count": 10,
     "metadata": {},
     "output_type": "execute_result"
    }
   ],
   "source": [
    "df_pred = predict_entities(df)\n",
    "print(df_pred.shape)\n",
    "df_pred.head(1)"
   ]
  },
  {
   "cell_type": "markdown",
   "id": "85e8f922-0077-4d54-8429-b408385573b4",
   "metadata": {},
   "source": [
    "## Evaluation"
   ]
  },
  {
   "cell_type": "code",
   "execution_count": 11,
   "id": "a3bb60a3-48bf-4044-a2ad-03b070fdab77",
   "metadata": {
    "execution": {
     "iopub.execute_input": "2024-11-07T00:40:40.406343Z",
     "iopub.status.busy": "2024-11-07T00:40:40.405927Z",
     "iopub.status.idle": "2024-11-07T00:40:40.549199Z",
     "shell.execute_reply": "2024-11-07T00:40:40.548810Z",
     "shell.execute_reply.started": "2024-11-07T00:40:40.406300Z"
    }
   },
   "outputs": [],
   "source": [
    "import pandas as pd\n",
    "from sklearn.metrics import precision_score, recall_score, f1_score\n",
    "\n",
    "def evaluate_binary(df):\n",
    "    def calculate_metrics(row):\n",
    "        true_set = set(row[column].split(';'))\n",
    "        pred_set = set(row[column+'_pred'].split(';'))\n",
    "        \n",
    "        tp = len(true_set & pred_set)  # True Positives\n",
    "        fp = len(pred_set - true_set)  # False Positives\n",
    "        fn = len(true_set - pred_set)  # False Negatives\n",
    "        support = len(true_set)        # Support: the number of true values (in 'persons')        \n",
    "        return pd.Series([tp, fp, fn, support])\n",
    "    \n",
    "    overall_metrics = {}    \n",
    "    for column in 'persons organizations locations'.split():\n",
    "        # Apply the function to each row\n",
    "        df[['TP_'+column, 'FP_'+column, 'FN_'+column, 'support_'+column]] = df.apply(calculate_metrics, axis=1)\n",
    "        \n",
    "        # Calculate precision, recall, F1 for each row\n",
    "        df['precision_'+column] = df['TP_'+column] / (df['TP_'+column] + df['FP_'+column])\n",
    "        df['recall_'+column] = df['TP_'+column] / (df['TP_'+column] + df['FN_'+column])\n",
    "        df['F1_'+column] = 2 * (df['precision_'+column] * df['recall_'+column]) / (df['precision_'+column] + df['recall_'+column])\n",
    "        \n",
    "        # Fill NaN values (where precision/recall is undefined) with 0\n",
    "        df.fillna(0, inplace=True)\n",
    "        \n",
    "        # Calculate overall precision, recall, F1-score, and support\n",
    "        overall_metrics[column] ={\n",
    "            \"precision\": round(sum(df['precision_'+column] * df['support_'+column]) /sum(df['support_'+column]), 3),\n",
    "            \"recall\": round(sum(df['recall_'+column] * df['support_'+column]) /sum(df['support_'+column]), 3),\n",
    "            \"F1\": round(sum(df['F1_'+column] * df['support_'+column]) /sum(df['support_'+column]), 3),\n",
    "            \"support\": int(df['support_'+column].sum())\n",
    "        }\n",
    "    return df, overall_metrics   \n"
   ]
  },
  {
   "cell_type": "code",
   "execution_count": 12,
   "id": "40de9171-300c-463b-a7ec-60fa75a0ea11",
   "metadata": {
    "execution": {
     "iopub.execute_input": "2024-11-07T00:40:42.046350Z",
     "iopub.status.busy": "2024-11-07T00:40:42.045634Z",
     "iopub.status.idle": "2024-11-07T00:40:42.063113Z",
     "shell.execute_reply": "2024-11-07T00:40:42.062686Z",
     "shell.execute_reply.started": "2024-11-07T00:40:42.046303Z"
    }
   },
   "outputs": [],
   "source": [
    "# Example DataFrame\n",
    "data = {\n",
    "    'persons': [\"Andrew Clyde;Kelly;Louie Gohmert\", \"Lloyd Smucker;Trump\", \"Timothy Kelly;Trump\"],\n",
    "    'organizations': [\"Andrew Clyde;Kelly;Louie Gohmert\", \"Lloyd Smucker;Trump\", \"Timothy Kelly;Trump\"],\n",
    "    'locations': [\"Florida;Orlando\", \"San Francisco;California;Napa County\", \"Mexican\"],\n",
    "    'persons_pred': [\"Andrew Clyde;Louie Gohmert;something\", \"Trump;Lloyd Smucker\", \"Timothy Kelly;some\"],\n",
    "    'organizations_pred': [\"Andrew Clyde;Louie Gohmert;something\", \"Trump;Lloyd Smucker\", \"Timothy Kelly;some\"],\n",
    "    'locations_pred': [\"Florida;Orlando;something\", \"San Francisco;California;Napa County;some\",\"Mexican;New York\"],\n",
    "}\n",
    "df_test = pd.DataFrame(data)\n",
    "\n",
    "df_test, overall_metrics = evaluate_binary(df_test)"
   ]
  },
  {
   "cell_type": "code",
   "execution_count": 13,
   "id": "63bfd861-28ad-4b84-b8e6-23f26da268fa",
   "metadata": {
    "execution": {
     "iopub.execute_input": "2024-11-07T00:40:46.281008Z",
     "iopub.status.busy": "2024-11-07T00:40:46.280601Z",
     "iopub.status.idle": "2024-11-07T00:40:46.296680Z",
     "shell.execute_reply": "2024-11-07T00:40:46.295444Z",
     "shell.execute_reply.started": "2024-11-07T00:40:46.280976Z"
    }
   },
   "outputs": [
    {
     "data": {
      "text/html": [
       "<div>\n",
       "<style scoped>\n",
       "    .dataframe tbody tr th:only-of-type {\n",
       "        vertical-align: middle;\n",
       "    }\n",
       "\n",
       "    .dataframe tbody tr th {\n",
       "        vertical-align: top;\n",
       "    }\n",
       "\n",
       "    .dataframe thead th {\n",
       "        text-align: right;\n",
       "    }\n",
       "</style>\n",
       "<table border=\"1\" class=\"dataframe\">\n",
       "  <thead>\n",
       "    <tr style=\"text-align: right;\">\n",
       "      <th></th>\n",
       "      <th>persons</th>\n",
       "      <th>organizations</th>\n",
       "      <th>locations</th>\n",
       "      <th>persons_pred</th>\n",
       "      <th>organizations_pred</th>\n",
       "      <th>locations_pred</th>\n",
       "      <th>TP_persons</th>\n",
       "      <th>FP_persons</th>\n",
       "      <th>FN_persons</th>\n",
       "      <th>support_persons</th>\n",
       "      <th>...</th>\n",
       "      <th>precision_organizations</th>\n",
       "      <th>recall_organizations</th>\n",
       "      <th>F1_organizations</th>\n",
       "      <th>TP_locations</th>\n",
       "      <th>FP_locations</th>\n",
       "      <th>FN_locations</th>\n",
       "      <th>support_locations</th>\n",
       "      <th>precision_locations</th>\n",
       "      <th>recall_locations</th>\n",
       "      <th>F1_locations</th>\n",
       "    </tr>\n",
       "  </thead>\n",
       "  <tbody>\n",
       "    <tr>\n",
       "      <th>0</th>\n",
       "      <td>Andrew Clyde;Kelly;Louie Gohmert</td>\n",
       "      <td>Andrew Clyde;Kelly;Louie Gohmert</td>\n",
       "      <td>Florida;Orlando</td>\n",
       "      <td>Andrew Clyde;Louie Gohmert;something</td>\n",
       "      <td>Andrew Clyde;Louie Gohmert;something</td>\n",
       "      <td>Florida;Orlando;something</td>\n",
       "      <td>2</td>\n",
       "      <td>1</td>\n",
       "      <td>1</td>\n",
       "      <td>3</td>\n",
       "      <td>...</td>\n",
       "      <td>0.666667</td>\n",
       "      <td>0.666667</td>\n",
       "      <td>0.666667</td>\n",
       "      <td>2</td>\n",
       "      <td>1</td>\n",
       "      <td>0</td>\n",
       "      <td>2</td>\n",
       "      <td>0.666667</td>\n",
       "      <td>1.0</td>\n",
       "      <td>0.800000</td>\n",
       "    </tr>\n",
       "    <tr>\n",
       "      <th>1</th>\n",
       "      <td>Lloyd Smucker;Trump</td>\n",
       "      <td>Lloyd Smucker;Trump</td>\n",
       "      <td>San Francisco;California;Napa County</td>\n",
       "      <td>Trump;Lloyd Smucker</td>\n",
       "      <td>Trump;Lloyd Smucker</td>\n",
       "      <td>San Francisco;California;Napa County;some</td>\n",
       "      <td>2</td>\n",
       "      <td>0</td>\n",
       "      <td>0</td>\n",
       "      <td>2</td>\n",
       "      <td>...</td>\n",
       "      <td>1.000000</td>\n",
       "      <td>1.000000</td>\n",
       "      <td>1.000000</td>\n",
       "      <td>3</td>\n",
       "      <td>1</td>\n",
       "      <td>0</td>\n",
       "      <td>3</td>\n",
       "      <td>0.750000</td>\n",
       "      <td>1.0</td>\n",
       "      <td>0.857143</td>\n",
       "    </tr>\n",
       "    <tr>\n",
       "      <th>2</th>\n",
       "      <td>Timothy Kelly;Trump</td>\n",
       "      <td>Timothy Kelly;Trump</td>\n",
       "      <td>Mexican</td>\n",
       "      <td>Timothy Kelly;some</td>\n",
       "      <td>Timothy Kelly;some</td>\n",
       "      <td>Mexican;New York</td>\n",
       "      <td>1</td>\n",
       "      <td>1</td>\n",
       "      <td>1</td>\n",
       "      <td>2</td>\n",
       "      <td>...</td>\n",
       "      <td>0.500000</td>\n",
       "      <td>0.500000</td>\n",
       "      <td>0.500000</td>\n",
       "      <td>1</td>\n",
       "      <td>1</td>\n",
       "      <td>0</td>\n",
       "      <td>1</td>\n",
       "      <td>0.500000</td>\n",
       "      <td>1.0</td>\n",
       "      <td>0.666667</td>\n",
       "    </tr>\n",
       "  </tbody>\n",
       "</table>\n",
       "<p>3 rows × 27 columns</p>\n",
       "</div>"
      ],
      "text/plain": [
       "                            persons                     organizations  \\\n",
       "0  Andrew Clyde;Kelly;Louie Gohmert  Andrew Clyde;Kelly;Louie Gohmert   \n",
       "1               Lloyd Smucker;Trump               Lloyd Smucker;Trump   \n",
       "2               Timothy Kelly;Trump               Timothy Kelly;Trump   \n",
       "\n",
       "                              locations                          persons_pred  \\\n",
       "0                       Florida;Orlando  Andrew Clyde;Louie Gohmert;something   \n",
       "1  San Francisco;California;Napa County                   Trump;Lloyd Smucker   \n",
       "2                               Mexican                    Timothy Kelly;some   \n",
       "\n",
       "                     organizations_pred  \\\n",
       "0  Andrew Clyde;Louie Gohmert;something   \n",
       "1                   Trump;Lloyd Smucker   \n",
       "2                    Timothy Kelly;some   \n",
       "\n",
       "                              locations_pred  TP_persons  FP_persons  \\\n",
       "0                  Florida;Orlando;something           2           1   \n",
       "1  San Francisco;California;Napa County;some           2           0   \n",
       "2                           Mexican;New York           1           1   \n",
       "\n",
       "   FN_persons  support_persons  ...  precision_organizations  \\\n",
       "0           1                3  ...                 0.666667   \n",
       "1           0                2  ...                 1.000000   \n",
       "2           1                2  ...                 0.500000   \n",
       "\n",
       "   recall_organizations  F1_organizations  TP_locations  FP_locations  \\\n",
       "0              0.666667          0.666667             2             1   \n",
       "1              1.000000          1.000000             3             1   \n",
       "2              0.500000          0.500000             1             1   \n",
       "\n",
       "   FN_locations  support_locations  precision_locations  recall_locations  \\\n",
       "0             0                  2             0.666667               1.0   \n",
       "1             0                  3             0.750000               1.0   \n",
       "2             0                  1             0.500000               1.0   \n",
       "\n",
       "   F1_locations  \n",
       "0      0.800000  \n",
       "1      0.857143  \n",
       "2      0.666667  \n",
       "\n",
       "[3 rows x 27 columns]"
      ]
     },
     "execution_count": 13,
     "metadata": {},
     "output_type": "execute_result"
    }
   ],
   "source": [
    "df_test"
   ]
  },
  {
   "cell_type": "code",
   "execution_count": 14,
   "id": "2b83fba9-6a89-4c8c-b073-d07b49002176",
   "metadata": {
    "execution": {
     "iopub.execute_input": "2024-11-07T00:40:54.834566Z",
     "iopub.status.busy": "2024-11-07T00:40:54.833224Z",
     "iopub.status.idle": "2024-11-07T00:40:54.838356Z",
     "shell.execute_reply": "2024-11-07T00:40:54.837909Z",
     "shell.execute_reply.started": "2024-11-07T00:40:54.834510Z"
    }
   },
   "outputs": [
    {
     "data": {
      "text/plain": [
       "{'persons': {'precision': 0.714, 'recall': 0.714, 'F1': 0.714, 'support': 7},\n",
       " 'organizations': {'precision': 0.714,\n",
       "  'recall': 0.714,\n",
       "  'F1': 0.714,\n",
       "  'support': 7},\n",
       " 'locations': {'precision': 0.681, 'recall': 1.0, 'F1': 0.806, 'support': 6}}"
      ]
     },
     "execution_count": 14,
     "metadata": {},
     "output_type": "execute_result"
    }
   ],
   "source": [
    "overall_metrics"
   ]
  },
  {
   "cell_type": "markdown",
   "id": "79e3c713-2e80-41b2-af91-0a30ffce331d",
   "metadata": {
    "execution": {
     "iopub.execute_input": "2024-09-08T18:05:07.780201Z",
     "iopub.status.busy": "2024-09-08T18:05:07.779839Z",
     "iopub.status.idle": "2024-09-08T18:05:07.782281Z",
     "shell.execute_reply": "2024-09-08T18:05:07.781841Z",
     "shell.execute_reply.started": "2024-09-08T18:05:07.780185Z"
    }
   },
   "source": [
    "## Whole pipeline"
   ]
  },
  {
   "cell_type": "markdown",
   "id": "24007910-937c-4f14-be55-e61389a92829",
   "metadata": {},
   "source": [
    "### Code"
   ]
  },
  {
   "cell_type": "code",
   "execution_count": 24,
   "id": "66a08cce-8f40-4aaf-8faf-7adc5ed14f7c",
   "metadata": {
    "execution": {
     "iopub.execute_input": "2024-11-07T00:53:31.479560Z",
     "iopub.status.busy": "2024-11-07T00:53:31.478670Z",
     "iopub.status.idle": "2024-11-07T00:53:31.491294Z",
     "shell.execute_reply": "2024-11-07T00:53:31.490460Z",
     "shell.execute_reply.started": "2024-11-07T00:53:31.479491Z"
    }
   },
   "outputs": [],
   "source": [
    "import json\n",
    "\n",
    "def load_data(file_path, usecols=None, nrows=None):\n",
    "    df = pd.read_csv(file_path, usecols=usecols, nrows=nrows)\n",
    "    print(f\"Loaded {df.shape} {file_path}, {list(df.columns) =}\")\n",
    "    return df\n",
    "    \n",
    "\n",
    "def save_results(output_file_path, metrics_file_path, df, metrics):\n",
    "    df.to_csv(output_file_path, index=False)\n",
    "    print(f\"Results saved into {output_file_path}, rows: {df.shape[0]}\")\n",
    "\n",
    "    print(metrics)\n",
    "    with open(metrics_file_path, \"w\", encoding='utf-8') as fp:\n",
    "        json.dump(metrics, fp, check_circular=True)\n",
    "    print(f\"Metrics saved into {metrics_file_path}\")\n",
    "    \n",
    "\n",
    "    \n",
    "def evaluate_baseline(data_file_path, output_file_path, metrics_file_path, do_cleanup=True, nrows=None):\n",
    "    # Load data\n",
    "    used_columns = \"text persons organizations locations\".split()\n",
    "    df = load_data(data_file_path, usecols=used_columns, nrows=nrows)\n",
    "    print(f\"Loaded {df.shape}\")\n",
    "\n",
    "    if do_cleanup:\n",
    "        df = data_cleanup(df)\n",
    "        print(f\"Cleaned up to {df.shape}\")\n",
    "\n",
    "    df.fillna('', inplace=True)\n",
    "    print(\"Extracting NE\")\n",
    "    df_pred = predict_entities(df)\n",
    "    print(f'Extracted. Res df: {df.shape}, {df.columns}')\n",
    "    # print(df)\n",
    "\n",
    "    # Evaluate predictions against true labels\n",
    "    out_df, overall_metrics = evaluate_binary(df)\n",
    "\n",
    "    # Save the predictions to a CSV file (required format for submission)\n",
    "    save_results(output_file_path, metrics_file_path, df=out_df, metrics=overall_metrics)\n",
    "    print(\"Finish\")\n",
    "    return out_df, overall_metrics"
   ]
  },
  {
   "cell_type": "markdown",
   "id": "873d603e-2eed-42b6-ac87-f3870effa195",
   "metadata": {},
   "source": [
    "### Evaluation on `conll2003`"
   ]
  },
  {
   "cell_type": "code",
   "execution_count": 25,
   "id": "6731e67a-8f06-4f61-a915-c46955612c9d",
   "metadata": {
    "execution": {
     "iopub.execute_input": "2024-11-07T00:53:36.065415Z",
     "iopub.status.busy": "2024-11-07T00:53:36.064878Z",
     "iopub.status.idle": "2024-11-07T00:54:42.256458Z",
     "shell.execute_reply": "2024-11-07T00:54:42.255750Z",
     "shell.execute_reply.started": "2024-11-07T00:53:36.065373Z"
    }
   },
   "outputs": [
    {
     "name": "stdout",
     "output_type": "stream",
     "text": [
      "Loaded (20744, 4) ../data/external/hf/conll2003_transformed.all.csv, list(df.columns) =['text', 'persons', 'locations', 'organizations']\n",
      "Loaded (20744, 4)\n",
      "Extracting NE\n",
      "Extracted. Res df: (20744, 7), Index(['text', 'persons', 'locations', 'organizations', 'persons_pred',\n",
      "       'organizations_pred', 'locations_pred'],\n",
      "      dtype='object')\n",
      "Results saved into ../data/external/hf/spacy/with_scores.csv, rows: 20744\n",
      "{'persons': {'precision': 0.843, 'recall': 0.803, 'F1': 0.814, 'support': 24248}, 'organizations': {'precision': 0.651, 'recall': 0.635, 'F1': 0.638, 'support': 23191}, 'locations': {'precision': 0.848, 'recall': 0.825, 'F1': 0.83, 'support': 23498}}\n",
      "Metrics saved into ../data/external/hf/spacy/scores.json\n",
      "Finish\n"
     ]
    }
   ],
   "source": [
    "from_source = 'external/hf'\n",
    "dataset_name = \"conll2003_transformed.all\"\n",
    "extractor_type = 'spacy'\n",
    "\n",
    "data_file_path = f\"../data/{from_source}/{dataset_name}.csv\"\n",
    "output_file_path = f\"../data/{from_source}/{extractor_type}/with_scores.csv\"\n",
    "metrics_file_path = f\"../data/{from_source}/{extractor_type}/scores.json\"\n",
    "nrows = None\n",
    "\n",
    "out_df, overall_metrics = evaluate_baseline(data_file_path, output_file_path, metrics_file_path, do_cleanup=False, nrows=nrows)"
   ]
  },
  {
   "cell_type": "code",
   "execution_count": 26,
   "id": "6a109a6d-d0f4-473a-8f0d-7c970f854796",
   "metadata": {
    "execution": {
     "iopub.execute_input": "2024-11-07T00:55:25.435541Z",
     "iopub.status.busy": "2024-11-07T00:55:25.434853Z",
     "iopub.status.idle": "2024-11-07T00:55:25.438906Z",
     "shell.execute_reply": "2024-11-07T00:55:25.438535Z",
     "shell.execute_reply.started": "2024-11-07T00:55:25.435522Z"
    }
   },
   "outputs": [
    {
     "data": {
      "text/plain": [
       "{'persons': {'precision': 0.843,\n",
       "  'recall': 0.803,\n",
       "  'F1': 0.814,\n",
       "  'support': 24248},\n",
       " 'organizations': {'precision': 0.651,\n",
       "  'recall': 0.635,\n",
       "  'F1': 0.638,\n",
       "  'support': 23191},\n",
       " 'locations': {'precision': 0.848,\n",
       "  'recall': 0.825,\n",
       "  'F1': 0.83,\n",
       "  'support': 23498}}"
      ]
     },
     "execution_count": 26,
     "metadata": {},
     "output_type": "execute_result"
    }
   ],
   "source": [
    "overall_metrics"
   ]
  },
  {
   "cell_type": "code",
   "execution_count": null,
   "id": "9cb2d61c-14bb-40ad-926d-e8b2126581ac",
   "metadata": {},
   "outputs": [],
   "source": []
  }
 ],
 "metadata": {
  "kernelspec": {
   "display_name": "Python 3 (ipykernel)",
   "language": "python",
   "name": "python3"
  },
  "language_info": {
   "codemirror_mode": {
    "name": "ipython",
    "version": 3
   },
   "file_extension": ".py",
   "mimetype": "text/x-python",
   "name": "python",
   "nbconvert_exporter": "python",
   "pygments_lexer": "ipython3",
   "version": "3.10.12"
  }
 },
 "nbformat": 4,
 "nbformat_minor": 5
}
