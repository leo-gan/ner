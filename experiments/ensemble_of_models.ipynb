{
 "cells": [
  {
   "cell_type": "markdown",
   "id": "81506745-9381-4f5b-9c04-1443040bdb8d",
   "metadata": {},
   "source": [
    "# Ensemble of models\n",
    "\n",
    "Here I evaluate the hypotheses that an ensemble of models gives us a smaller rate of the False Positives hence better precision and, maybe, better F1.\n",
    "\n",
    "I will combine 3 existing open-source baseline models.\n",
    "\n",
    "The `conll2003_transformed` dataset is used for evaluation.\n",
    "\n",
    "Predicted NE sis normalized since we want to follow the existing data preprocessing logic."
   ]
  },
  {
   "cell_type": "markdown",
   "id": "b73c1be1-fe22-445b-ae76-186775985969",
   "metadata": {},
   "source": [
    "## Setting up"
   ]
  },
  {
   "cell_type": "code",
   "execution_count": 37,
   "id": "49d57fe3-a00b-43b7-b0cb-28be6012e44c",
   "metadata": {
    "execution": {
     "iopub.execute_input": "2024-11-07T19:58:14.230766Z",
     "iopub.status.busy": "2024-11-07T19:58:14.230542Z",
     "iopub.status.idle": "2024-11-07T19:58:14.234109Z",
     "shell.execute_reply": "2024-11-07T19:58:14.233767Z",
     "shell.execute_reply.started": "2024-11-07T19:58:14.230744Z"
    }
   },
   "outputs": [],
   "source": [
    "from pathlib import Path\n",
    "import sys\n",
    "import os\n",
    "from collections import defaultdict\n",
    "from collections import Counter\n",
    "\n",
    "import pandas as pd\n",
    "from sklearn.metrics import precision_score, recall_score, f1_score\n"
   ]
  },
  {
   "cell_type": "code",
   "execution_count": 38,
   "id": "8ba3e3dc-cb27-41da-9f5d-426e55c4b5f4",
   "metadata": {
    "execution": {
     "iopub.execute_input": "2024-11-07T19:58:16.858810Z",
     "iopub.status.busy": "2024-11-07T19:58:16.858410Z",
     "iopub.status.idle": "2024-11-07T19:58:16.863367Z",
     "shell.execute_reply": "2024-11-07T19:58:16.862949Z",
     "shell.execute_reply.started": "2024-11-07T19:58:16.858788Z"
    }
   },
   "outputs": [
    {
     "data": {
      "text/plain": [
       "['/home/leo/PycharmProjects/GLD/ner/experiments',\n",
       " '/usr/lib/python310.zip',\n",
       " '/usr/lib/python3.10',\n",
       " '/usr/lib/python3.10/lib-dynload',\n",
       " '',\n",
       " '/home/leo/.local/lib/python3.10/site-packages',\n",
       " '/home/leo/PycharmProjects/opengpts/backend/packages/agent-executor',\n",
       " '/home/leo/PycharmProjects/opengpts/backend/packages/gizmo-agent',\n",
       " '/home/leo/PycharmProjects/GLD/test_rag_chroma/my-app/packages/rag-chroma',\n",
       " '/home/leo/PycharmProjects/unicli/uni_chat/packages/rag-chroma-private',\n",
       " '/usr/local/lib/python3.10/dist-packages',\n",
       " '/usr/lib/python3/dist-packages',\n",
       " '/home/leo/PycharmProjects/GLD/ner']"
      ]
     },
     "execution_count": 38,
     "metadata": {},
     "output_type": "execute_result"
    }
   ],
   "source": [
    "# Add the parent directory to sys.path because we use code from the application\n",
    "parent_dir = os.path.abspath(os.path.join(os.getcwd(), '..'))\n",
    "if parent_dir not in sys.path:\n",
    "    sys.path.append(parent_dir)\n",
    "    print(f\"added {parent_dir}\")\n",
    "sys.path"
   ]
  },
  {
   "cell_type": "markdown",
   "id": "3c9c1308-f2f8-4d1f-b9f2-93a7bd0e3ce0",
   "metadata": {},
   "source": [
    "## Data loading\n",
    "\n",
    "We are loading the datasets with NE predictions for 3 existing baseline models: `Hugging Face`, `NLTK`, and `spaCy`."
   ]
  },
  {
   "cell_type": "code",
   "execution_count": 40,
   "id": "96e70d90-d854-40f0-b897-8101b2788dd8",
   "metadata": {
    "execution": {
     "iopub.execute_input": "2024-11-07T19:58:24.425671Z",
     "iopub.status.busy": "2024-11-07T19:58:24.425176Z",
     "iopub.status.idle": "2024-11-07T19:58:24.457418Z",
     "shell.execute_reply": "2024-11-07T19:58:24.456968Z",
     "shell.execute_reply.started": "2024-11-07T19:58:24.425633Z"
    }
   },
   "outputs": [
    {
     "name": "stdout",
     "output_type": "stream",
     "text": [
      "Loaded (14041, 4) ../data/external/hf/conll2003_transformed.train.csv, list(df.columns) =['text', 'persons', 'locations', 'organizations']\n",
      "Loaded (3453, 4) ../data/external/hf/conll2003_transformed.test.csv, list(df.columns) =['text', 'persons', 'locations', 'organizations']\n",
      "Loaded (3250, 4) ../data/external/hf/conll2003_transformed.validation.csv, list(df.columns) =['text', 'persons', 'locations', 'organizations']\n",
      "Summary df: (20744, 4), list(all_df.columns) =['text', 'persons', 'locations', 'organizations']\n"
     ]
    }
   ],
   "source": [
    "# Concatenate all df-s\n",
    "def load_data(file_path, usecols=None, nrows=None):\n",
    "    df = pd.read_csv(file_path, usecols=usecols, nrows=nrows)\n",
    "    print(f\"Loaded {df.shape} {file_path}, {list(df.columns) =}\")\n",
    "    return df\n",
    "    \n",
    "def load_all_data(data_path, used_columns, nrows=None):\n",
    "    suffixes = \"train test validation\".split()\n",
    "    \n",
    "    all_df = pd.concat([load_data(\n",
    "        data_path / f\"conll2003_transformed.{suffix}.csv\",\n",
    "        usecols=used_columns, \n",
    "        nrows=nrows\n",
    "    ) for suffix in suffixes])\n",
    "    print(f\"Summary df: {all_df.shape}, {list(all_df.columns) =}\")\n",
    "    return all_df\n",
    "\n",
    "\n",
    "DATA_PATH = Path('../data/external/hf')\n",
    "used_columns = \"text persons organizations locations\".split()\n",
    "nrows = None\n",
    "df = load_all_data(DATA_PATH, used_columns=used_columns, nrows=nrows)"
   ]
  },
  {
   "cell_type": "markdown",
   "id": "5d8e458b-6750-449a-b54a-71dc4f4b7733",
   "metadata": {},
   "source": [
    "## Data normalization\n",
    "\n",
    "We use the existing normalizing code. Apply normalization only on `organizations`."
   ]
  },
  {
   "cell_type": "code",
   "execution_count": 41,
   "id": "6a60e01c-d9b3-43ad-834e-c68a237ecc88",
   "metadata": {
    "execution": {
     "iopub.execute_input": "2024-11-07T19:58:30.578475Z",
     "iopub.status.busy": "2024-11-07T19:58:30.577680Z",
     "iopub.status.idle": "2024-11-07T19:58:30.586447Z",
     "shell.execute_reply": "2024-11-07T19:58:30.585217Z",
     "shell.execute_reply.started": "2024-11-07T19:58:30.578411Z"
    }
   },
   "outputs": [],
   "source": [
    "from ne_extractor_app.app.name_normalizer import Normalizer"
   ]
  },
  {
   "cell_type": "code",
   "execution_count": 42,
   "id": "feecd88b-7a74-4df0-9de8-b01e7d6d6127",
   "metadata": {
    "execution": {
     "iopub.execute_input": "2024-11-07T19:58:32.892575Z",
     "iopub.status.busy": "2024-11-07T19:58:32.891955Z",
     "iopub.status.idle": "2024-11-07T19:58:32.902700Z",
     "shell.execute_reply": "2024-11-07T19:58:32.902308Z",
     "shell.execute_reply.started": "2024-11-07T19:58:32.892530Z"
    }
   },
   "outputs": [
    {
     "data": {
      "text/plain": [
       "('Paris;Canada;Azhar University;Texas Department Of Public Safety;Detroit’s 12th Street',\n",
       " 'Jon Doe;Jack;Osama bin Laden;Jack Reach',\n",
       " 'US Centers for Disease Control and Prevention;CNN;Tesla;MIT;Conviction Review Unit;the Seekers')"
      ]
     },
     "execution_count": 42,
     "metadata": {},
     "output_type": "execute_result"
    }
   ],
   "source": [
    "tests = {\n",
    "    'persons': 'Jon Doe;Jack;Osama bin Laden;Bin Laden;Jack Reach;Doe Jon',\n",
    "    'organizations': 'Paris;Canada;Azhar University;Texas Department Of Public Safety;Paris;Detroit’s 12th Street;Public Safety Department',\n",
    "    'locations': 'US Centers for Disease Control and Prevention;CNN;Tesla;MIT;Conviction Review Unit;the Seekers;Seekers'\n",
    "}\n",
    "normalizer = Normalizer()\n",
    "normalizer.normalize_names(tests['organizations']), normalizer.normalize_names(tests['persons']), normalizer.normalize_names(tests['locations'])"
   ]
  },
  {
   "cell_type": "markdown",
   "id": "f8045ab6-14da-4eb4-96df-58b9f68b14f0",
   "metadata": {},
   "source": [
    "## All data combine and normalize"
   ]
  },
  {
   "cell_type": "code",
   "execution_count": 44,
   "id": "c438185f-c95d-4c29-80e9-ce2ceec9f108",
   "metadata": {
    "execution": {
     "iopub.execute_input": "2024-11-07T20:01:54.956475Z",
     "iopub.status.busy": "2024-11-07T20:01:54.955958Z",
     "iopub.status.idle": "2024-11-07T20:01:54.964219Z",
     "shell.execute_reply": "2024-11-07T20:01:54.963631Z",
     "shell.execute_reply.started": "2024-11-07T20:01:54.956436Z"
    }
   },
   "outputs": [],
   "source": [
    "def get_predictor_files(data_dir, predictors):\n",
    "    return {predictor: f\"{data_dir}/{predictor}/with_scores.csv\" for predictor in predictors}   \n",
    "\n",
    "def load_data(file_path, usecols=['text', 'persons', 'organizations', 'locations', 'persons_pred', 'organizations_pred', 'locations_pred'], nrows=None):\n",
    "    df = pd.read_csv(file_path, usecols=usecols, nrows=nrows, index_col=None)\n",
    "    df.fillna('', inplace=True)\n",
    "    return df\n",
    "\n",
    "def filter_results(combined_result_row, threshold=0.6):\n",
    "    return sorted(k for k, v in combined_result_row.items() if v > threshold)\n",
    "\n",
    "def load_and_normalize(nrows=None):\n",
    "    predictors = ['hf', 'nltk', 'spacy']\n",
    "    data_dir = '../data/external/hf'\n",
    "    normalizer = Normalizer()\n",
    "    \n",
    "    predictor2df = {\n",
    "        predictor: load_data(file_path, nrows=nrows) \n",
    "        for predictor, file_path in get_predictor_files(data_dir, predictors).items()\n",
    "    }\n",
    "\n",
    "    for predictor, df in predictor2df.items():\n",
    "        df.fillna('', inplace=True)\n",
    "        df['organizations_pred'] = df['organizations_pred'].apply(normalizer.normalize_names)\n",
    "        \n",
    "    return predictor2df\n",
    "    \n",
    "def split_and_clean(val):\n",
    "    if isinstance(val, str):\n",
    "        return [item.strip() for item in val.split(';') if item.strip()]\n",
    "    return []\n",
    "    \n",
    "def combine_column(column_name, predictor2df, weights, threshold):\n",
    "    combined_results = []\n",
    "    \n",
    "    for idx in range(len(next(iter(predictor2df.values())))):  # Iterate over all rows\n",
    "        substring_scores = defaultdict(float)\n",
    "        \n",
    "        # Accumulate scores from each dataframe based on weights\n",
    "        for key, df in predictor2df.items():\n",
    "            substrings = split_and_clean(df[column_name].iloc[idx])\n",
    "            weight = weights[key]\n",
    "            for substr in substrings:\n",
    "                substring_scores[substr] += weight\n",
    "        \n",
    "        # Filter substrings based on threshold and combine them back into a single string\n",
    "        filtered_substrings = [substr for substr, score in substring_scores.items() if score > threshold]\n",
    "        combined_results.append(';'.join(filtered_substrings))\n",
    "    \n",
    "    return combined_results    \n",
    "\n",
    "def combine_all(nrows=None, threshold=0.6):\n",
    "    weights = {\"nltk\": 0.45, \"spacy\": 0.5, \"hf\": 0.55}   \n",
    "    predictor2df = load_and_normalize(nrows=nrows)\n",
    "    \n",
    "    combined_df = pd.DataFrame({\n",
    "        'persons_pred': combine_column('persons_pred', predictor2df, weights, threshold=threshold),\n",
    "        'organizations_pred': combine_column('organizations_pred', predictor2df, weights, threshold=threshold),\n",
    "        'locations_pred': combine_column('locations_pred', predictor2df, weights, threshold=threshold)\n",
    "    })\n",
    "    combined_df[['text', 'persons', 'organizations', 'locations']] = predictor2df['hf'][['text', 'persons', 'organizations', 'locations']]\n",
    "    return combined_df.copy()\n"
   ]
  },
  {
   "cell_type": "code",
   "execution_count": 45,
   "id": "dfec7c2f-0eeb-4897-92d4-01fe54f2c412",
   "metadata": {
    "execution": {
     "iopub.execute_input": "2024-11-07T20:01:59.091911Z",
     "iopub.status.busy": "2024-11-07T20:01:59.091685Z",
     "iopub.status.idle": "2024-11-07T20:01:59.102361Z",
     "shell.execute_reply": "2024-11-07T20:01:59.101717Z",
     "shell.execute_reply.started": "2024-11-07T20:01:59.091897Z"
    }
   },
   "outputs": [
    {
     "name": "stderr",
     "output_type": "stream",
     "text": [
      "/tmp/ipykernel_464906/1674918263.py:6: FutureWarning: Setting an item of incompatible dtype is deprecated and will raise an error in a future version of pandas. Value '' has dtype incompatible with float64, please explicitly cast to a compatible dtype first.\n",
      "  df.fillna('', inplace=True)\n",
      "/tmp/ipykernel_464906/1674918263.py:6: FutureWarning: Setting an item of incompatible dtype is deprecated and will raise an error in a future version of pandas. Value '' has dtype incompatible with float64, please explicitly cast to a compatible dtype first.\n",
      "  df.fillna('', inplace=True)\n",
      "/tmp/ipykernel_464906/1674918263.py:6: FutureWarning: Setting an item of incompatible dtype is deprecated and will raise an error in a future version of pandas. Value '' has dtype incompatible with float64, please explicitly cast to a compatible dtype first.\n",
      "  df.fillna('', inplace=True)\n"
     ]
    }
   ],
   "source": [
    "\n",
    "combined_df = combine_all(nrows=1)"
   ]
  },
  {
   "cell_type": "markdown",
   "id": "5bf4b6bf-5fbc-4902-a692-cd5698d1107f",
   "metadata": {},
   "source": [
    "## Evaluations"
   ]
  },
  {
   "cell_type": "code",
   "execution_count": 46,
   "id": "8941c872-0cb2-4e7d-983b-a27f05fda1a9",
   "metadata": {
    "execution": {
     "iopub.execute_input": "2024-11-07T20:02:04.611314Z",
     "iopub.status.busy": "2024-11-07T20:02:04.610617Z",
     "iopub.status.idle": "2024-11-07T20:02:04.620268Z",
     "shell.execute_reply": "2024-11-07T20:02:04.619926Z",
     "shell.execute_reply.started": "2024-11-07T20:02:04.611268Z"
    }
   },
   "outputs": [],
   "source": [
    "import json\n",
    "import pandas as pd\n",
    "from sklearn.metrics import precision_score, recall_score, f1_score\n",
    "\n",
    "\n",
    "def load_data(file_path, usecols=None, nrows=None):\n",
    "    df = pd.read_csv(file_path, usecols=usecols, nrows=nrows)\n",
    "    print(f\"Loaded {df.shape} {file_path}, {list(df.columns) =}\")\n",
    "    return df\n",
    "\n",
    "def save_results(output_file_path, metrics_file_path, df, metrics):\n",
    "    df.to_csv(output_file_path, index=False)\n",
    "    print(f\"Results saved into {output_file_path}, rows: {df.shape[0]}\")\n",
    "\n",
    "    print(metrics)\n",
    "    with open(metrics_file_path, \"w\", encoding='utf-8') as fp:\n",
    "        json.dump(metrics, fp, check_circular=True)\n",
    "    print(f\"Metrics saved into {metrics_file_path}\")\n",
    "    \n",
    "def evaluate_binary(df):\n",
    "    def calculate_metrics(row):\n",
    "        true_set = set(row[column].split(';'))\n",
    "        pred_set = set(row[column+'_pred'].split(';'))\n",
    "        \n",
    "        tp = len(true_set & pred_set)  # True Positives\n",
    "        fp = len(pred_set - true_set)  # False Positives\n",
    "        fn = len(true_set - pred_set)  # False Negatives\n",
    "        support = len(true_set)        # Support: the number of true values        \n",
    "        return pd.Series([tp, fp, fn, support])\n",
    "    \n",
    "    overall_metrics = {}    \n",
    "    for column in 'persons organizations locations'.split():\n",
    "        # Apply the function to each row\n",
    "        df[['TP_'+column, 'FP_'+column, 'FN_'+column, 'support_'+column]] = df.apply(calculate_metrics, axis=1)\n",
    "        \n",
    "        # Calculate precision, recall, F1 for each row\n",
    "        df['precision_'+column] = df['TP_'+column] / (df['TP_'+column] + df['FP_'+column])\n",
    "        df['recall_'+column] = df['TP_'+column] / (df['TP_'+column] + df['FN_'+column])\n",
    "        df['F1_'+column] = 2 * (df['precision_'+column] * df['recall_'+column]) / (df['precision_'+column] + df['recall_'+column])\n",
    "        \n",
    "        # Fill NaN values (where precision/recall is undefined) with 0\n",
    "        df.fillna(0, inplace=True)\n",
    "        \n",
    "        # Calculate overall precision, recall, F1-score, and support\n",
    "        overall_metrics[column] ={\n",
    "            \"precision\": round(sum(df['precision_'+column] * df['support_'+column]) /sum(df['support_'+column]), 3),\n",
    "            \"recall\": round(sum(df['recall_'+column] * df['support_'+column]) /sum(df['support_'+column]), 3),\n",
    "            \"F1\": round(sum(df['F1_'+column] * df['support_'+column]) /sum(df['support_'+column]), 3),\n",
    "            \"support\": int(df['support_'+column].sum())\n",
    "        }\n",
    "    return df, overall_metrics   \n",
    "\n",
    "    \n",
    "def evaluate_baseline(df, output_file_path, metrics_file_path, do_cleanup=True, nrows=None):\n",
    "    # Evaluate predictions against true labels\n",
    "    out_df, overall_metrics = evaluate_binary(df)\n",
    "\n",
    "    # Save the predictions to a CSV file (required format for submission)\n",
    "    save_results(output_file_path, metrics_file_path, df=out_df, metrics=overall_metrics)\n",
    "    print(\"Finish\")\n",
    "    return out_df, overall_metrics"
   ]
  },
  {
   "cell_type": "code",
   "execution_count": 50,
   "id": "aee99c77-b64c-40a1-96e5-6d03df41b9fd",
   "metadata": {
    "execution": {
     "iopub.execute_input": "2024-11-07T20:09:06.281666Z",
     "iopub.status.busy": "2024-11-07T20:09:06.281025Z",
     "iopub.status.idle": "2024-11-07T20:09:11.332060Z",
     "shell.execute_reply": "2024-11-07T20:09:11.331434Z",
     "shell.execute_reply.started": "2024-11-07T20:09:06.281619Z"
    }
   },
   "outputs": [
    {
     "name": "stdout",
     "output_type": "stream",
     "text": [
      "Loaded (20744, 28) ../data/external/hf/hf/with_scores.csv, list(df.columns) =['text', 'persons', 'locations', 'organizations', 'persons_pred', 'organizations_pred', 'locations_pred', 'TP_persons', 'FP_persons', 'FN_persons', 'support_persons', 'precision_persons', 'recall_persons', 'F1_persons', 'TP_organizations', 'FP_organizations', 'FN_organizations', 'support_organizations', 'precision_organizations', 'recall_organizations', 'F1_organizations', 'TP_locations', 'FP_locations', 'FN_locations', 'support_locations', 'precision_locations', 'recall_locations', 'F1_locations']\n",
      "Loaded (20744, 28) ../data/external/hf/nltk/with_scores.csv, list(df.columns) =['text', 'persons', 'locations', 'organizations', 'persons_pred', 'organizations_pred', 'locations_pred', 'TP_persons', 'FP_persons', 'FN_persons', 'support_persons', 'precision_persons', 'recall_persons', 'F1_persons', 'TP_organizations', 'FP_organizations', 'FN_organizations', 'support_organizations', 'precision_organizations', 'recall_organizations', 'F1_organizations', 'TP_locations', 'FP_locations', 'FN_locations', 'support_locations', 'precision_locations', 'recall_locations', 'F1_locations']\n",
      "Loaded (20744, 28) ../data/external/hf/spacy/with_scores.csv, list(df.columns) =['text', 'persons', 'locations', 'organizations', 'persons_pred', 'organizations_pred', 'locations_pred', 'TP_persons', 'FP_persons', 'FN_persons', 'support_persons', 'precision_persons', 'recall_persons', 'F1_persons', 'TP_organizations', 'FP_organizations', 'FN_organizations', 'support_organizations', 'precision_organizations', 'recall_organizations', 'F1_organizations', 'TP_locations', 'FP_locations', 'FN_locations', 'support_locations', 'precision_locations', 'recall_locations', 'F1_locations']\n",
      "Results saved into ../data/external/hf/ensemble/with_scores.csv, rows: 20744\n",
      "{'persons': {'precision': 0.805, 'recall': 0.882, 'F1': 0.828, 'support': 24248}, 'organizations': {'precision': 0.915, 'recall': 0.928, 'F1': 0.919, 'support': 23191}, 'locations': {'precision': 0.915, 'recall': 0.938, 'F1': 0.922, 'support': 23498}}\n",
      "Metrics saved into ../data/external/hf/ensemble/scores.json\n",
      "Finish\n"
     ]
    }
   ],
   "source": [
    "from_source = 'external/hf'\n",
    "dataset_name = \"conll2003_transformed.all\"\n",
    "extractor_type = 'ensemble'\n",
    "\n",
    "data_file_path = f\"../data/{from_source}/{dataset_name}.csv\"\n",
    "output_file_path = f\"../data/{from_source}/{extractor_type}/with_scores.csv\"\n",
    "metrics_file_path = f\"../data/{from_source}/{extractor_type}/scores.json\"\n",
    "nrows = None\n",
    "threshold = 0.5\n",
    "\n",
    "combined_df = combine_all(nrows=nrows, threshold=threshold)\n",
    "\n",
    "out_df, overall_metrics = evaluate_baseline(combined_df, output_file_path, metrics_file_path, do_cleanup=False, nrows=nrows)\n",
    "\n",
    "## threshold = 0.45\n",
    "# {'persons': {'precision': 0.769, 'recall': 0.873, 'F1': 0.799, 'support': 24248}, 'organizations': {'precision': 0.817, 'recall': 0.866, 'F1': 0.833, 'support': 23191}, 'locations': {'precision': 0.876, 'recall': 0.915, 'F1': 0.889, 'support': 23498}}\n",
    "\n",
    "## threshold = 0.5\n",
    "# {'persons': {'precision': 0.805, 'recall': 0.882, 'F1': 0.828, 'support': 24248}, 'organizations': {'precision': 0.915, 'recall': 0.928, 'F1': 0.919, 'support': 23191}, 'locations': {'precision': 0.915, 'recall': 0.938, 'F1': 0.922, 'support': 23498}}\n",
    "\n",
    "## threshold = 0.55\n",
    "# {'persons': {'precision': 0.896, 'recall': 0.854, 'F1': 0.867, 'support': 24248}, 'organizations': {'precision': 0.769, 'recall': 0.737, 'F1': 0.746, 'support': 23191}, 'locations': {'precision': 0.912, 'recall': 0.888, 'F1': 0.896, 'support': 23498}}\n",
    "\n",
    "## threshold = 0.6\n",
    "# {'persons': {'precision': 0.896, 'recall': 0.854, 'F1': 0.867, 'support': 24248}, 'organizations': {'precision': 0.769, 'recall': 0.737, 'F1': 0.746, 'support': 23191}, 'locations': {'precision': 0.912, 'recall': 0.888, 'F1': 0.896, 'support': 23498}}"
   ]
  },
  {
   "cell_type": "code",
   "execution_count": 14,
   "id": "66d8828d-0321-4432-bff6-f30fd932bdde",
   "metadata": {
    "execution": {
     "iopub.execute_input": "2024-11-07T01:26:46.727161Z",
     "iopub.status.busy": "2024-11-07T01:26:46.725763Z",
     "iopub.status.idle": "2024-11-07T01:26:46.731706Z",
     "shell.execute_reply": "2024-11-07T01:26:46.731197Z",
     "shell.execute_reply.started": "2024-11-07T01:26:46.727087Z"
    }
   },
   "outputs": [
    {
     "data": {
      "text/plain": [
       "{'persons': {'precision': 0.896,\n",
       "  'recall': 0.854,\n",
       "  'F1': 0.867,\n",
       "  'support': 24248},\n",
       " 'organizations': {'precision': 0.769,\n",
       "  'recall': 0.737,\n",
       "  'F1': 0.746,\n",
       "  'support': 23191},\n",
       " 'locations': {'precision': 0.912,\n",
       "  'recall': 0.888,\n",
       "  'F1': 0.896,\n",
       "  'support': 23498}}"
      ]
     },
     "execution_count": 14,
     "metadata": {},
     "output_type": "execute_result"
    }
   ],
   "source": [
    "overall_metrics"
   ]
  },
  {
   "cell_type": "markdown",
   "id": "23512f26-5eac-4d76-b63c-73435985ebaa",
   "metadata": {},
   "source": [
    "# Results\n",
    "\n",
    "I'm going to consolidate results of all models and analyze it."
   ]
  },
  {
   "cell_type": "code",
   "execution_count": 51,
   "id": "43087744-9609-4928-adfe-a5254d782904",
   "metadata": {
    "execution": {
     "iopub.execute_input": "2024-11-07T20:09:45.207343Z",
     "iopub.status.busy": "2024-11-07T20:09:45.206183Z",
     "iopub.status.idle": "2024-11-07T20:09:45.212506Z",
     "shell.execute_reply": "2024-11-07T20:09:45.211761Z",
     "shell.execute_reply.started": "2024-11-07T20:09:45.207289Z"
    }
   },
   "outputs": [],
   "source": [
    "results = {\n",
    "    \"NLTK\": {'persons': {'precision': 0.791, 'recall': 0.779, 'F1': 0.778, 'support': 24248}, 'organizations': {'precision': 0.606, 'recall': 0.597, 'F1': 0.597, 'support': 23191}, 'locations': {'precision': 0.703, 'recall': 0.703, 'F1': 0.694, 'support': 23498}},\n",
    "    \"Hugging Face\": {'persons': {'precision': 0.796, 'recall': 0.827, 'F1': 0.807, 'support': 24248}, 'organizations': {'precision': 0.93, 'recall': 0.935, 'F1': 0.932, 'support': 23191}, 'locations': {'precision': 0.921, 'recall': 0.925, 'F1': 0.922, 'support': 23498}},\n",
    "    \"spaCy\": {'persons': {'precision': 0.843, 'recall': 0.803, 'F1': 0.814, 'support': 24248}, 'organizations': {'precision': 0.651, 'recall': 0.635, 'F1': 0.638, 'support': 23191}, 'locations': {'precision': 0.848, 'recall': 0.825, 'F1': 0.83, 'support': 23498}},\n",
    "    \"Ensemble\": {'persons': {'precision': 0.805, 'recall': 0.882, 'F1': 0.828, 'support': 24248}, 'organizations': {'precision': 0.915, 'recall': 0.928, 'F1': 0.919, 'support': 23191}, 'locations': {'precision': 0.915, 'recall': 0.938, 'F1': 0.922, 'support': 23498}},\n",
    "}"
   ]
  },
  {
   "cell_type": "code",
   "execution_count": 52,
   "id": "d79fc164-5a93-4614-9446-7e9e57aa3f11",
   "metadata": {
    "execution": {
     "iopub.execute_input": "2024-11-07T20:09:48.827250Z",
     "iopub.status.busy": "2024-11-07T20:09:48.827023Z",
     "iopub.status.idle": "2024-11-07T20:09:48.844319Z",
     "shell.execute_reply": "2024-11-07T20:09:48.843849Z",
     "shell.execute_reply.started": "2024-11-07T20:09:48.827233Z"
    }
   },
   "outputs": [],
   "source": [
    "df_data = []\n",
    "for model, v in results.items():\n",
    "    for ne_type, metrics in v.items():\n",
    "        for metric_type, metric_val in metrics.items():\n",
    "            if metric_type != 'support':\n",
    "                df_data.append({\"model\": model, \"ne_type\": ne_type, \"metric_type\": metric_type, \"value\": metric_val})\n",
    "        \n",
    "res_df = pd.DataFrame(df_data)\n",
    "res_df.to_excel(Path(DATA_PATH / \"compound_scores.xlsx\"))\n",
    "           "
   ]
  },
  {
   "cell_type": "code",
   "execution_count": 53,
   "id": "db03eb73-12c4-4a94-82df-fe5ab03a574b",
   "metadata": {
    "execution": {
     "iopub.execute_input": "2024-11-07T20:09:51.901138Z",
     "iopub.status.busy": "2024-11-07T20:09:51.900446Z",
     "iopub.status.idle": "2024-11-07T20:09:52.294658Z",
     "shell.execute_reply": "2024-11-07T20:09:52.294302Z",
     "shell.execute_reply.started": "2024-11-07T20:09:51.901087Z"
    }
   },
   "outputs": [
    {
     "data": {
      "image/png": "[encoded data removed]",
      "text/plain": [
       "<Figure size 1185.25x400 with 3 Axes>"
      ]
     },
     "metadata": {},
     "output_type": "display_data"
    }
   ],
   "source": [
    "import seaborn as sns\n",
    "import pandas as pd\n",
    "import matplotlib.pyplot as plt\n",
    "\n",
    "df = res_df\n",
    "\n",
    "# Create a FacetGrid with seaborn to simulate a 3D effect by creating multiple plots\n",
    "g = sns.catplot(\n",
    "    data=df,\n",
    "    x='model',\n",
    "    y='value',\n",
    "    hue='metric_type',\n",
    "    col='ne_type',\n",
    "    kind='bar',\n",
    "    height=4,\n",
    "    aspect=0.8,\n",
    "    palette=\"viridis\"\n",
    ")\n",
    "\n",
    "# Customize the layout\n",
    "g.set_axis_labels(\"Model\", \"Value\")\n",
    "g.set_titles(\"{col_name}\")\n",
    "g.add_legend(title=\"metric\")\n",
    "\n",
    "plt.subplots_adjust(top=0.9)\n",
    "g.fig.suptitle('')\n",
    "plt.show()\n"
   ]
  },
  {
   "attachments": {},
   "cell_type": "markdown",
   "id": "0309a8d4-9589-4421-a119-b00f61ed5747",
   "metadata": {},
   "source": [
    "## Results and conclusion\n",
    "\n",
    "The `Ensemble` model works better for the `person` NE. It is on par with the `Hugging Face` model for the `organizations` and `locations`.\n"
   ]
  },
  {
   "cell_type": "code",
   "execution_count": null,
   "id": "bc7f9a03-b7e3-417c-9df9-1551529011c1",
   "metadata": {},
   "outputs": [],
   "source": []
  }
 ],
 "metadata": {
  "kernelspec": {
   "display_name": "Python 3 (ipykernel)",
   "language": "python",
   "name": "python3"
  },
  "language_info": {
   "codemirror_mode": {
    "name": "ipython",
    "version": 3
   },
   "file_extension": ".py",
   "mimetype": "text/x-python",
   "name": "python",
   "nbconvert_exporter": "python",
   "pygments_lexer": "ipython3",
   "version": "3.10.12"
  }
 },
 "nbformat": 4,
 "nbformat_minor": 5
}
