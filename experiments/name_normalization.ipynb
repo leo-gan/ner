{
 "cells": [
  {
   "cell_type": "markdown",
   "id": "ec7f944f-6221-4413-bd94-aceee3ce9c94",
   "metadata": {},
   "source": [
    "# Name normalization\n",
    "\n",
    "The name normalization task is described along with the code experiments.\n",
    "\n",
    "## Definition\n",
    "\n",
    "`Name normalization` searches for similar names and leaves only a single name in place of several similar names.\n",
    "\n",
    "The input and output are lists of names. The input list can have several similar names. Names are separated by \";\" character.\n",
    "Similar names are names that have:\n",
    "- the same words in different order like \"Trump Donald\" and \"Donald Trump\" \n",
    "- or names that have additional words as the stop words \"the\", \"of\", etc. or as organization-type words like \"Co\", \"Corp\", \"Inc\"\n",
    "- or words in different syntactic types like \"Courts\" and \"Court\", \"Biden's\" and \"Biden\", \"Congressional\" and \"Congress\"\n",
    "- or words in different cases, like \"CNN\" and \"Cnn\". \n",
    "\n",
    "## Test examples\n",
    "\n",
    "Examples of input and desired output lists:"
   ]
  },
  {
   "cell_type": "code",
   "execution_count": 120,
   "id": "b05b2621-e39d-41d6-bd0f-09e4e66559ca",
   "metadata": {
    "execution": {
     "iopub.execute_input": "2024-09-09T19:07:30.515919Z",
     "iopub.status.busy": "2024-09-09T19:07:30.515538Z",
     "iopub.status.idle": "2024-09-09T19:07:30.519475Z",
     "shell.execute_reply": "2024-09-09T19:07:30.519008Z",
     "shell.execute_reply.started": "2024-09-09T19:07:30.515889Z"
    }
   },
   "outputs": [],
   "source": [
    "tests = [  # (input, output),\n",
    "    (\"\", \"\"),\n",
    "    (\"Department Of Homeland Security;Supreme Court;University Of The New Mexico;University Of New Mexico;Supreme Court;Cnn;Cnn;Cnn\", \"Department Of Homeland Security;Supreme Court;University Of The New Mexico;Cnn\"),\n",
    "    (\"Twitter;Twitter;Russia;Twitter;Twitter;Twitter;Russia;Cnn;CNN\", \"Twitter;Russia;Cnn\"),\n",
    "    (\"Department Of Justice;Republican Party;Joe Biden;Justice Department;Session Of Congress On;Justice Department;United States of America;Justice Department;Justice Department;Cnn;Cnn;Cnn;Cnn;United States\", \"Department Of Justice;Republican Party;Joe Biden;Session Of Congress On;United States of America;Cnn\"),\n",
    "]\n"
   ]
  },
  {
   "cell_type": "markdown",
   "id": "b694b27f-0c0b-412e-915d-35e7afa86fce",
   "metadata": {},
   "source": [
    "The rules for removing similar names:\n",
    "- The output should be presented by the longest name similar to the input.\n",
    "- If there are several longest names then any longest name is OK.\n",
    "- The original not the normalized name goes into output.\n",
    "\n",
    "EXAMPLES:"
   ]
  },
  {
   "cell_type": "code",
   "execution_count": 121,
   "id": "bbf6273e-8205-43d6-ba9d-37958be22619",
   "metadata": {
    "execution": {
     "iopub.execute_input": "2024-09-09T19:07:33.062914Z",
     "iopub.status.busy": "2024-09-09T19:07:33.062513Z",
     "iopub.status.idle": "2024-09-09T19:07:33.069310Z",
     "shell.execute_reply": "2024-09-09T19:07:33.068182Z",
     "shell.execute_reply.started": "2024-09-09T19:07:33.062884Z"
    }
   },
   "outputs": [],
   "source": [
    "replacements = [  # (input, output),\n",
    "    (\"\", \"\"),\n",
    "    (\"USA;the USA;USA\", \"the USA\"),\n",
    "    (\"Department of Agriculture;Agriculture Department\", \"Department of Agriculture\"),\n",
    "    (\"United States Air Force;Air Force of United States;Air Force\", \"Air Force of United States\"),\n",
    "    (\"Donald Trump;Trump\", \"Donald Trump\"),\n",
    "    (\"Public Safety Department;Department of Public Safety\", \"Department of Public Safety\"),\n",
    "    (\"Supreme Courts;Supreme Court\", \"Supreme Courts\"),\n",
    "    (\"Congress;Congresses\", \"Congresses\"),\n",
    "]\n"
   ]
  },
  {
   "cell_type": "markdown",
   "id": "f54af296-4416-4d69-8749-ee648401cbcb",
   "metadata": {},
   "source": [
    "## Experiments"
   ]
  },
  {
   "cell_type": "markdown",
   "id": "ae0e9b5d-4561-41d5-ae0a-f341d4facd9c",
   "metadata": {
    "execution": {
     "iopub.execute_input": "2024-09-09T17:42:03.219502Z",
     "iopub.status.busy": "2024-09-09T17:42:03.219133Z",
     "iopub.status.idle": "2024-09-09T17:42:03.226273Z",
     "shell.execute_reply": "2024-09-09T17:42:03.225011Z",
     "shell.execute_reply.started": "2024-09-09T17:42:03.219475Z"
    }
   },
   "source": [
    "### NTLT"
   ]
  },
  {
   "cell_type": "code",
   "execution_count": 155,
   "id": "2b76c7b3-865a-4f3d-b3af-b1e592c376eb",
   "metadata": {
    "execution": {
     "iopub.execute_input": "2024-09-09T21:11:28.375359Z",
     "iopub.status.busy": "2024-09-09T21:11:28.374124Z",
     "iopub.status.idle": "2024-09-09T21:11:28.387549Z",
     "shell.execute_reply": "2024-09-09T21:11:28.386910Z",
     "shell.execute_reply.started": "2024-09-09T21:11:28.375266Z"
    }
   },
   "outputs": [
    {
     "name": "stderr",
     "output_type": "stream",
     "text": [
      "[nltk_data] Downloading package stopwords to /home/leo/nltk_data...\n",
      "[nltk_data]   Package stopwords is already up-to-date!\n",
      "[nltk_data] Downloading package wordnet to /home/leo/nltk_data...\n",
      "[nltk_data]   Package wordnet is already up-to-date!\n"
     ]
    }
   ],
   "source": [
    "import nltk\n",
    "from nltk.corpus import stopwords\n",
    "from nltk.stem import PorterStemmer\n",
    "import string\n",
    "\n",
    "# Download required NLTK resources\n",
    "nltk.download('stopwords')\n",
    "nltk.download('wordnet')\n",
    "\n",
    "# Initialize the stemmer and stop words\n",
    "stemmer = PorterStemmer()\n",
    "stop_words = set(stopwords.words('english'))\n",
    "org_suffixes = {'co', 'corp', 'inc', 'ltd', 'llc', 'plc'}\n",
    "\n",
    "def normalize_name(name):\n",
    "    # Convert to lowercase and remove punctuation\n",
    "    name = name.lower().translate(str.maketrans('', '', string.punctuation))\n",
    "    # Tokenize and lemmatize words, remove stop words and organization-type words\n",
    "    tokens = name.split()\n",
    "    normalized_tokens = [stemmer.stem(token) for token in tokens if token not in stop_words and token not in org_suffixes]\n",
    "    # Sort the tokens alphabetically to capture names with words in different order\n",
    "    return ' '.join(sorted(normalized_tokens))\n",
    "\n",
    "def is_included(normalized_to_original, normalized):\n",
    "    if not normalized:\n",
    "        return \n",
    "    normalized_set = set(normalized.split())\n",
    "    for k in normalized_to_original:\n",
    "        k_set = set(k.split())\n",
    "        if normalized_set.issubset(k_set):\n",
    "            return k\n",
    "        elif k_set.issubset(normalized_set)and len(k_set) > 1:\n",
    "            # replace the key with the longer name\n",
    "            # only for 2+ word similarity\n",
    "            # only when the long name is the first in the collection\n",
    "            normalized_to_original[normalized] = normalized_to_original.pop(k)\n",
    "            return normalized\n",
    "    return None\n",
    "def consolidate_names(name_list):\n",
    "    names = name_list.split(';')\n",
    "    \n",
    "    normalized_to_original = {}\n",
    "    \n",
    "    for name in names:\n",
    "        normalized = normalize_name(name)\n",
    "        # print(f\"{normalized}\")\n",
    "        if (k:= is_included(normalized_to_original, normalized)):\n",
    "            # Keep the longest original name\n",
    "            if len(name) > len(normalized_to_original[k]):\n",
    "                # print(f\"  {k}: {name}\")\n",
    "                normalized_to_original[k] = name                \n",
    "        else:\n",
    "            normalized_to_original[normalized] = name\n",
    "            # print(f\"  {normalized}: {name}\")\n",
    "    \n",
    "    return ';'.join(normalized_to_original.values())\n"
   ]
  },
  {
   "cell_type": "code",
   "execution_count": 127,
   "id": "aeff2488-adb7-4a01-a720-35c709553460",
   "metadata": {
    "execution": {
     "iopub.execute_input": "2024-09-09T19:18:54.154178Z",
     "iopub.status.busy": "2024-09-09T19:18:54.153723Z",
     "iopub.status.idle": "2024-09-09T19:18:54.158986Z",
     "shell.execute_reply": "2024-09-09T19:18:54.158546Z",
     "shell.execute_reply.started": "2024-09-09T19:18:54.154151Z"
    }
   },
   "outputs": [
    {
     "data": {
      "text/plain": [
       "[True, True, True, True, False]"
      ]
     },
     "execution_count": 127,
     "metadata": {},
     "output_type": "execute_result"
    }
   ],
   "source": [
    "[tst in \"Joe Sr Doe\" for tst in [\"Joe\", \"Sr\", \"Doe\", \"Sr Doe\", \"SrDoe\"]]"
   ]
  },
  {
   "cell_type": "code",
   "execution_count": 128,
   "id": "498999ff-dbc1-4e62-8a4d-f724d4929ea1",
   "metadata": {
    "execution": {
     "iopub.execute_input": "2024-09-09T19:18:54.803704Z",
     "iopub.status.busy": "2024-09-09T19:18:54.803086Z",
     "iopub.status.idle": "2024-09-09T19:18:54.811965Z",
     "shell.execute_reply": "2024-09-09T19:18:54.811231Z",
     "shell.execute_reply.started": "2024-09-09T19:18:54.803658Z"
    }
   },
   "outputs": [
    {
     "data": {
      "text/plain": [
       "[('something', 'something', 'somethingW')]"
      ]
     },
     "execution_count": 128,
     "metadata": {},
     "output_type": "execute_result"
    }
   ],
   "source": [
    "[(tst, consolidate_names(tst), res) for tst, res in replacements+[(\"something\", \"somethingW\")] if consolidate_names(tst) != res]"
   ]
  },
  {
   "cell_type": "code",
   "execution_count": 129,
   "id": "715ccd1d-84f7-4905-bb2a-d492a5ce332e",
   "metadata": {
    "execution": {
     "iopub.execute_input": "2024-09-09T19:18:58.206717Z",
     "iopub.status.busy": "2024-09-09T19:18:58.206344Z",
     "iopub.status.idle": "2024-09-09T19:18:58.213109Z",
     "shell.execute_reply": "2024-09-09T19:18:58.212691Z",
     "shell.execute_reply.started": "2024-09-09T19:18:58.206689Z"
    }
   },
   "outputs": [
    {
     "data": {
      "text/plain": [
       "[]"
      ]
     },
     "execution_count": 129,
     "metadata": {},
     "output_type": "execute_result"
    }
   ],
   "source": [
    "[(tst, consolidate_names(tst), res) for tst, res in tests if consolidate_names(tst) != res]"
   ]
  },
  {
   "cell_type": "code",
   "execution_count": 156,
   "id": "928aa40f-79b7-4d9c-876b-eb54f97946d1",
   "metadata": {
    "execution": {
     "iopub.execute_input": "2024-09-09T21:11:31.868351Z",
     "iopub.status.busy": "2024-09-09T21:11:31.868063Z",
     "iopub.status.idle": "2024-09-09T21:11:31.874123Z",
     "shell.execute_reply": "2024-09-09T21:11:31.873717Z",
     "shell.execute_reply.started": "2024-09-09T21:11:31.868332Z"
    }
   },
   "outputs": [
    {
     "data": {
      "text/plain": [
       "[]"
      ]
     },
     "execution_count": 156,
     "metadata": {},
     "output_type": "execute_result"
    }
   ],
   "source": [
    "replacements = [  # (input, output),\n",
    "    (\"\", \"\"),\n",
    "    (\"USA;the USA;USA\", \"the USA\"),\n",
    "    (\"Department of Agriculture;Agriculture Department\", \"Department of Agriculture\"),\n",
    "    (\"United States Air Force;Air Force of United States;Air Force\", \"Air Force of United States\"),\n",
    "    (\"Donald Trump;Trump\", \"Donald Trump\"),\n",
    "    (\"Trump;Donald Trump\", \"Trump;Donald Trump\"),\n",
    "    (\"Public Safety Department;Department of Public Safety\", \"Department of Public Safety\"),\n",
    "    (\"Supreme Courts;Supreme Court\", \"Supreme Courts\"),\n",
    "    (\"Congress;Congresses\", \"Congresses\"),\n",
    "    (\"Congress;Congress of Public Safety;Agriculture Congress\", \"Congress;Congress of Public Safety;Agriculture Congress\"),\n",
    "    (\"Congress;Congress of Public Safety;Safety Congress\", \"Congress;Congress of Public Safety\"),\n",
    "    (\"Congress;Safety Congress;Congress of Public Safety\", \"Congress;Congress of Public Safety\"),\n",
    "    (\"Congress of Public Safety;Safety Congress;Congress\", \"Congress of Public Safety\"),\n",
    "]\n",
    "# [(tst, consolidate_names(tst), res) for tst, res in replacements+[(\"something\", \"somethingW\")] if consolidate_names(tst) != res]\n",
    "[(tst, consolidate_names(tst), res) for tst, res in replacements if consolidate_names(tst) != res]"
   ]
  },
  {
   "cell_type": "code",
   "execution_count": null,
   "id": "381374f5-a611-4e54-afbd-f9224d7fd64f",
   "metadata": {},
   "outputs": [],
   "source": []
  }
 ],
 "metadata": {
  "kernelspec": {
   "display_name": "Python 3 (ipykernel)",
   "language": "python",
   "name": "python3"
  },
  "language_info": {
   "codemirror_mode": {
    "name": "ipython",
    "version": 3
   },
   "file_extension": ".py",
   "mimetype": "text/x-python",
   "name": "python",
   "nbconvert_exporter": "python",
   "pygments_lexer": "ipython3",
   "version": "3.10.12"
  }
 },
 "nbformat": 4,
 "nbformat_minor": 5
}
