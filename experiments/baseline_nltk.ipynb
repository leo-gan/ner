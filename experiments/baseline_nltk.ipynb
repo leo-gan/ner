{
 "cells": [
  {
   "cell_type": "markdown",
   "id": "6b094407-081b-4074-b5e7-b83953ead9dc",
   "metadata": {},
   "source": [
    "# Baseline with NLTK package\n",
    "\n",
    "It is a baseline solution using [`NLTK` package](https://www.nltk.org/) for `Named Entity Recognition` (`NER`). \n",
    "This code will load the dataset, perform NER using NLTK, and evaluate it against the provided labels for persons, organizations, and locations.\n",
    "\n",
    "The `baseline_hf` notebook is the first notebook for modeling. It holds all detailed comments about data preparation and modeling."
   ]
  },
  {
   "cell_type": "markdown",
   "id": "9a043fa4-c08f-46ab-82bf-4a073ac36f38",
   "metadata": {},
   "source": [
    "## Setting up\n",
    "\n",
    "Install all necessary packages and initialize the library names."
   ]
  },
  {
   "cell_type": "code",
   "execution_count": null,
   "id": "a5a2a841-504e-41e7-849a-032c280193d5",
   "metadata": {},
   "outputs": [],
   "source": [
    "!pip install nltk"
   ]
  },
  {
   "cell_type": "code",
   "execution_count": 6,
   "id": "cbb03d5d-3739-4ee1-87df-818d14d7e82f",
   "metadata": {
    "execution": {
     "iopub.execute_input": "2024-11-07T00:04:24.631946Z",
     "iopub.status.busy": "2024-11-07T00:04:24.631275Z",
     "iopub.status.idle": "2024-11-07T00:04:24.639012Z",
     "shell.execute_reply": "2024-11-07T00:04:24.638414Z",
     "shell.execute_reply.started": "2024-11-07T00:04:24.631894Z"
    }
   },
   "outputs": [],
   "source": [
    "from collections import defaultdict\n",
    "from pathlib import Path\n",
    "\n",
    "import nltk\n",
    "from nltk import word_tokenize, pos_tag, ne_chunk\n",
    "\n",
    "import pandas as pd"
   ]
  },
  {
   "cell_type": "code",
   "execution_count": 3,
   "id": "9976e431-ee71-46ae-ab63-0c0bfbc3805b",
   "metadata": {
    "execution": {
     "iopub.execute_input": "2024-11-06T23:37:44.214739Z",
     "iopub.status.busy": "2024-11-06T23:37:44.214164Z",
     "iopub.status.idle": "2024-11-06T23:37:44.473953Z",
     "shell.execute_reply": "2024-11-06T23:37:44.473435Z",
     "shell.execute_reply.started": "2024-11-06T23:37:44.214700Z"
    }
   },
   "outputs": [
    {
     "name": "stderr",
     "output_type": "stream",
     "text": [
      "[nltk_data] Downloading package punkt to /home/leo/nltk_data...\n",
      "[nltk_data]   Package punkt is already up-to-date!\n",
      "[nltk_data] Downloading package maxent_ne_chunker to\n",
      "[nltk_data]     /home/leo/nltk_data...\n",
      "[nltk_data]   Package maxent_ne_chunker is already up-to-date!\n",
      "[nltk_data] Downloading package words to /home/leo/nltk_data...\n",
      "[nltk_data]   Package words is already up-to-date!\n",
      "[nltk_data] Downloading package averaged_perceptron_tagger to\n",
      "[nltk_data]     /home/leo/nltk_data...\n",
      "[nltk_data]   Package averaged_perceptron_tagger is already up-to-\n",
      "[nltk_data]       date!\n"
     ]
    },
    {
     "data": {
      "text/plain": [
       "True"
      ]
     },
     "execution_count": 3,
     "metadata": {},
     "output_type": "execute_result"
    }
   ],
   "source": [
    "# Download required resources from NLTK\n",
    "nltk.download('punkt')\n",
    "nltk.download('maxent_ne_chunker')\n",
    "nltk.download('words')\n",
    "nltk.download('averaged_perceptron_tagger')\n"
   ]
  },
  {
   "cell_type": "markdown",
   "id": "1aa9317b-17e5-4198-a401-b90d27cdb78e",
   "metadata": {},
   "source": [
    "## Data loading"
   ]
  },
  {
   "cell_type": "code",
   "execution_count": 8,
   "id": "f918b6c2-9614-4bbe-bb07-2866d6ce544f",
   "metadata": {
    "execution": {
     "iopub.execute_input": "2024-11-07T00:05:00.423994Z",
     "iopub.status.busy": "2024-11-07T00:05:00.422484Z",
     "iopub.status.idle": "2024-11-07T00:05:00.458480Z",
     "shell.execute_reply": "2024-11-07T00:05:00.457835Z",
     "shell.execute_reply.started": "2024-11-07T00:05:00.423937Z"
    }
   },
   "outputs": [
    {
     "name": "stdout",
     "output_type": "stream",
     "text": [
      "Loaded (14041, 4) ../data/external/hf/conll2003_transformed.train.csv, list(df.columns) =['text', 'persons', 'locations', 'organizations']\n",
      "Loaded (3453, 4) ../data/external/hf/conll2003_transformed.test.csv, list(df.columns) =['text', 'persons', 'locations', 'organizations']\n",
      "Loaded (3250, 4) ../data/external/hf/conll2003_transformed.validation.csv, list(df.columns) =['text', 'persons', 'locations', 'organizations']\n",
      "Summary df: (20744, 4), list(all_df.columns) =['text', 'persons', 'locations', 'organizations']\n"
     ]
    }
   ],
   "source": [
    "# Concatenate all df-s\n",
    "def load_data(file_path, usecols=None, nrows=None):\n",
    "    df = pd.read_csv(file_path, usecols=usecols, nrows=nrows)\n",
    "    print(f\"Loaded {df.shape} {file_path}, {list(df.columns) =}\")\n",
    "    return df\n",
    "    \n",
    "def load_all_data(data_path, used_columns, nrows=None):\n",
    "    suffixes = \"train test validation\".split()\n",
    "    \n",
    "    all_df = pd.concat([load_data(\n",
    "        data_path / f\"conll2003_transformed.{suffix}.csv\",\n",
    "        usecols=used_columns, \n",
    "        nrows=nrows\n",
    "    ) for suffix in suffixes])\n",
    "    print(f\"Summary df: {all_df.shape}, {list(all_df.columns) =}\")\n",
    "    return all_df\n",
    "\n",
    "\n",
    "DATA_PATH = Path('../data/external/hf')\n",
    "used_columns = \"text persons organizations locations\".split()\n",
    "nrows = None\n",
    "df = load_all_data(DATA_PATH, used_columns=used_columns, nrows=nrows)"
   ]
  },
  {
   "cell_type": "code",
   "execution_count": 9,
   "id": "911db8e1-9e20-4a46-a193-f5a918f5612a",
   "metadata": {
    "execution": {
     "iopub.execute_input": "2024-11-07T00:05:37.644890Z",
     "iopub.status.busy": "2024-11-07T00:05:37.644071Z",
     "iopub.status.idle": "2024-11-07T00:05:37.653635Z",
     "shell.execute_reply": "2024-11-07T00:05:37.653350Z",
     "shell.execute_reply.started": "2024-11-07T00:05:37.644829Z"
    }
   },
   "outputs": [
    {
     "data": {
      "text/html": [
       "<div>\n",
       "<style scoped>\n",
       "    .dataframe tbody tr th:only-of-type {\n",
       "        vertical-align: middle;\n",
       "    }\n",
       "\n",
       "    .dataframe tbody tr th {\n",
       "        vertical-align: top;\n",
       "    }\n",
       "\n",
       "    .dataframe thead th {\n",
       "        text-align: right;\n",
       "    }\n",
       "</style>\n",
       "<table border=\"1\" class=\"dataframe\">\n",
       "  <thead>\n",
       "    <tr style=\"text-align: right;\">\n",
       "      <th></th>\n",
       "      <th>text</th>\n",
       "      <th>persons</th>\n",
       "      <th>locations</th>\n",
       "      <th>organizations</th>\n",
       "    </tr>\n",
       "  </thead>\n",
       "  <tbody>\n",
       "    <tr>\n",
       "      <th>0</th>\n",
       "      <td>EU rejects German call to boycott British lamb .</td>\n",
       "      <td>NaN</td>\n",
       "      <td>NaN</td>\n",
       "      <td>EU</td>\n",
       "    </tr>\n",
       "  </tbody>\n",
       "</table>\n",
       "</div>"
      ],
      "text/plain": [
       "                                               text persons locations  \\\n",
       "0  EU rejects German call to boycott British lamb .     NaN       NaN   \n",
       "\n",
       "  organizations  \n",
       "0            EU  "
      ]
     },
     "execution_count": 9,
     "metadata": {},
     "output_type": "execute_result"
    }
   ],
   "source": [
    "df.head(1)"
   ]
  },
  {
   "cell_type": "markdown",
   "id": "06c749cf-09b1-49e3-8699-c2c610f2dadd",
   "metadata": {},
   "source": [
    "## NE extraction"
   ]
  },
  {
   "cell_type": "code",
   "execution_count": 21,
   "id": "757e8766-866e-4a4a-b71a-e6ca1ec8969e",
   "metadata": {
    "execution": {
     "iopub.execute_input": "2024-11-07T00:14:18.711627Z",
     "iopub.status.busy": "2024-11-07T00:14:18.710665Z",
     "iopub.status.idle": "2024-11-07T00:14:18.719916Z",
     "shell.execute_reply": "2024-11-07T00:14:18.719428Z",
     "shell.execute_reply.started": "2024-11-07T00:14:18.711607Z"
    }
   },
   "outputs": [
    {
     "data": {
      "text/plain": [
       "{'locations': ['Apple'],\n",
       " 'persons': ['Elon Musk'],\n",
       " 'organizations': ['CEO of SpaceX']}"
      ]
     },
     "execution_count": 21,
     "metadata": {},
     "output_type": "execute_result"
    }
   ],
   "source": [
    "def extract_ne(text):\n",
    "    # Tokenize the input text\n",
    "    tokens = word_tokenize(text)\n",
    "\n",
    "    # Get part of speech tags for the tokens\n",
    "    pos_tags = pos_tag(tokens)\n",
    "\n",
    "    # Perform Named Entity Chunking (NE chunking)\n",
    "    chunks = ne_chunk(pos_tags, binary=False)\n",
    "\n",
    "    # Extract only Persons, Organizations, Locations\n",
    "    named_entities = defaultdict(list)\n",
    "    ne_code2name = {'PERSON': 'persons', 'ORGANIZATION': 'organizations', 'GPE': 'locations'}  # GPE = Geopolitical Entity (Locations)\n",
    "    for chunk in chunks:\n",
    "        if hasattr(chunk, 'label'):\n",
    "            entity_name = ' '.join(c[0] for c in chunk)\n",
    "            entity_type = chunk.label()\n",
    "            if entity_type in ne_code2name:\n",
    "                named_entities[ne_code2name[entity_type]].append(entity_name.strip())\n",
    "\n",
    "    return dict(named_entities)\n",
    "\n",
    "# Example usage\n",
    "text = \"Apple is looking at buying U.K. startup for $1 billion. Elon Musk is the CEO of SpaceX.\"\n",
    "\n",
    "named_entities = extract_ne(text)\n",
    "named_entities\n"
   ]
  },
  {
   "cell_type": "code",
   "execution_count": 22,
   "id": "00fbf45d-0904-4ba8-b2e7-0416138a3ac3",
   "metadata": {
    "execution": {
     "iopub.execute_input": "2024-11-07T00:14:21.281510Z",
     "iopub.status.busy": "2024-11-07T00:14:21.280388Z",
     "iopub.status.idle": "2024-11-07T00:14:21.287913Z",
     "shell.execute_reply": "2024-11-07T00:14:21.287074Z",
     "shell.execute_reply.started": "2024-11-07T00:14:21.281451Z"
    }
   },
   "outputs": [],
   "source": [
    "def add_nes(ness, nes):\n",
    "    for k, v_ness in ness.items():\n",
    "        ness[k].append(\";\".join(nes[k]) if k in nes else \"\")\n",
    "    return ness\n",
    "    \n",
    "def extract_ne_batch(texts):\n",
    "    ness = {'locations': [],\n",
    "             'persons': [],\n",
    "             'organizations': [],\n",
    "           }\n",
    "    for text in texts:\n",
    "        nes = extract_ne(text)\n",
    "        ness = add_nes(ness, nes)\n",
    "    return ness"
   ]
  },
  {
   "cell_type": "code",
   "execution_count": 23,
   "id": "f9b519a8-4d85-4ff4-9b10-acb8d2b98f9e",
   "metadata": {
    "execution": {
     "iopub.execute_input": "2024-11-07T00:14:23.110274Z",
     "iopub.status.busy": "2024-11-07T00:14:23.109823Z",
     "iopub.status.idle": "2024-11-07T00:14:23.124500Z",
     "shell.execute_reply": "2024-11-07T00:14:23.123989Z",
     "shell.execute_reply.started": "2024-11-07T00:14:23.110239Z"
    }
   },
   "outputs": [
    {
     "data": {
      "text/plain": [
       "{'locations': ['', 'Tesla;Germany'],\n",
       " 'persons': ['Elon Musk', ''],\n",
       " 'organizations': ['General Electric;CEO of SpaceX', '']}"
      ]
     },
     "execution_count": 23,
     "metadata": {},
     "output_type": "execute_result"
    }
   ],
   "source": [
    "texts = [\"Apple or General Electric is looking at buying U.K. startup for $1 billion. Elon Musk is the CEO of SpaceX.\",\n",
    "        \"Tesla plant is build in Germany.\"]\n",
    "extract_ne_batch(texts)"
   ]
  },
  {
   "cell_type": "code",
   "execution_count": 24,
   "id": "016f5ecf-5184-4ffc-af6a-e6c9ff87af95",
   "metadata": {
    "execution": {
     "iopub.execute_input": "2024-11-07T00:14:27.691399Z",
     "iopub.status.busy": "2024-11-07T00:14:27.690912Z",
     "iopub.status.idle": "2024-11-07T00:14:27.696151Z",
     "shell.execute_reply": "2024-11-07T00:14:27.695540Z",
     "shell.execute_reply.started": "2024-11-07T00:14:27.691362Z"
    }
   },
   "outputs": [],
   "source": [
    "def predict_entities(df):\n",
    "    nes = extract_ne_batch(df[\"text\"])\n",
    "    df[\"persons_pred\"] = nes['persons']\n",
    "    df[\"organizations_pred\"] = nes['organizations']\n",
    "    df[\"locations_pred\"] = nes['locations']\n",
    "    return df"
   ]
  },
  {
   "cell_type": "code",
   "execution_count": 26,
   "id": "5b8eb728-65ac-42b4-a60b-1732b48863f7",
   "metadata": {
    "execution": {
     "iopub.execute_input": "2024-11-07T00:15:09.115877Z",
     "iopub.status.busy": "2024-11-07T00:15:09.115360Z",
     "iopub.status.idle": "2024-11-07T00:15:37.918942Z",
     "shell.execute_reply": "2024-11-07T00:15:37.918521Z",
     "shell.execute_reply.started": "2024-11-07T00:15:09.115850Z"
    }
   },
   "outputs": [
    {
     "name": "stdout",
     "output_type": "stream",
     "text": [
      "(20744, 7)\n"
     ]
    },
    {
     "data": {
      "text/html": [
       "<div>\n",
       "<style scoped>\n",
       "    .dataframe tbody tr th:only-of-type {\n",
       "        vertical-align: middle;\n",
       "    }\n",
       "\n",
       "    .dataframe tbody tr th {\n",
       "        vertical-align: top;\n",
       "    }\n",
       "\n",
       "    .dataframe thead th {\n",
       "        text-align: right;\n",
       "    }\n",
       "</style>\n",
       "<table border=\"1\" class=\"dataframe\">\n",
       "  <thead>\n",
       "    <tr style=\"text-align: right;\">\n",
       "      <th></th>\n",
       "      <th>text</th>\n",
       "      <th>persons</th>\n",
       "      <th>locations</th>\n",
       "      <th>organizations</th>\n",
       "      <th>persons_pred</th>\n",
       "      <th>organizations_pred</th>\n",
       "      <th>locations_pred</th>\n",
       "    </tr>\n",
       "  </thead>\n",
       "  <tbody>\n",
       "    <tr>\n",
       "      <th>0</th>\n",
       "      <td>EU rejects German call to boycott British lamb .</td>\n",
       "      <td>NaN</td>\n",
       "      <td>NaN</td>\n",
       "      <td>EU</td>\n",
       "      <td></td>\n",
       "      <td></td>\n",
       "      <td>EU;German;British</td>\n",
       "    </tr>\n",
       "  </tbody>\n",
       "</table>\n",
       "</div>"
      ],
      "text/plain": [
       "                                               text persons locations  \\\n",
       "0  EU rejects German call to boycott British lamb .     NaN       NaN   \n",
       "\n",
       "  organizations persons_pred organizations_pred     locations_pred  \n",
       "0            EU                                  EU;German;British  "
      ]
     },
     "execution_count": 26,
     "metadata": {},
     "output_type": "execute_result"
    }
   ],
   "source": [
    "df_pred = predict_entities(df)\n",
    "print(df_pred.shape)\n",
    "df_pred.head(1)"
   ]
  },
  {
   "cell_type": "markdown",
   "id": "85e8f922-0077-4d54-8429-b408385573b4",
   "metadata": {},
   "source": [
    "## Evaluation"
   ]
  },
  {
   "cell_type": "code",
   "execution_count": 17,
   "id": "a3bb60a3-48bf-4044-a2ad-03b070fdab77",
   "metadata": {
    "execution": {
     "iopub.execute_input": "2024-11-07T00:09:24.469666Z",
     "iopub.status.busy": "2024-11-07T00:09:24.468729Z",
     "iopub.status.idle": "2024-11-07T00:09:24.479258Z",
     "shell.execute_reply": "2024-11-07T00:09:24.478726Z",
     "shell.execute_reply.started": "2024-11-07T00:09:24.469623Z"
    }
   },
   "outputs": [],
   "source": [
    "import pandas as pd\n",
    "from sklearn.metrics import precision_score, recall_score, f1_score\n",
    "\n",
    "def evaluate_binary(df):\n",
    "    def calculate_metrics(row):\n",
    "        true_set = set(row[column].split(';'))\n",
    "        pred_set = set(row[column+'_pred'].split(';'))\n",
    "        \n",
    "        tp = len(true_set & pred_set)  # True Positives\n",
    "        fp = len(pred_set - true_set)  # False Positives\n",
    "        fn = len(true_set - pred_set)  # False Negatives\n",
    "        support = len(true_set)        # Support: the number of true values (in 'persons')        \n",
    "        return pd.Series([tp, fp, fn, support])\n",
    "    \n",
    "    overall_metrics = {}    \n",
    "    for column in 'persons organizations locations'.split():\n",
    "        # Apply the function to each row\n",
    "        df[['TP_'+column, 'FP_'+column, 'FN_'+column, 'support_'+column]] = df.apply(calculate_metrics, axis=1)\n",
    "        \n",
    "        # Calculate precision, recall, F1 for each row\n",
    "        df['precision_'+column] = df['TP_'+column] / (df['TP_'+column] + df['FP_'+column])\n",
    "        df['recall_'+column] = df['TP_'+column] / (df['TP_'+column] + df['FN_'+column])\n",
    "        df['F1_'+column] = 2 * (df['precision_'+column] * df['recall_'+column]) / (df['precision_'+column] + df['recall_'+column])\n",
    "        \n",
    "        # Fill NaN values (where precision/recall is undefined) with 0\n",
    "        df.fillna(0, inplace=True)\n",
    "        \n",
    "        # Calculate overall precision, recall, F1-score, and support\n",
    "        overall_metrics[column] ={\n",
    "            \"precision\": round(sum(df['precision_'+column] * df['support_'+column]) /sum(df['support_'+column]), 3),\n",
    "            \"recall\": round(sum(df['recall_'+column] * df['support_'+column]) /sum(df['support_'+column]), 3),\n",
    "            \"F1\": round(sum(df['F1_'+column] * df['support_'+column]) /sum(df['support_'+column]), 3),\n",
    "            \"support\": int(df['support_'+column].sum())\n",
    "        }\n",
    "    return df, overall_metrics   \n"
   ]
  },
  {
   "cell_type": "code",
   "execution_count": 18,
   "id": "40de9171-300c-463b-a7ec-60fa75a0ea11",
   "metadata": {
    "execution": {
     "iopub.execute_input": "2024-11-07T00:09:31.405908Z",
     "iopub.status.busy": "2024-11-07T00:09:31.405346Z",
     "iopub.status.idle": "2024-11-07T00:09:31.420538Z",
     "shell.execute_reply": "2024-11-07T00:09:31.420113Z",
     "shell.execute_reply.started": "2024-11-07T00:09:31.405859Z"
    }
   },
   "outputs": [],
   "source": [
    "# Example DataFrame\n",
    "data = {\n",
    "    'persons': [\"Andrew Clyde;Kelly;Louie Gohmert\", \"Lloyd Smucker;Trump\", \"Timothy Kelly;Trump\"],\n",
    "    'organizations': [\"Andrew Clyde;Kelly;Louie Gohmert\", \"Lloyd Smucker;Trump\", \"Timothy Kelly;Trump\"],\n",
    "    'locations': [\"Florida;Orlando\", \"San Francisco;California;Napa County\", \"Mexican\"],\n",
    "    'persons_pred': [\"Andrew Clyde;Louie Gohmert;something\", \"Trump;Lloyd Smucker\", \"Timothy Kelly;some\"],\n",
    "    'organizations_pred': [\"Andrew Clyde;Louie Gohmert;something\", \"Trump;Lloyd Smucker\", \"Timothy Kelly;some\"],\n",
    "    'locations_pred': [\"Florida;Orlando;something\", \"San Francisco;California;Napa County;some\",\"Mexican;New York\"],\n",
    "}\n",
    "df_test = pd.DataFrame(data)\n",
    "\n",
    "df_test, overall_metrics = evaluate_binary(df_test)"
   ]
  },
  {
   "cell_type": "code",
   "execution_count": 38,
   "id": "63bfd861-28ad-4b84-b8e6-23f26da268fa",
   "metadata": {
    "execution": {
     "iopub.execute_input": "2024-09-08T17:55:43.487724Z",
     "iopub.status.busy": "2024-09-08T17:55:43.487284Z",
     "iopub.status.idle": "2024-09-08T17:55:43.509501Z",
     "shell.execute_reply": "2024-09-08T17:55:43.509057Z",
     "shell.execute_reply.started": "2024-09-08T17:55:43.487690Z"
    }
   },
   "outputs": [
    {
     "data": {
      "text/html": [
       "<div>\n",
       "<style scoped>\n",
       "    .dataframe tbody tr th:only-of-type {\n",
       "        vertical-align: middle;\n",
       "    }\n",
       "\n",
       "    .dataframe tbody tr th {\n",
       "        vertical-align: top;\n",
       "    }\n",
       "\n",
       "    .dataframe thead th {\n",
       "        text-align: right;\n",
       "    }\n",
       "</style>\n",
       "<table border=\"1\" class=\"dataframe\">\n",
       "  <thead>\n",
       "    <tr style=\"text-align: right;\">\n",
       "      <th></th>\n",
       "      <th>persons</th>\n",
       "      <th>organizations</th>\n",
       "      <th>locations</th>\n",
       "      <th>persons_pred</th>\n",
       "      <th>organizations_pred</th>\n",
       "      <th>locations_pred</th>\n",
       "      <th>TP_persons</th>\n",
       "      <th>FP_persons</th>\n",
       "      <th>FN_persons</th>\n",
       "      <th>support_persons</th>\n",
       "      <th>...</th>\n",
       "      <th>precision_organizations</th>\n",
       "      <th>recall_organizations</th>\n",
       "      <th>F1_organizations</th>\n",
       "      <th>TP_locations</th>\n",
       "      <th>FP_locations</th>\n",
       "      <th>FN_locations</th>\n",
       "      <th>support_locations</th>\n",
       "      <th>precision_locations</th>\n",
       "      <th>recall_locations</th>\n",
       "      <th>F1_locations</th>\n",
       "    </tr>\n",
       "  </thead>\n",
       "  <tbody>\n",
       "    <tr>\n",
       "      <th>0</th>\n",
       "      <td>Andrew Clyde;Kelly;Louie Gohmert</td>\n",
       "      <td>Andrew Clyde;Kelly;Louie Gohmert</td>\n",
       "      <td>Florida;Orlando</td>\n",
       "      <td>Andrew Clyde;Louie Gohmert;something</td>\n",
       "      <td>Andrew Clyde;Louie Gohmert;something</td>\n",
       "      <td>Florida;Orlando;something</td>\n",
       "      <td>2</td>\n",
       "      <td>1</td>\n",
       "      <td>1</td>\n",
       "      <td>3</td>\n",
       "      <td>...</td>\n",
       "      <td>0.666667</td>\n",
       "      <td>0.666667</td>\n",
       "      <td>0.666667</td>\n",
       "      <td>2</td>\n",
       "      <td>1</td>\n",
       "      <td>0</td>\n",
       "      <td>2</td>\n",
       "      <td>0.666667</td>\n",
       "      <td>1.0</td>\n",
       "      <td>0.800000</td>\n",
       "    </tr>\n",
       "    <tr>\n",
       "      <th>1</th>\n",
       "      <td>Lloyd Smucker;Trump</td>\n",
       "      <td>Lloyd Smucker;Trump</td>\n",
       "      <td>San Francisco;California;Napa County</td>\n",
       "      <td>Trump;Lloyd Smucker</td>\n",
       "      <td>Trump;Lloyd Smucker</td>\n",
       "      <td>San Francisco;California;Napa County;some</td>\n",
       "      <td>2</td>\n",
       "      <td>0</td>\n",
       "      <td>0</td>\n",
       "      <td>2</td>\n",
       "      <td>...</td>\n",
       "      <td>1.000000</td>\n",
       "      <td>1.000000</td>\n",
       "      <td>1.000000</td>\n",
       "      <td>3</td>\n",
       "      <td>1</td>\n",
       "      <td>0</td>\n",
       "      <td>3</td>\n",
       "      <td>0.750000</td>\n",
       "      <td>1.0</td>\n",
       "      <td>0.857143</td>\n",
       "    </tr>\n",
       "    <tr>\n",
       "      <th>2</th>\n",
       "      <td>Timothy Kelly;Trump</td>\n",
       "      <td>Timothy Kelly;Trump</td>\n",
       "      <td>Mexican</td>\n",
       "      <td>Timothy Kelly;some</td>\n",
       "      <td>Timothy Kelly;some</td>\n",
       "      <td>Mexican;New York</td>\n",
       "      <td>1</td>\n",
       "      <td>1</td>\n",
       "      <td>1</td>\n",
       "      <td>2</td>\n",
       "      <td>...</td>\n",
       "      <td>0.500000</td>\n",
       "      <td>0.500000</td>\n",
       "      <td>0.500000</td>\n",
       "      <td>1</td>\n",
       "      <td>1</td>\n",
       "      <td>0</td>\n",
       "      <td>1</td>\n",
       "      <td>0.500000</td>\n",
       "      <td>1.0</td>\n",
       "      <td>0.666667</td>\n",
       "    </tr>\n",
       "  </tbody>\n",
       "</table>\n",
       "<p>3 rows × 27 columns</p>\n",
       "</div>"
      ],
      "text/plain": [
       "                            persons                     organizations  \\\n",
       "0  Andrew Clyde;Kelly;Louie Gohmert  Andrew Clyde;Kelly;Louie Gohmert   \n",
       "1               Lloyd Smucker;Trump               Lloyd Smucker;Trump   \n",
       "2               Timothy Kelly;Trump               Timothy Kelly;Trump   \n",
       "\n",
       "                              locations                          persons_pred  \\\n",
       "0                       Florida;Orlando  Andrew Clyde;Louie Gohmert;something   \n",
       "1  San Francisco;California;Napa County                   Trump;Lloyd Smucker   \n",
       "2                               Mexican                    Timothy Kelly;some   \n",
       "\n",
       "                     organizations_pred  \\\n",
       "0  Andrew Clyde;Louie Gohmert;something   \n",
       "1                   Trump;Lloyd Smucker   \n",
       "2                    Timothy Kelly;some   \n",
       "\n",
       "                              locations_pred  TP_persons  FP_persons  \\\n",
       "0                  Florida;Orlando;something           2           1   \n",
       "1  San Francisco;California;Napa County;some           2           0   \n",
       "2                           Mexican;New York           1           1   \n",
       "\n",
       "   FN_persons  support_persons  ...  precision_organizations  \\\n",
       "0           1                3  ...                 0.666667   \n",
       "1           0                2  ...                 1.000000   \n",
       "2           1                2  ...                 0.500000   \n",
       "\n",
       "   recall_organizations  F1_organizations  TP_locations  FP_locations  \\\n",
       "0              0.666667          0.666667             2             1   \n",
       "1              1.000000          1.000000             3             1   \n",
       "2              0.500000          0.500000             1             1   \n",
       "\n",
       "   FN_locations  support_locations  precision_locations  recall_locations  \\\n",
       "0             0                  2             0.666667               1.0   \n",
       "1             0                  3             0.750000               1.0   \n",
       "2             0                  1             0.500000               1.0   \n",
       "\n",
       "   F1_locations  \n",
       "0      0.800000  \n",
       "1      0.857143  \n",
       "2      0.666667  \n",
       "\n",
       "[3 rows x 27 columns]"
      ]
     },
     "execution_count": 38,
     "metadata": {},
     "output_type": "execute_result"
    }
   ],
   "source": [
    "df_test"
   ]
  },
  {
   "cell_type": "code",
   "execution_count": 19,
   "id": "2b83fba9-6a89-4c8c-b073-d07b49002176",
   "metadata": {
    "execution": {
     "iopub.execute_input": "2024-11-07T00:09:40.369085Z",
     "iopub.status.busy": "2024-11-07T00:09:40.368554Z",
     "iopub.status.idle": "2024-11-07T00:09:40.374463Z",
     "shell.execute_reply": "2024-11-07T00:09:40.373939Z",
     "shell.execute_reply.started": "2024-11-07T00:09:40.369035Z"
    }
   },
   "outputs": [
    {
     "data": {
      "text/plain": [
       "{'persons': {'precision': 0.714, 'recall': 0.714, 'F1': 0.714, 'support': 7},\n",
       " 'organizations': {'precision': 0.714,\n",
       "  'recall': 0.714,\n",
       "  'F1': 0.714,\n",
       "  'support': 7},\n",
       " 'locations': {'precision': 0.681, 'recall': 1.0, 'F1': 0.806, 'support': 6}}"
      ]
     },
     "execution_count": 19,
     "metadata": {},
     "output_type": "execute_result"
    }
   ],
   "source": [
    "overall_metrics"
   ]
  },
  {
   "cell_type": "markdown",
   "id": "79e3c713-2e80-41b2-af91-0a30ffce331d",
   "metadata": {
    "execution": {
     "iopub.execute_input": "2024-09-08T18:05:07.780201Z",
     "iopub.status.busy": "2024-09-08T18:05:07.779839Z",
     "iopub.status.idle": "2024-09-08T18:05:07.782281Z",
     "shell.execute_reply": "2024-09-08T18:05:07.781841Z",
     "shell.execute_reply.started": "2024-09-08T18:05:07.780185Z"
    }
   },
   "source": [
    "## Whole pipeline"
   ]
  },
  {
   "cell_type": "markdown",
   "id": "d0cfe870-f7cf-426b-af98-ea63a316ee09",
   "metadata": {},
   "source": [
    "### Code"
   ]
  },
  {
   "cell_type": "code",
   "execution_count": 27,
   "id": "66a08cce-8f40-4aaf-8faf-7adc5ed14f7c",
   "metadata": {
    "execution": {
     "iopub.execute_input": "2024-11-07T00:21:20.880157Z",
     "iopub.status.busy": "2024-11-07T00:21:20.879033Z",
     "iopub.status.idle": "2024-11-07T00:21:20.887452Z",
     "shell.execute_reply": "2024-11-07T00:21:20.887023Z",
     "shell.execute_reply.started": "2024-11-07T00:21:20.880106Z"
    }
   },
   "outputs": [],
   "source": [
    "import json\n",
    "\n",
    "def load_data(file_path, usecols=None, nrows=None):\n",
    "    df = pd.read_csv(file_path, usecols=usecols, nrows=nrows)\n",
    "    print(f\"Loaded {df.shape} {file_path}, {list(df.columns) =}\")\n",
    "    return df\n",
    "    \n",
    "def save_results(output_file_path, metrics_file_path, df, metrics):\n",
    "    df.to_csv(output_file_path, index=False)\n",
    "    print(f\"Results saved into {output_file_path}, rows: {df.shape[0]}\")\n",
    "\n",
    "    print(metrics)\n",
    "    with open(metrics_file_path, \"w\", encoding='utf-8') as fp:\n",
    "        json.dump(metrics, fp, check_circular=True)\n",
    "    print(f\"Metrics saved into {metrics_file_path}\")\n",
    "    \n",
    "\n",
    "    \n",
    "def evaluate_baseline(data_file_path, output_file_path, metrics_file_path, do_cleanup=True, nrows=None):\n",
    "    # Load data\n",
    "    used_columns = \"text persons organizations locations\".split()\n",
    "    df = load_data(data_file_path, usecols=used_columns, nrows=nrows)\n",
    "    print(f\"Loaded {df.shape}\")\n",
    "\n",
    "    if do_cleanup:\n",
    "        df = data_cleanup(df)\n",
    "        print(f\"Cleaned up to {df.shape}\")\n",
    "\n",
    "    df.fillna('', inplace=True)\n",
    "    print(\"Extracting NE\")\n",
    "    df_pred = predict_entities(df)\n",
    "    print(f'Extracted. Res df: {df.shape}, {df.columns}')\n",
    "    # print(df)\n",
    "\n",
    "    # Evaluate predictions against true labels\n",
    "    out_df, overall_metrics = evaluate_binary(df)\n",
    "\n",
    "    # Save the predictions to a CSV file (required format for submission)\n",
    "    save_results(output_file_path, metrics_file_path, df=out_df, metrics=overall_metrics)\n",
    "    print(\"Finish\")\n",
    "    return out_df, overall_metrics"
   ]
  },
  {
   "cell_type": "markdown",
   "id": "484a657a-39ab-4b76-a455-7e6f7a23480d",
   "metadata": {},
   "source": [
    "### Evaluation on `conll2003`"
   ]
  },
  {
   "cell_type": "code",
   "execution_count": 29,
   "id": "1bee873d-667a-45ef-a79a-7e4ad106553e",
   "metadata": {
    "execution": {
     "iopub.execute_input": "2024-11-07T00:25:22.458728Z",
     "iopub.status.busy": "2024-11-07T00:25:22.457618Z",
     "iopub.status.idle": "2024-11-07T00:25:55.978444Z",
     "shell.execute_reply": "2024-11-07T00:25:55.977953Z",
     "shell.execute_reply.started": "2024-11-07T00:25:22.458627Z"
    }
   },
   "outputs": [
    {
     "name": "stdout",
     "output_type": "stream",
     "text": [
      "Loaded (20744, 4) ../data/external/hf/conll2003_transformed.all.csv, list(df.columns) =['text', 'persons', 'locations', 'organizations']\n",
      "Loaded (20744, 4)\n",
      "Extracting NE\n",
      "Extracted. Res df: (20744, 7), Index(['text', 'persons', 'locations', 'organizations', 'persons_pred',\n",
      "       'organizations_pred', 'locations_pred'],\n",
      "      dtype='object')\n",
      "Results saved into ../data/external/hf/nltk/with_scores.csv, rows: 20744\n",
      "{'persons': {'precision': 0.791, 'recall': 0.779, 'F1': 0.778, 'support': 24248}, 'organizations': {'precision': 0.606, 'recall': 0.597, 'F1': 0.597, 'support': 23191}, 'locations': {'precision': 0.703, 'recall': 0.703, 'F1': 0.694, 'support': 23498}}\n",
      "Metrics saved into ../data/external/hf/nltk/with_scores.csv\n",
      "Finish\n"
     ]
    }
   ],
   "source": [
    "from_source = 'external/hf'\n",
    "dataset_name = \"conll2003_transformed.all\"\n",
    "extractor_type = 'nltk'\n",
    "\n",
    "data_file_path = f\"../data/{from_source}/{dataset_name}.csv\"\n",
    "output_file_path = f\"../data/{from_source}/{extractor_type}/with_scores.csv\"\n",
    "metrics_file_path = f\"../data/{from_source}/{extractor_type}/scores.json\"\n",
    "nrows = None\n",
    "\n",
    "out_df, overall_metrics = evaluate_baseline(data_file_path, output_file_path, metrics_file_path, do_cleanup=False, nrows=nrows)"
   ]
  },
  {
   "cell_type": "code",
   "execution_count": 30,
   "id": "26cea844-18c8-4866-96ca-6cf32b5cd683",
   "metadata": {
    "execution": {
     "iopub.execute_input": "2024-11-07T00:26:03.029478Z",
     "iopub.status.busy": "2024-11-07T00:26:03.029054Z",
     "iopub.status.idle": "2024-11-07T00:26:03.034446Z",
     "shell.execute_reply": "2024-11-07T00:26:03.033692Z",
     "shell.execute_reply.started": "2024-11-07T00:26:03.029445Z"
    }
   },
   "outputs": [
    {
     "data": {
      "text/plain": [
       "{'persons': {'precision': 0.791,\n",
       "  'recall': 0.779,\n",
       "  'F1': 0.778,\n",
       "  'support': 24248},\n",
       " 'organizations': {'precision': 0.606,\n",
       "  'recall': 0.597,\n",
       "  'F1': 0.597,\n",
       "  'support': 23191},\n",
       " 'locations': {'precision': 0.703,\n",
       "  'recall': 0.703,\n",
       "  'F1': 0.694,\n",
       "  'support': 23498}}"
      ]
     },
     "execution_count": 30,
     "metadata": {},
     "output_type": "execute_result"
    }
   ],
   "source": [
    "overall_metrics"
   ]
  },
  {
   "cell_type": "code",
   "execution_count": null,
   "id": "548f0f68-ee6d-4125-98c9-c4f87d499ee1",
   "metadata": {},
   "outputs": [],
   "source": []
  }
 ],
 "metadata": {
  "kernelspec": {
   "display_name": "Python 3 (ipykernel)",
   "language": "python",
   "name": "python3"
  },
  "language_info": {
   "codemirror_mode": {
    "name": "ipython",
    "version": 3
   },
   "file_extension": ".py",
   "mimetype": "text/x-python",
   "name": "python",
   "nbconvert_exporter": "python",
   "pygments_lexer": "ipython3",
   "version": "3.10.12"
  }
 },
 "nbformat": 4,
 "nbformat_minor": 5
}
