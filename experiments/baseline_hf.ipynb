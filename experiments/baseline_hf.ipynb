{
 "cells": [
  {
   "cell_type": "markdown",
   "id": "a53a2d85-ca74-4950-98c5-7f7ea15d0b00",
   "metadata": {},
   "source": [
    "# Baseline with Hugging Face models\n",
    "\n",
    "It is a baseline solution using Hugging Face's `BERT` for `Named Entity Recognition` (`NER`). This code loads the dataset, perform NER using BERT, and evaluates it against the provided labels for persons, organizations, and locations.\n",
    "Other models from the [Hugging Face ](https://huggingface.co/docs/transformers/en/index) can be used instead.\n",
    "\n",
    "The [CoNLL-2003 on Hugging Face](https://huggingface.co/datasets/conll2003) dataset is used."
   ]
  },
  {
   "cell_type": "markdown",
   "id": "814bf1c8-f981-45f9-8285-02a6cbe0fbbc",
   "metadata": {},
   "source": [
    "## Setting up\n",
    "\n",
    "Install all necessary packages and initialize the library names."
   ]
  },
  {
   "cell_type": "code",
   "execution_count": null,
   "id": "0cfbde8c-6449-4abc-892e-ea166433a801",
   "metadata": {},
   "outputs": [],
   "source": [
    "#!pip install -U pip"
   ]
  },
  {
   "cell_type": "code",
   "execution_count": null,
   "id": "4d2a18a7-cde7-4448-8be4-8f96d8ee1412",
   "metadata": {},
   "outputs": [],
   "source": [
    "!pip install -U transformers datasets pandas scikit-learn"
   ]
  },
  {
   "cell_type": "code",
   "execution_count": 2,
   "id": "7844de23-2ea4-408e-a5c4-d46c20fc58b9",
   "metadata": {
    "execution": {
     "iopub.execute_input": "2024-11-06T23:02:04.306429Z",
     "iopub.status.busy": "2024-11-06T23:02:04.306123Z",
     "iopub.status.idle": "2024-11-06T23:02:06.643266Z",
     "shell.execute_reply": "2024-11-06T23:02:06.640969Z",
     "shell.execute_reply.started": "2024-11-06T23:02:04.306408Z"
    }
   },
   "outputs": [
    {
     "name": "stdout",
     "output_type": "stream",
     "text": [
      "Defaulting to user installation because normal site-packages is not writeable\n",
      "Requirement already satisfied: pyopenssl in /home/leo/.local/lib/python3.10/site-packages (23.0.0)\n",
      "Collecting pyopenssl\n",
      "  Using cached pyOpenSSL-24.2.1-py3-none-any.whl.metadata (13 kB)\n",
      "Requirement already satisfied: cryptography<44,>=41.0.5 in /home/leo/.local/lib/python3.10/site-packages (from pyopenssl) (43.0.3)\n",
      "Requirement already satisfied: cffi>=1.12 in /home/leo/.local/lib/python3.10/site-packages (from cryptography<44,>=41.0.5->pyopenssl) (1.15.1)\n",
      "Requirement already satisfied: pycparser in /home/leo/.local/lib/python3.10/site-packages (from cffi>=1.12->cryptography<44,>=41.0.5->pyopenssl) (2.21)\n",
      "Using cached pyOpenSSL-24.2.1-py3-none-any.whl (58 kB)\n",
      "Installing collected packages: pyopenssl\n",
      "  Attempting uninstall: pyopenssl\n",
      "    Found existing installation: pyOpenSSL 23.0.0\n",
      "    Uninstalling pyOpenSSL-23.0.0:\n",
      "      Successfully uninstalled pyOpenSSL-23.0.0\n",
      "\u001b[31mERROR: pip's dependency resolver does not currently take into account all the packages that are installed. This behaviour is the source of the following dependency conflicts.\n",
      "aws-sam-cli 1.81.0 requires pyopenssl==23.0.0, but you have pyopenssl 24.2.1 which is incompatible.\n",
      "aws-sam-cli 1.81.0 requires requests==2.28.2, but you have requests 2.32.3 which is incompatible.\n",
      "aws-sam-cli 1.81.0 requires tomlkit==0.11.7, but you have tomlkit 0.12.3 which is incompatible.\n",
      "aws-sam-cli 1.81.0 requires typing-extensions~=4.4.0, but you have typing-extensions 4.11.0 which is incompatible.\n",
      "aws-sam-cli 1.81.0 requires tzlocal==3.0, but you have tzlocal 4.2 which is incompatible.\n",
      "aws-sam-cli 1.81.0 requires watchdog==2.1.2, but you have watchdog 3.0.0 which is incompatible.\u001b[0m\u001b[31m\n",
      "\u001b[0mSuccessfully installed pyopenssl-24.2.1\n"
     ]
    }
   ],
   "source": [
    "!pip install --upgrade pyopenssl"
   ]
  },
  {
   "cell_type": "code",
   "execution_count": 1,
   "id": "f9d947db-bc62-400c-a4a8-991292903e8d",
   "metadata": {
    "execution": {
     "iopub.execute_input": "2024-11-06T23:02:16.012119Z",
     "iopub.status.busy": "2024-11-06T23:02:16.011787Z",
     "iopub.status.idle": "2024-11-06T23:02:20.095544Z",
     "shell.execute_reply": "2024-11-06T23:02:20.095033Z",
     "shell.execute_reply.started": "2024-11-06T23:02:16.012092Z"
    }
   },
   "outputs": [
    {
     "name": "stderr",
     "output_type": "stream",
     "text": [
      "/home/leo/.local/lib/python3.10/site-packages/torchvision/io/image.py:13: UserWarning: Failed to load image Python extension: '/home/leo/.local/lib/python3.10/site-packages/torchvision/image.so: undefined symbol: _ZN3c1017RegisterOperatorsD1Ev'If you don't plan on using image functionality from `torchvision.io`, you can ignore this warning. Otherwise, there might be something wrong with your environment. Did you have `libjpeg` or `libpng` installed before building `torchvision` from source?\n",
      "  warn(\n",
      "2024-11-06 15:02:18.049413: I tensorflow/core/util/port.cc:110] oneDNN custom operations are on. You may see slightly different numerical results due to floating-point round-off errors from different computation orders. To turn them off, set the environment variable `TF_ENABLE_ONEDNN_OPTS=0`.\n",
      "2024-11-06 15:02:18.185173: I tensorflow/core/platform/cpu_feature_guard.cc:182] This TensorFlow binary is optimized to use available CPU instructions in performance-critical operations.\n",
      "To enable the following instructions: AVX2 AVX_VNNI FMA, in other operations, rebuild TensorFlow with the appropriate compiler flags.\n",
      "2024-11-06 15:02:18.907081: W tensorflow/compiler/tf2tensorrt/utils/py_utils.cc:38] TF-TRT Warning: Could not find TensorRT\n",
      "/home/leo/.local/lib/python3.10/site-packages/torchvision/datapoints/__init__.py:12: UserWarning: The torchvision.datapoints and torchvision.transforms.v2 namespaces are still Beta. While we do not expect major breaking changes, some APIs may still change according to user feedback. Please submit any feedback you may have in this issue: https://github.com/pytorch/vision/issues/6753, and you can also check out https://github.com/pytorch/vision/issues/7319 to learn more about the APIs that we suspect might involve future changes. You can silence this warning by calling torchvision.disable_beta_transforms_warning().\n",
      "  warnings.warn(_BETA_TRANSFORMS_WARNING)\n",
      "/home/leo/.local/lib/python3.10/site-packages/torchvision/transforms/v2/__init__.py:54: UserWarning: The torchvision.datapoints and torchvision.transforms.v2 namespaces are still Beta. While we do not expect major breaking changes, some APIs may still change according to user feedback. Please submit any feedback you may have in this issue: https://github.com/pytorch/vision/issues/6753, and you can also check out https://github.com/pytorch/vision/issues/7319 to learn more about the APIs that we suspect might involve future changes. You can silence this warning by calling torchvision.disable_beta_transforms_warning().\n",
      "  warnings.warn(_BETA_TRANSFORMS_WARNING)\n"
     ]
    }
   ],
   "source": [
    "from pathlib import Path\n",
    "from collections import Counter\n",
    "\n",
    "import pandas as pd\n",
    "import torch\n",
    "from transformers import BertTokenizer, BertForTokenClassification, pipeline\n",
    "import evaluate\n",
    "from sklearn.model_selection import train_test_split\n",
    "from sklearn.metrics import precision_score, recall_score, f1_score\n",
    "import seaborn as sns\n",
    "import matplotlib.pyplot as plt\n"
   ]
  },
  {
   "cell_type": "code",
   "execution_count": 2,
   "id": "b5a75618-bf24-4c9d-a5ad-038a1625d6d1",
   "metadata": {
    "execution": {
     "iopub.execute_input": "2024-11-06T23:03:20.123144Z",
     "iopub.status.busy": "2024-11-06T23:03:20.121522Z",
     "iopub.status.idle": "2024-11-06T23:03:20.128111Z",
     "shell.execute_reply": "2024-11-06T23:03:20.126638Z",
     "shell.execute_reply.started": "2024-11-06T23:03:20.123081Z"
    }
   },
   "outputs": [],
   "source": [
    "DATA_PATH = Path('../data/external/hf')\n",
    "train_file_path = DATA_PATH / 'conll2003_transformed.train.csv'\n",
    "validation_file_path = DATA_PATH / 'conll2003_transformed.validation.csv'\n",
    "test_file_path = DATA_PATH / 'conll2003_transformed.test.csv'"
   ]
  },
  {
   "cell_type": "markdown",
   "id": "48173f47-c20f-4854-9f2c-46e1d2935c40",
   "metadata": {},
   "source": [
    "## Data loading\n",
    "\n",
    "I do not train a new model. I use pretrained models so I can merge `train`, `validation` and `test` datasets and use the compound dataset for the model evaluation."
   ]
  },
  {
   "cell_type": "code",
   "execution_count": 3,
   "id": "920bd110-96f5-4ca9-9525-40c52c57c752",
   "metadata": {
    "execution": {
     "iopub.execute_input": "2024-11-06T23:03:26.829206Z",
     "iopub.status.busy": "2024-11-06T23:03:26.827724Z",
     "iopub.status.idle": "2024-11-06T23:03:26.832972Z",
     "shell.execute_reply": "2024-11-06T23:03:26.832344Z",
     "shell.execute_reply.started": "2024-11-06T23:03:26.829147Z"
    }
   },
   "outputs": [],
   "source": [
    "def load_data(file_path, usecols=None, nrows=None):\n",
    "    df = pd.read_csv(file_path, usecols=usecols, nrows=nrows)\n",
    "    print(f\"Loaded {df.shape} {file_path}, {df.columns =}\")\n",
    "    return df"
   ]
  },
  {
   "cell_type": "code",
   "execution_count": 4,
   "id": "8824ee5f-5627-4d0a-a915-45de6b6fa3e7",
   "metadata": {
    "execution": {
     "iopub.execute_input": "2024-11-06T23:03:34.870022Z",
     "iopub.status.busy": "2024-11-06T23:03:34.869269Z",
     "iopub.status.idle": "2024-11-06T23:03:34.901985Z",
     "shell.execute_reply": "2024-11-06T23:03:34.901658Z",
     "shell.execute_reply.started": "2024-11-06T23:03:34.869974Z"
    }
   },
   "outputs": [
    {
     "name": "stdout",
     "output_type": "stream",
     "text": [
      "Loaded (14041, 4) ../data/external/hf/conll2003_transformed.train.csv, df.columns =Index(['text', 'persons', 'locations', 'organizations'], dtype='object')\n"
     ]
    },
    {
     "data": {
      "text/html": [
       "<div>\n",
       "<style scoped>\n",
       "    .dataframe tbody tr th:only-of-type {\n",
       "        vertical-align: middle;\n",
       "    }\n",
       "\n",
       "    .dataframe tbody tr th {\n",
       "        vertical-align: top;\n",
       "    }\n",
       "\n",
       "    .dataframe thead th {\n",
       "        text-align: right;\n",
       "    }\n",
       "</style>\n",
       "<table border=\"1\" class=\"dataframe\">\n",
       "  <thead>\n",
       "    <tr style=\"text-align: right;\">\n",
       "      <th></th>\n",
       "      <th>text</th>\n",
       "      <th>persons</th>\n",
       "      <th>locations</th>\n",
       "      <th>organizations</th>\n",
       "    </tr>\n",
       "  </thead>\n",
       "  <tbody>\n",
       "    <tr>\n",
       "      <th>0</th>\n",
       "      <td>EU rejects German call to boycott British lamb .</td>\n",
       "      <td>NaN</td>\n",
       "      <td>NaN</td>\n",
       "      <td>EU</td>\n",
       "    </tr>\n",
       "  </tbody>\n",
       "</table>\n",
       "</div>"
      ],
      "text/plain": [
       "                                               text persons locations  \\\n",
       "0  EU rejects German call to boycott British lamb .     NaN       NaN   \n",
       "\n",
       "  organizations  \n",
       "0            EU  "
      ]
     },
     "execution_count": 4,
     "metadata": {},
     "output_type": "execute_result"
    }
   ],
   "source": [
    "used_columns = \"text persons organizations locations\".split()\n",
    "\n",
    "train_df = load_data(train_file_path, usecols=used_columns)\n",
    "train_df.head(1)"
   ]
  },
  {
   "cell_type": "code",
   "execution_count": 5,
   "id": "a188cbf1-6f65-46f9-9b70-bd94fb5d4d15",
   "metadata": {
    "execution": {
     "iopub.execute_input": "2024-11-06T23:03:50.621844Z",
     "iopub.status.busy": "2024-11-06T23:03:50.621259Z",
     "iopub.status.idle": "2024-11-06T23:03:50.633339Z",
     "shell.execute_reply": "2024-11-06T23:03:50.632811Z",
     "shell.execute_reply.started": "2024-11-06T23:03:50.621793Z"
    }
   },
   "outputs": [
    {
     "name": "stdout",
     "output_type": "stream",
     "text": [
      "Counter({17: 330, 19: 308, 20: 304, 21: 287, 18: 261, 16: 260, 22: 255, 23: 224, 31: 201, 33: 196, 32: 194, 28: 179, 30: 173, 27: 173, 24: 169, 26: 163, 29: 163, 25: 154, 15: 152, 52: 146, 35: 146, 39: 143, 37: 141, 38: 139, 36: 137, 40: 133, 34: 133, 51: 129, 44: 122, 47: 121, 63: 120, 60: 116, 50: 116, 53: 113, 42: 113, 41: 113, 43: 110, 48: 107, 49: 104, 45: 104, 14: 103, 65: 102, 46: 101, 10: 97, 64: 95, 61: 92, 59: 92, 57: 90, 62: 90, 56: 85, 12: 82, 55: 80, 58: 79, 54: 76, 67: 72, 8: 72, 9: 72, 11: 66, 66: 62, 7: 60, 13: 59, 5: 56, 78: 51, 73: 51, 68: 50, 71: 50, 178: 49, 152: 48, 125: 48, 81: 47, 114: 46, 144: 45, 136: 45, 108: 45, 112: 45, 179: 44, 148: 44, 116: 44, 138: 44, 109: 44, 77: 43, 158: 43, 96: 43, 74: 42, 139: 42, 120: 42, 170: 41, 175: 41, 117: 41, 89: 41, 115: 41, 121: 41, 180: 41, 126: 41, 147: 41, 97: 41, 177: 40, 99: 40, 166: 39, 167: 39, 72: 39, 70: 38, 182: 37, 134: 37, 102: 37, 176: 37, 87: 37, 135: 37, 105: 37, 69: 37, 106: 37, 164: 37, 181: 36, 107: 36, 118: 36, 122: 36, 95: 36, 141: 36, 150: 36, 161: 36, 103: 36, 168: 36, 187: 35, 83: 35, 76: 35, 149: 35, 128: 35, 104: 35, 183: 34, 127: 34, 110: 34, 172: 34, 123: 34, 133: 34, 84: 33, 143: 33, 163: 33, 94: 33, 91: 33, 90: 32, 157: 32, 171: 32, 6: 32, 82: 32, 129: 32, 155: 32, 156: 31, 153: 31, 159: 31, 119: 31, 92: 31, 88: 30, 185: 30, 165: 30, 124: 30, 160: 30, 151: 30, 98: 30, 75: 30, 190: 30, 162: 29, 137: 29, 174: 29, 3: 29, 113: 29, 131: 28, 85: 28, 130: 28, 111: 28, 173: 28, 169: 28, 146: 27, 193: 26, 142: 26, 191: 26, 145: 26, 196: 25, 154: 25, 86: 25, 140: 25, 202: 25, 199: 25, 132: 24, 209: 24, 195: 24, 79: 23, 211: 23, 93: 23, 80: 23, 192: 23, 189: 23, 197: 22, 101: 22, 206: 22, 230: 22, 205: 22, 194: 21, 198: 21, 213: 20, 220: 20, 231: 20, 219: 19, 216: 19, 217: 19, 201: 19, 214: 19, 207: 19, 215: 18, 1: 18, 186: 18, 208: 18, 237: 18, 100: 18, 229: 18, 203: 18, 224: 17, 188: 17, 204: 17, 228: 16, 239: 16, 184: 16, 223: 16, 210: 16, 241: 14, 222: 14, 247: 13, 226: 13, 212: 13, 234: 12, 200: 12, 242: 12, 232: 12, 221: 12, 238: 11, 227: 11, 225: 11, 236: 10, 235: 10, 246: 10, 233: 10, 243: 10, 2: 10, 4: 9, 244: 9, 245: 9, 250: 8, 254: 7, 240: 7, 251: 6, 249: 6, 218: 5, 268: 5, 258: 5, 248: 5, 294: 5, 269: 5, 272: 4, 270: 4, 296: 4, 257: 4, 283: 3, 252: 3, 271: 3, 267: 3, 262: 3, 253: 3, 261: 3, 256: 3, 293: 3, 260: 3, 275: 2, 280: 2, 290: 2, 284: 2, 287: 2, 305: 2, 277: 2, 255: 2, 266: 2, 302: 2, 311: 2, 278: 2, 263: 2, 265: 2, 299: 2, 288: 1, 298: 1, 286: 1, 273: 1, 346: 1, 317: 1, 264: 1, 306: 1, 259: 1, 307: 1, 310: 1, 279: 1, 309: 1, 282: 1, 292: 1, 512: 1})\n"
     ]
    }
   ],
   "source": [
    "counter = Counter(train_df.text.str.len())\n",
    "print(counter)  # Output: Counter({20: 1, 10: 1, 41: 1})"
   ]
  },
  {
   "cell_type": "code",
   "execution_count": 6,
   "id": "c465fe75-6520-4a95-a45b-cb92ef55db49",
   "metadata": {
    "execution": {
     "iopub.execute_input": "2024-11-06T23:03:54.270379Z",
     "iopub.status.busy": "2024-11-06T23:03:54.270161Z",
     "iopub.status.idle": "2024-11-06T23:03:54.445686Z",
     "shell.execute_reply": "2024-11-06T23:03:54.445156Z",
     "shell.execute_reply.started": "2024-11-06T23:03:54.270348Z"
    }
   },
   "outputs": [
    {
     "data": {
      "image/png": "[encoded data removed]",
      "text/plain": [
       "<Figure size 640x480 with 1 Axes>"
      ]
     },
     "metadata": {},
     "output_type": "display_data"
    }
   ],
   "source": [
    "# Convert the Counter object to a DataFrame for plotting\n",
    "df = pd.DataFrame({'Text Length': list(counter.keys()), 'Count': list(counter.values())})\n",
    "\n",
    "# Create the histogram\n",
    "sns.histplot(data=df, x='Text Length', bins=50)\n",
    "plt.xlabel('Text Length')\n",
    "plt.ylabel('Number of Texts')\n",
    "plt.title('Distribution of Text Lengths')\n",
    "plt.show()"
   ]
  },
  {
   "cell_type": "code",
   "execution_count": 7,
   "id": "9a30cd15-9aa2-42d9-ac86-1b33498e12ec",
   "metadata": {
    "execution": {
     "iopub.execute_input": "2024-11-06T23:04:03.020299Z",
     "iopub.status.busy": "2024-11-06T23:04:03.019766Z",
     "iopub.status.idle": "2024-11-06T23:04:03.040243Z",
     "shell.execute_reply": "2024-11-06T23:04:03.039793Z",
     "shell.execute_reply.started": "2024-11-06T23:04:03.020259Z"
    }
   },
   "outputs": [
    {
     "name": "stdout",
     "output_type": "stream",
     "text": [
      "Loaded (3250, 4) ../data/external/hf/conll2003_transformed.validation.csv, df.columns =Index(['text', 'persons', 'locations', 'organizations'], dtype='object')\n"
     ]
    },
    {
     "data": {
      "text/html": [
       "<div>\n",
       "<style scoped>\n",
       "    .dataframe tbody tr th:only-of-type {\n",
       "        vertical-align: middle;\n",
       "    }\n",
       "\n",
       "    .dataframe tbody tr th {\n",
       "        vertical-align: top;\n",
       "    }\n",
       "\n",
       "    .dataframe thead th {\n",
       "        text-align: right;\n",
       "    }\n",
       "</style>\n",
       "<table border=\"1\" class=\"dataframe\">\n",
       "  <thead>\n",
       "    <tr style=\"text-align: right;\">\n",
       "      <th></th>\n",
       "      <th>text</th>\n",
       "      <th>persons</th>\n",
       "      <th>locations</th>\n",
       "      <th>organizations</th>\n",
       "    </tr>\n",
       "  </thead>\n",
       "  <tbody>\n",
       "    <tr>\n",
       "      <th>0</th>\n",
       "      <td>CRICKET - LEICESTERSHIRE TAKE OVER AT TOP AFTE...</td>\n",
       "      <td>NaN</td>\n",
       "      <td>NaN</td>\n",
       "      <td>LEICESTERSHIRE</td>\n",
       "    </tr>\n",
       "  </tbody>\n",
       "</table>\n",
       "</div>"
      ],
      "text/plain": [
       "                                                text persons locations  \\\n",
       "0  CRICKET - LEICESTERSHIRE TAKE OVER AT TOP AFTE...     NaN       NaN   \n",
       "\n",
       "    organizations  \n",
       "0  LEICESTERSHIRE  "
      ]
     },
     "execution_count": 7,
     "metadata": {},
     "output_type": "execute_result"
    }
   ],
   "source": [
    "validation_df = load_data(validation_file_path, usecols=used_columns)\n",
    "validation_df.head(1)"
   ]
  },
  {
   "cell_type": "code",
   "execution_count": 8,
   "id": "55483432-6d55-4477-b4fe-935536377145",
   "metadata": {
    "execution": {
     "iopub.execute_input": "2024-11-06T23:04:03.923604Z",
     "iopub.status.busy": "2024-11-06T23:04:03.923179Z",
     "iopub.status.idle": "2024-11-06T23:04:03.943372Z",
     "shell.execute_reply": "2024-11-06T23:04:03.942805Z",
     "shell.execute_reply.started": "2024-11-06T23:04:03.923572Z"
    }
   },
   "outputs": [
    {
     "name": "stdout",
     "output_type": "stream",
     "text": [
      "Loaded (3453, 4) ../data/external/hf/conll2003_transformed.test.csv, df.columns =Index(['text', 'persons', 'locations', 'organizations'], dtype='object')\n"
     ]
    },
    {
     "data": {
      "text/html": [
       "<div>\n",
       "<style scoped>\n",
       "    .dataframe tbody tr th:only-of-type {\n",
       "        vertical-align: middle;\n",
       "    }\n",
       "\n",
       "    .dataframe tbody tr th {\n",
       "        vertical-align: top;\n",
       "    }\n",
       "\n",
       "    .dataframe thead th {\n",
       "        text-align: right;\n",
       "    }\n",
       "</style>\n",
       "<table border=\"1\" class=\"dataframe\">\n",
       "  <thead>\n",
       "    <tr style=\"text-align: right;\">\n",
       "      <th></th>\n",
       "      <th>text</th>\n",
       "      <th>persons</th>\n",
       "      <th>locations</th>\n",
       "      <th>organizations</th>\n",
       "    </tr>\n",
       "  </thead>\n",
       "  <tbody>\n",
       "    <tr>\n",
       "      <th>0</th>\n",
       "      <td>SOCCER - JAPAN GET LUCKY WIN , CHINA IN SURPRI...</td>\n",
       "      <td>CHINA</td>\n",
       "      <td>JAPAN</td>\n",
       "      <td>NaN</td>\n",
       "    </tr>\n",
       "    <tr>\n",
       "      <th>1</th>\n",
       "      <td>Nadim Ladki</td>\n",
       "      <td>Nadim Ladki</td>\n",
       "      <td>NaN</td>\n",
       "      <td>NaN</td>\n",
       "    </tr>\n",
       "    <tr>\n",
       "      <th>2</th>\n",
       "      <td>AL-AIN , United Arab Emirates 1996-12-06</td>\n",
       "      <td>NaN</td>\n",
       "      <td>AL-AIN;United Arab Emirates</td>\n",
       "      <td>NaN</td>\n",
       "    </tr>\n",
       "    <tr>\n",
       "      <th>3</th>\n",
       "      <td>Japan began the defence of their Asian Cup tit...</td>\n",
       "      <td>NaN</td>\n",
       "      <td>Japan;Syria</td>\n",
       "      <td>NaN</td>\n",
       "    </tr>\n",
       "    <tr>\n",
       "      <th>4</th>\n",
       "      <td>But China saw their luck desert them in the se...</td>\n",
       "      <td>NaN</td>\n",
       "      <td>China;Uzbekistan</td>\n",
       "      <td>NaN</td>\n",
       "    </tr>\n",
       "    <tr>\n",
       "      <th>5</th>\n",
       "      <td>China controlled most of the match and saw sev...</td>\n",
       "      <td>Igor Shkvyrin</td>\n",
       "      <td>China</td>\n",
       "      <td>NaN</td>\n",
       "    </tr>\n",
       "    <tr>\n",
       "      <th>6</th>\n",
       "      <td>Oleg Shatskiku made sure of the win in injury ...</td>\n",
       "      <td>Oleg Shatskiku</td>\n",
       "      <td>NaN</td>\n",
       "      <td>NaN</td>\n",
       "    </tr>\n",
       "    <tr>\n",
       "      <th>7</th>\n",
       "      <td>The former Soviet republic was playing in an A...</td>\n",
       "      <td>NaN</td>\n",
       "      <td>NaN</td>\n",
       "      <td>NaN</td>\n",
       "    </tr>\n",
       "    <tr>\n",
       "      <th>8</th>\n",
       "      <td>Despite winning the Asian Games title two year...</td>\n",
       "      <td>NaN</td>\n",
       "      <td>Uzbekistan</td>\n",
       "      <td>NaN</td>\n",
       "    </tr>\n",
       "    <tr>\n",
       "      <th>9</th>\n",
       "      <td>Two goals from defensive errors in the last si...</td>\n",
       "      <td>NaN</td>\n",
       "      <td>Japan;Syria</td>\n",
       "      <td>NaN</td>\n",
       "    </tr>\n",
       "  </tbody>\n",
       "</table>\n",
       "</div>"
      ],
      "text/plain": [
       "                                                text         persons  \\\n",
       "0  SOCCER - JAPAN GET LUCKY WIN , CHINA IN SURPRI...           CHINA   \n",
       "1                                        Nadim Ladki     Nadim Ladki   \n",
       "2           AL-AIN , United Arab Emirates 1996-12-06             NaN   \n",
       "3  Japan began the defence of their Asian Cup tit...             NaN   \n",
       "4  But China saw their luck desert them in the se...             NaN   \n",
       "5  China controlled most of the match and saw sev...   Igor Shkvyrin   \n",
       "6  Oleg Shatskiku made sure of the win in injury ...  Oleg Shatskiku   \n",
       "7  The former Soviet republic was playing in an A...             NaN   \n",
       "8  Despite winning the Asian Games title two year...             NaN   \n",
       "9  Two goals from defensive errors in the last si...             NaN   \n",
       "\n",
       "                     locations organizations  \n",
       "0                        JAPAN           NaN  \n",
       "1                          NaN           NaN  \n",
       "2  AL-AIN;United Arab Emirates           NaN  \n",
       "3                  Japan;Syria           NaN  \n",
       "4             China;Uzbekistan           NaN  \n",
       "5                        China           NaN  \n",
       "6                          NaN           NaN  \n",
       "7                          NaN           NaN  \n",
       "8                   Uzbekistan           NaN  \n",
       "9                  Japan;Syria           NaN  "
      ]
     },
     "execution_count": 8,
     "metadata": {},
     "output_type": "execute_result"
    }
   ],
   "source": [
    "test_df = load_data(test_file_path, usecols=used_columns)\n",
    "test_df.head(10)"
   ]
  },
  {
   "cell_type": "code",
   "execution_count": 23,
   "id": "521f8230-5afb-45f2-adde-e3784c9f0605",
   "metadata": {
    "execution": {
     "iopub.execute_input": "2024-11-07T00:05:12.165548Z",
     "iopub.status.busy": "2024-11-07T00:05:12.165022Z",
     "iopub.status.idle": "2024-11-07T00:05:12.191950Z",
     "shell.execute_reply": "2024-11-07T00:05:12.191458Z",
     "shell.execute_reply.started": "2024-11-07T00:05:12.165508Z"
    }
   },
   "outputs": [
    {
     "name": "stdout",
     "output_type": "stream",
     "text": [
      "Loaded (14041, 4) ../data/external/hf/conll2003_transformed.train.csv, list(df.columns) =['text', 'persons', 'locations', 'organizations']\n",
      "Loaded (3453, 4) ../data/external/hf/conll2003_transformed.test.csv, list(df.columns) =['text', 'persons', 'locations', 'organizations']\n",
      "Loaded (3250, 4) ../data/external/hf/conll2003_transformed.validation.csv, list(df.columns) =['text', 'persons', 'locations', 'organizations']\n",
      "Summary df: (20744, 4), list(all_df.columns) =['text', 'persons', 'locations', 'organizations']\n"
     ]
    }
   ],
   "source": [
    "# Concatenate all df-s\n",
    "def load_data(file_path, usecols=None, nrows=None):\n",
    "    df = pd.read_csv(file_path, usecols=usecols, nrows=nrows)\n",
    "    print(f\"Loaded {df.shape} {file_path}, {list(df.columns) =}\")\n",
    "    return df\n",
    "    \n",
    "def load_all_data(data_path, used_columns, nrows=None):\n",
    "    suffixes = \"train test validation\".split()\n",
    "    \n",
    "    all_df = pd.concat([load_data(\n",
    "        data_path / f\"conll2003_transformed.{suffix}.csv\",\n",
    "        usecols=used_columns, \n",
    "        nrows=nrows\n",
    "    ) for suffix in suffixes])\n",
    "    print(f\"Summary df: {all_df.shape}, {list(all_df.columns) =}\")\n",
    "    return all_df\n",
    "\n",
    "\n",
    "DATA_PATH = Path('../data/external/hf')\n",
    "used_columns = \"text persons organizations locations\".split()\n",
    "nrows = None\n",
    "df = load_all_data(DATA_PATH, used_columns=used_columns, nrows=nrows)"
   ]
  },
  {
   "cell_type": "markdown",
   "id": "1a3b024a-0804-4a3a-8231-487a6326bcad",
   "metadata": {
    "execution": {
     "iopub.execute_input": "2024-09-05T21:28:46.301211Z",
     "iopub.status.busy": "2024-09-05T21:28:46.300463Z",
     "iopub.status.idle": "2024-09-05T21:28:46.305610Z",
     "shell.execute_reply": "2024-09-05T21:28:46.305226Z",
     "shell.execute_reply.started": "2024-09-05T21:28:46.301147Z"
    }
   },
   "source": [
    "## Data Exploration\n",
    "\n",
    "There are several observations after manually exploring the test data:\n",
    "- several `text` are outliers with length > 350 and < 5\n",
    "- `persons`, `locations`, `organizations` field can hold several values with `;` as a separator\n",
    "- there are duplicated values of `persons`, `locations`, `organizations` in a single row\n",
    "\n",
    "\n",
    "### Deduplication"
   ]
  },
  {
   "cell_type": "code",
   "execution_count": 10,
   "id": "1b738b80-9843-41ad-83b1-d03f80de6bcb",
   "metadata": {
    "execution": {
     "iopub.execute_input": "2024-11-06T23:04:16.895221Z",
     "iopub.status.busy": "2024-11-06T23:04:16.894006Z",
     "iopub.status.idle": "2024-11-06T23:04:16.902974Z",
     "shell.execute_reply": "2024-11-06T23:04:16.902277Z",
     "shell.execute_reply.started": "2024-11-06T23:04:16.895177Z"
    }
   },
   "outputs": [],
   "source": [
    "def duplicate_search(df, column):\n",
    "    \"\"\"Print duplicates\"\"\"\n",
    "    def print_dups(x):\n",
    "         if x:\n",
    "            elements = [str(el.strip()) for el in str(x).split(\";\") if el.strip() != '']\n",
    "            elements_set = set()\n",
    "            diff = { val for val in elements if (val in elements_set or elements_set.add(val)) }\n",
    "            if diff:\n",
    "                res.append(f\"diff: {diff} - {x}\")\n",
    "    res = []\n",
    "    try:\n",
    "        df[column].apply(print_dups)\n",
    "    except AttributeError as ex:\n",
    "        print(x, type(x))\n",
    "        raise ex\n",
    "    return res"
   ]
  },
  {
   "cell_type": "code",
   "execution_count": 11,
   "id": "e2a7c945-2284-4f36-bdfd-b5238f11fe3c",
   "metadata": {
    "execution": {
     "iopub.execute_input": "2024-11-06T23:04:19.665238Z",
     "iopub.status.busy": "2024-11-06T23:04:19.664767Z",
     "iopub.status.idle": "2024-11-06T23:04:19.684928Z",
     "shell.execute_reply": "2024-11-06T23:04:19.684048Z",
     "shell.execute_reply.started": "2024-11-06T23:04:19.665203Z"
    }
   },
   "outputs": [
    {
     "data": {
      "text/plain": [
       "[\"diff: {'Peres'} - Peres;Arafat;Peres\",\n",
       " \"diff: {'Sampras'} - Sampras;Mark Philippoussis;Sampras\",\n",
       " \"diff: {'Brunswijk'} - Brunswijk;Freddy Pinas;Brunswijk;Ro Gajadhar\",\n",
       " \"diff: {'Pinas'} - Pinas;Pinas;Brunswijk\",\n",
       " \"diff: {'Kevorkian'} - Kevorkian;Geoffrey Fieger;Smith;David;James Poland;Kevorkian\",\n",
       " \"diff: {'Springer'} - Driller;Trulsen;Springer;Sobotzik;Max;Thon;Wilmots;Springer\",\n",
       " \"diff: {'Mickelson'} - Mickelson;Mayfair;Mickelson\",\n",
       " \"diff: {'Mickelson'} - Mickelson;Mickelson;Mayfair\",\n",
       " \"diff: {'Agassi'} - Agassi;Stich;Agassi\",\n",
       " \"diff: {'Dole'} - Gore;Dole;Gingrich;Jack Kemp;Dole\"]"
      ]
     },
     "execution_count": 11,
     "metadata": {},
     "output_type": "execute_result"
    }
   ],
   "source": [
    "duplicate_search(all_df, \"persons\")[:10]"
   ]
  },
  {
   "cell_type": "markdown",
   "id": "eafb807f-f467-4be0-916b-1346b6ad3ee5",
   "metadata": {},
   "source": [
    "#### Conclusions\n",
    "\n",
    "My assumption is to remove duplicates only when we calculate evaluation metrics. It doesn't make a big difference if we have found a single name or two such names. In most use cases, we need to find a name, but one or more times it doesn't matter.\n",
    "Still, I will deduplicate names only when I evaluate results. I do not remove duplicates in the data preprocessing stage."
   ]
  },
  {
   "cell_type": "markdown",
   "id": "82516faf-fef5-4660-9f21-2f586f1192f0",
   "metadata": {},
   "source": [
    "## NE extraction"
   ]
  },
  {
   "cell_type": "code",
   "execution_count": 12,
   "id": "9be6de4a-4342-4b26-8c91-67754a875766",
   "metadata": {
    "execution": {
     "iopub.execute_input": "2024-11-06T23:04:42.308777Z",
     "iopub.status.busy": "2024-11-06T23:04:42.308235Z",
     "iopub.status.idle": "2024-11-06T23:04:42.317797Z",
     "shell.execute_reply": "2024-11-06T23:04:42.317253Z",
     "shell.execute_reply.started": "2024-11-06T23:04:42.308733Z"
    }
   },
   "outputs": [],
   "source": [
    "def load_model():\n",
    "    model_name = \"dslim/bert-base-NER\"  # Pre-trained BERT model for NER\n",
    "    tokenizer = BertTokenizer.from_pretrained(model_name)\n",
    "    model = BertForTokenClassification.from_pretrained(model_name)\n",
    "    return tokenizer, model\n",
    "\n",
    "# Predict entities using Hugging Face NER pipeline\n",
    "def predict_entities_with_hf(texts, tokenizer, model):\n",
    "    ner_pipeline = pipeline(\"ner\", model=model, tokenizer=tokenizer, aggregation_strategy=\"simple\") #, device=0)\n",
    "    predictions = [ner_pipeline(text) for text in texts]\n",
    "    return predictions\n",
    "\n",
    "# Post-process predictions and extract persons, organizations, and locations\n",
    "def extract_entities(predictions):\n",
    "    persons, organizations, locations = [], [], []\n",
    "\n",
    "    for pred in predictions:\n",
    "        person_set, org_set, loc_set = set(), set(), set()\n",
    "        for entity in pred:\n",
    "            if entity['entity_group'] == 'PER':\n",
    "                person_set.add(entity['word'])\n",
    "            elif entity['entity_group'] == 'ORG':\n",
    "                org_set.add(entity['word'])\n",
    "            elif entity['entity_group'] == 'LOC':\n",
    "                loc_set.add(entity['word'])\n",
    "        persons.append(\";\".join(person_set))\n",
    "        organizations.append(\";\".join(org_set))\n",
    "        locations.append(\";\".join(loc_set))\n",
    "\n",
    "    return persons, organizations, locations\n",
    "\n",
    "def predict_entities(df, tokenizer, model):\n",
    "    texts = df['text']\n",
    "    predictions = predict_entities_with_hf(texts, tokenizer, model)\n",
    "    persons, organizations, locations = extract_entities(predictions)\n",
    "    df.loc[:, \"persons_pred\"] = persons\n",
    "    df.loc[:, \"organizations_pred\"] = organizations\n",
    "    df.loc[:, \"locations_pred\"] = locations\n",
    "    return df    "
   ]
  },
  {
   "cell_type": "code",
   "execution_count": 13,
   "id": "dd97573d-42fa-4784-a206-aa8b9bb3387e",
   "metadata": {
    "execution": {
     "iopub.execute_input": "2024-11-06T23:04:45.637891Z",
     "iopub.status.busy": "2024-11-06T23:04:45.637670Z",
     "iopub.status.idle": "2024-11-06T23:04:46.231402Z",
     "shell.execute_reply": "2024-11-06T23:04:46.230575Z",
     "shell.execute_reply.started": "2024-11-06T23:04:45.637876Z"
    }
   },
   "outputs": [
    {
     "name": "stderr",
     "output_type": "stream",
     "text": [
      "Some weights of the model checkpoint at dslim/bert-base-NER were not used when initializing BertForTokenClassification: ['bert.pooler.dense.bias', 'bert.pooler.dense.weight']\n",
      "- This IS expected if you are initializing BertForTokenClassification from the checkpoint of a model trained on another task or with another architecture (e.g. initializing a BertForSequenceClassification model from a BertForPreTraining model).\n",
      "- This IS NOT expected if you are initializing BertForTokenClassification from the checkpoint of a model that you expect to be exactly identical (initializing a BertForSequenceClassification model from a BertForSequenceClassification model).\n"
     ]
    },
    {
     "data": {
      "text/plain": [
       "(BertTokenizer(name_or_path='dslim/bert-base-NER', vocab_size=28996, model_max_length=512, is_fast=False, padding_side='right', truncation_side='right', special_tokens={'unk_token': '[UNK]', 'sep_token': '[SEP]', 'pad_token': '[PAD]', 'cls_token': '[CLS]', 'mask_token': '[MASK]'}, clean_up_tokenization_spaces=True),  added_tokens_decoder={\n",
       " \t0: AddedToken(\"[PAD]\", rstrip=False, lstrip=False, single_word=False, normalized=False, special=True),\n",
       " \t100: AddedToken(\"[UNK]\", rstrip=False, lstrip=False, single_word=False, normalized=False, special=True),\n",
       " \t101: AddedToken(\"[CLS]\", rstrip=False, lstrip=False, single_word=False, normalized=False, special=True),\n",
       " \t102: AddedToken(\"[SEP]\", rstrip=False, lstrip=False, single_word=False, normalized=False, special=True),\n",
       " \t103: AddedToken(\"[MASK]\", rstrip=False, lstrip=False, single_word=False, normalized=False, special=True),\n",
       " },\n",
       " BertForTokenClassification(\n",
       "   (bert): BertModel(\n",
       "     (embeddings): BertEmbeddings(\n",
       "       (word_embeddings): Embedding(28996, 768, padding_idx=0)\n",
       "       (position_embeddings): Embedding(512, 768)\n",
       "       (token_type_embeddings): Embedding(2, 768)\n",
       "       (LayerNorm): LayerNorm((768,), eps=1e-12, elementwise_affine=True)\n",
       "       (dropout): Dropout(p=0.1, inplace=False)\n",
       "     )\n",
       "     (encoder): BertEncoder(\n",
       "       (layer): ModuleList(\n",
       "         (0-11): 12 x BertLayer(\n",
       "           (attention): BertAttention(\n",
       "             (self): BertSdpaSelfAttention(\n",
       "               (query): Linear(in_features=768, out_features=768, bias=True)\n",
       "               (key): Linear(in_features=768, out_features=768, bias=True)\n",
       "               (value): Linear(in_features=768, out_features=768, bias=True)\n",
       "               (dropout): Dropout(p=0.1, inplace=False)\n",
       "             )\n",
       "             (output): BertSelfOutput(\n",
       "               (dense): Linear(in_features=768, out_features=768, bias=True)\n",
       "               (LayerNorm): LayerNorm((768,), eps=1e-12, elementwise_affine=True)\n",
       "               (dropout): Dropout(p=0.1, inplace=False)\n",
       "             )\n",
       "           )\n",
       "           (intermediate): BertIntermediate(\n",
       "             (dense): Linear(in_features=768, out_features=3072, bias=True)\n",
       "             (intermediate_act_fn): GELUActivation()\n",
       "           )\n",
       "           (output): BertOutput(\n",
       "             (dense): Linear(in_features=3072, out_features=768, bias=True)\n",
       "             (LayerNorm): LayerNorm((768,), eps=1e-12, elementwise_affine=True)\n",
       "             (dropout): Dropout(p=0.1, inplace=False)\n",
       "           )\n",
       "         )\n",
       "       )\n",
       "     )\n",
       "   )\n",
       "   (dropout): Dropout(p=0.1, inplace=False)\n",
       "   (classifier): Linear(in_features=768, out_features=9, bias=True)\n",
       " ))"
      ]
     },
     "execution_count": 13,
     "metadata": {},
     "output_type": "execute_result"
    }
   ],
   "source": [
    "tokenizer, model = load_model()\n",
    "tokenizer, model"
   ]
  },
  {
   "cell_type": "code",
   "execution_count": 14,
   "id": "d43d212d-9b68-482c-9381-c75f25efd2e7",
   "metadata": {
    "execution": {
     "iopub.execute_input": "2024-11-06T23:04:50.492805Z",
     "iopub.status.busy": "2024-11-06T23:04:50.492499Z",
     "iopub.status.idle": "2024-11-06T23:04:52.691762Z",
     "shell.execute_reply": "2024-11-06T23:04:52.691218Z",
     "shell.execute_reply.started": "2024-11-06T23:04:50.492782Z"
    }
   },
   "outputs": [
    {
     "name": "stderr",
     "output_type": "stream",
     "text": [
      "/home/leo/.local/lib/python3.10/site-packages/torch/cuda/__init__.py:128: UserWarning: CUDA initialization: CUDA unknown error - this may be due to an incorrectly set up environment, e.g. changing env variable CUDA_VISIBLE_DEVICES after program start. Setting the available devices to be zero. (Triggered internally at ../c10/cuda/CUDAFunctions.cpp:108.)\n",
      "  return torch._C._cuda_getDeviceCount() > 0\n"
     ]
    },
    {
     "name": "stdout",
     "output_type": "stream",
     "text": [
      "(10, 7)\n"
     ]
    },
    {
     "name": "stderr",
     "output_type": "stream",
     "text": [
      "/tmp/ipykernel_455406/962104515.py:36: SettingWithCopyWarning: \n",
      "A value is trying to be set on a copy of a slice from a DataFrame.\n",
      "Try using .loc[row_indexer,col_indexer] = value instead\n",
      "\n",
      "See the caveats in the documentation: https://pandas.pydata.org/pandas-docs/stable/user_guide/indexing.html#returning-a-view-versus-a-copy\n",
      "  df.loc[:, \"persons_pred\"] = persons\n",
      "/tmp/ipykernel_455406/962104515.py:37: SettingWithCopyWarning: \n",
      "A value is trying to be set on a copy of a slice from a DataFrame.\n",
      "Try using .loc[row_indexer,col_indexer] = value instead\n",
      "\n",
      "See the caveats in the documentation: https://pandas.pydata.org/pandas-docs/stable/user_guide/indexing.html#returning-a-view-versus-a-copy\n",
      "  df.loc[:, \"organizations_pred\"] = organizations\n",
      "/tmp/ipykernel_455406/962104515.py:38: SettingWithCopyWarning: \n",
      "A value is trying to be set on a copy of a slice from a DataFrame.\n",
      "Try using .loc[row_indexer,col_indexer] = value instead\n",
      "\n",
      "See the caveats in the documentation: https://pandas.pydata.org/pandas-docs/stable/user_guide/indexing.html#returning-a-view-versus-a-copy\n",
      "  df.loc[:, \"locations_pred\"] = locations\n"
     ]
    },
    {
     "data": {
      "text/html": [
       "<div>\n",
       "<style scoped>\n",
       "    .dataframe tbody tr th:only-of-type {\n",
       "        vertical-align: middle;\n",
       "    }\n",
       "\n",
       "    .dataframe tbody tr th {\n",
       "        vertical-align: top;\n",
       "    }\n",
       "\n",
       "    .dataframe thead th {\n",
       "        text-align: right;\n",
       "    }\n",
       "</style>\n",
       "<table border=\"1\" class=\"dataframe\">\n",
       "  <thead>\n",
       "    <tr style=\"text-align: right;\">\n",
       "      <th></th>\n",
       "      <th>text</th>\n",
       "      <th>persons</th>\n",
       "      <th>locations</th>\n",
       "      <th>organizations</th>\n",
       "      <th>persons_pred</th>\n",
       "      <th>organizations_pred</th>\n",
       "      <th>locations_pred</th>\n",
       "    </tr>\n",
       "  </thead>\n",
       "  <tbody>\n",
       "    <tr>\n",
       "      <th>0</th>\n",
       "      <td>EU rejects German call to boycott British lamb .</td>\n",
       "      <td>NaN</td>\n",
       "      <td>NaN</td>\n",
       "      <td>EU</td>\n",
       "      <td></td>\n",
       "      <td>EU</td>\n",
       "      <td></td>\n",
       "    </tr>\n",
       "    <tr>\n",
       "      <th>1</th>\n",
       "      <td>Peter Blackburn</td>\n",
       "      <td>Peter Blackburn</td>\n",
       "      <td>NaN</td>\n",
       "      <td>NaN</td>\n",
       "      <td>Peter Blackburn</td>\n",
       "      <td></td>\n",
       "      <td></td>\n",
       "    </tr>\n",
       "    <tr>\n",
       "      <th>2</th>\n",
       "      <td>BRUSSELS 1996-08-22</td>\n",
       "      <td>NaN</td>\n",
       "      <td>BRUSSELS</td>\n",
       "      <td>NaN</td>\n",
       "      <td></td>\n",
       "      <td></td>\n",
       "      <td>BRUSSELS</td>\n",
       "    </tr>\n",
       "    <tr>\n",
       "      <th>3</th>\n",
       "      <td>The European Commission said on Thursday it di...</td>\n",
       "      <td>NaN</td>\n",
       "      <td>NaN</td>\n",
       "      <td>European Commission</td>\n",
       "      <td></td>\n",
       "      <td>European Commission</td>\n",
       "      <td></td>\n",
       "    </tr>\n",
       "    <tr>\n",
       "      <th>4</th>\n",
       "      <td>Germany 's representative to the European Unio...</td>\n",
       "      <td>Werner Zwingmann</td>\n",
       "      <td>Germany;Britain</td>\n",
       "      <td>European Union</td>\n",
       "      <td>Werner Zwingmann</td>\n",
       "      <td>European Union</td>\n",
       "      <td>Germany;Britain</td>\n",
       "    </tr>\n",
       "  </tbody>\n",
       "</table>\n",
       "</div>"
      ],
      "text/plain": [
       "                                                text           persons  \\\n",
       "0   EU rejects German call to boycott British lamb .               NaN   \n",
       "1                                    Peter Blackburn   Peter Blackburn   \n",
       "2                                BRUSSELS 1996-08-22               NaN   \n",
       "3  The European Commission said on Thursday it di...               NaN   \n",
       "4  Germany 's representative to the European Unio...  Werner Zwingmann   \n",
       "\n",
       "         locations        organizations      persons_pred  \\\n",
       "0              NaN                   EU                     \n",
       "1              NaN                  NaN   Peter Blackburn   \n",
       "2         BRUSSELS                  NaN                     \n",
       "3              NaN  European Commission                     \n",
       "4  Germany;Britain       European Union  Werner Zwingmann   \n",
       "\n",
       "    organizations_pred   locations_pred  \n",
       "0                   EU                   \n",
       "1                                        \n",
       "2                              BRUSSELS  \n",
       "3  European Commission                   \n",
       "4       European Union  Germany;Britain  "
      ]
     },
     "execution_count": 14,
     "metadata": {},
     "output_type": "execute_result"
    }
   ],
   "source": [
    "rows = 10\n",
    "debug_df = all_df[:rows]\n",
    "predictions = predict_entities(debug_df, tokenizer, model)\n",
    "print(predictions.shape)\n",
    "predictions.head()"
   ]
  },
  {
   "cell_type": "code",
   "execution_count": 15,
   "id": "c7fe0e1a-80d7-42f4-9098-4094870161c7",
   "metadata": {
    "execution": {
     "iopub.execute_input": "2024-11-06T23:05:11.650071Z",
     "iopub.status.busy": "2024-11-06T23:05:11.649530Z",
     "iopub.status.idle": "2024-11-06T23:13:27.955942Z",
     "shell.execute_reply": "2024-11-06T23:13:27.955435Z",
     "shell.execute_reply.started": "2024-11-06T23:05:11.650035Z"
    }
   },
   "outputs": [
    {
     "name": "stdout",
     "output_type": "stream",
     "text": [
      "(20744, 7)\n"
     ]
    }
   ],
   "source": [
    "predictions_df = predict_entities(all_df, tokenizer, model)\n",
    "print(predictions_df.shape)"
   ]
  },
  {
   "cell_type": "code",
   "execution_count": 62,
   "id": "65d94a8d-1765-4367-ad6d-56c9ea58f4b1",
   "metadata": {
    "execution": {
     "iopub.execute_input": "2024-11-01T03:57:47.405080Z",
     "iopub.status.busy": "2024-11-01T03:57:47.404916Z",
     "iopub.status.idle": "2024-11-01T03:57:47.410797Z",
     "shell.execute_reply": "2024-11-01T03:57:47.410432Z",
     "shell.execute_reply.started": "2024-11-01T03:57:47.405065Z"
    }
   },
   "outputs": [
    {
     "data": {
      "text/html": [
       "<div>\n",
       "<style scoped>\n",
       "    .dataframe tbody tr th:only-of-type {\n",
       "        vertical-align: middle;\n",
       "    }\n",
       "\n",
       "    .dataframe tbody tr th {\n",
       "        vertical-align: top;\n",
       "    }\n",
       "\n",
       "    .dataframe thead th {\n",
       "        text-align: right;\n",
       "    }\n",
       "</style>\n",
       "<table border=\"1\" class=\"dataframe\">\n",
       "  <thead>\n",
       "    <tr style=\"text-align: right;\">\n",
       "      <th></th>\n",
       "      <th>text</th>\n",
       "      <th>persons</th>\n",
       "      <th>locations</th>\n",
       "      <th>organizations</th>\n",
       "      <th>persons_pred</th>\n",
       "      <th>organizations_pred</th>\n",
       "      <th>locations_pred</th>\n",
       "    </tr>\n",
       "  </thead>\n",
       "  <tbody>\n",
       "    <tr>\n",
       "      <th>0</th>\n",
       "      <td>EU rejects German call to boycott British lamb .</td>\n",
       "      <td>NaN</td>\n",
       "      <td>NaN</td>\n",
       "      <td>EU</td>\n",
       "      <td></td>\n",
       "      <td>EU</td>\n",
       "      <td></td>\n",
       "    </tr>\n",
       "    <tr>\n",
       "      <th>1</th>\n",
       "      <td>Peter Blackburn</td>\n",
       "      <td>Peter Blackburn</td>\n",
       "      <td>NaN</td>\n",
       "      <td>NaN</td>\n",
       "      <td>Peter Blackburn</td>\n",
       "      <td></td>\n",
       "      <td></td>\n",
       "    </tr>\n",
       "    <tr>\n",
       "      <th>2</th>\n",
       "      <td>BRUSSELS 1996-08-22</td>\n",
       "      <td>NaN</td>\n",
       "      <td>BRUSSELS</td>\n",
       "      <td>NaN</td>\n",
       "      <td></td>\n",
       "      <td></td>\n",
       "      <td>BRUSSELS</td>\n",
       "    </tr>\n",
       "    <tr>\n",
       "      <th>3</th>\n",
       "      <td>The European Commission said on Thursday it di...</td>\n",
       "      <td>NaN</td>\n",
       "      <td>NaN</td>\n",
       "      <td>European Commission</td>\n",
       "      <td></td>\n",
       "      <td>European Commission</td>\n",
       "      <td></td>\n",
       "    </tr>\n",
       "    <tr>\n",
       "      <th>4</th>\n",
       "      <td>Germany 's representative to the European Unio...</td>\n",
       "      <td>Werner Zwingmann</td>\n",
       "      <td>Germany;Britain</td>\n",
       "      <td>European Union</td>\n",
       "      <td>Werner Zwingmann</td>\n",
       "      <td>European Union</td>\n",
       "      <td>Germany;Britain</td>\n",
       "    </tr>\n",
       "  </tbody>\n",
       "</table>\n",
       "</div>"
      ],
      "text/plain": [
       "                                                text           persons  \\\n",
       "0   EU rejects German call to boycott British lamb .               NaN   \n",
       "1                                    Peter Blackburn   Peter Blackburn   \n",
       "2                                BRUSSELS 1996-08-22               NaN   \n",
       "3  The European Commission said on Thursday it di...               NaN   \n",
       "4  Germany 's representative to the European Unio...  Werner Zwingmann   \n",
       "\n",
       "         locations        organizations      persons_pred  \\\n",
       "0              NaN                   EU                     \n",
       "1              NaN                  NaN   Peter Blackburn   \n",
       "2         BRUSSELS                  NaN                     \n",
       "3              NaN  European Commission                     \n",
       "4  Germany;Britain       European Union  Werner Zwingmann   \n",
       "\n",
       "    organizations_pred   locations_pred  \n",
       "0                   EU                   \n",
       "1                                        \n",
       "2                              BRUSSELS  \n",
       "3  European Commission                   \n",
       "4       European Union  Germany;Britain  "
      ]
     },
     "execution_count": 62,
     "metadata": {},
     "output_type": "execute_result"
    }
   ],
   "source": [
    "predictions_df.head()"
   ]
  },
  {
   "cell_type": "markdown",
   "id": "3d023bff-8cdc-42c4-a25a-6f39dcf4e117",
   "metadata": {
    "jp-MarkdownHeadingCollapsed": true
   },
   "source": [
    "## Evaluation (Deprecated)\n",
    "\n",
    "I will try to use evaluation method from the Hugging Face `evaluate` package."
   ]
  },
  {
   "cell_type": "code",
   "execution_count": 87,
   "id": "8b3a8a3e-a137-46a9-ba53-4548ec1253c4",
   "metadata": {
    "collapsed": true,
    "execution": {
     "iopub.execute_input": "2024-09-05T23:47:22.573068Z",
     "iopub.status.busy": "2024-09-05T23:47:22.572458Z",
     "iopub.status.idle": "2024-09-05T23:47:27.260063Z",
     "shell.execute_reply": "2024-09-05T23:47:27.257492Z",
     "shell.execute_reply.started": "2024-09-05T23:47:22.573031Z"
    },
    "jupyter": {
     "outputs_hidden": true
    }
   },
   "outputs": [
    {
     "name": "stdout",
     "output_type": "stream",
     "text": [
      "Defaulting to user installation because normal site-packages is not writeable\n",
      "Collecting seqeval\n",
      "  Downloading seqeval-1.2.2.tar.gz (43 kB)\n",
      "  Preparing metadata (setup.py) ... \u001b[?25ldone\n",
      "\u001b[?25hRequirement already satisfied: numpy>=1.14.0 in /home/leo/.local/lib/python3.10/site-packages (from seqeval) (1.26.4)\n",
      "Requirement already satisfied: scikit-learn>=0.21.3 in /home/leo/.local/lib/python3.10/site-packages (from seqeval) (1.5.1)\n",
      "Requirement already satisfied: scipy>=1.6.0 in /home/leo/.local/lib/python3.10/site-packages (from scikit-learn>=0.21.3->seqeval) (1.10.1)\n",
      "Requirement already satisfied: joblib>=1.2.0 in /home/leo/.local/lib/python3.10/site-packages (from scikit-learn>=0.21.3->seqeval) (1.3.2)\n",
      "Requirement already satisfied: threadpoolctl>=3.1.0 in /home/leo/.local/lib/python3.10/site-packages (from scikit-learn>=0.21.3->seqeval) (3.1.0)\n",
      "Building wheels for collected packages: seqeval\n",
      "  Building wheel for seqeval (setup.py) ... \u001b[?25ldone\n",
      "\u001b[?25h  Created wheel for seqeval: filename=seqeval-1.2.2-py3-none-any.whl size=16165 sha256=21390d2efc54416bb00b0d97471a08d33bf3ef0d0eab734d1e9124db240c3d60\n",
      "  Stored in directory: /home/leo/.cache/pip/wheels/1a/67/4a/ad4082dd7dfc30f2abfe4d80a2ed5926a506eb8a972b4767fa\n",
      "Successfully built seqeval\n",
      "Installing collected packages: seqeval\n",
      "Successfully installed seqeval-1.2.2\n"
     ]
    }
   ],
   "source": [
    "!pip install seqeval"
   ]
  },
  {
   "cell_type": "code",
   "execution_count": 93,
   "id": "ca64cc24-017b-45a7-a04d-c46b75870e77",
   "metadata": {
    "execution": {
     "iopub.execute_input": "2024-09-05T23:51:08.232736Z",
     "iopub.status.busy": "2024-09-05T23:51:08.230941Z",
     "iopub.status.idle": "2024-09-05T23:51:08.247542Z",
     "shell.execute_reply": "2024-09-05T23:51:08.246845Z",
     "shell.execute_reply.started": "2024-09-05T23:51:08.232640Z"
    }
   },
   "outputs": [],
   "source": [
    "import evaluate as hf_evaluate\n",
    "\n",
    "# Refactored evaluate function using Hugging Face's evaluate package\n",
    "def evaluate_ner(df, persons_pred, orgs_pred, locs_pred):\n",
    "    # Initialize the seqeval metric\n",
    "    seqeval_metric = hf_evaluate.load(\"seqeval\")\n",
    "\n",
    "    # Prepare true labels (split multi-entity strings by ';')\n",
    "    persons_true = [p.split(\";\") if p is not None and not p else [] for p in df[\"persons\"]]\n",
    "    orgs_true = [o.split(\";\") if o is not None and not o else [] for o in df[\"organizations\"]]\n",
    "    locs_true = [l.split(\";\") if l is not None and not l else [] for l in df[\"locations\"]]\n",
    "\n",
    "    # Evaluate persons\n",
    "    person_results = seqeval_metric.compute(predictions=[p.split(\";\") for p in persons_pred],\n",
    "                                            references=persons_true)\n",
    "    print(\"Persons F1 Score:\", person_results[\"overall_f1\"])\n",
    "\n",
    "    # Evaluate organizations\n",
    "    org_results = seqeval_metric.compute(predictions=[o.split(\";\") for o in orgs_pred],\n",
    "                                         references=orgs_true)\n",
    "    print(\"Organizations F1 Score:\", org_results[\"overall_f1\"])\n",
    "\n",
    "    # Evaluate locations\n",
    "    loc_results = seqeval_metric.compute(predictions=[l.split(\";\") for l in locs_pred],\n",
    "                                         references=locs_true)\n",
    "    print(\"Locations F1 Score:\", loc_results[\"overall_f1\"])\n",
    "\n",
    "    return {\n",
    "        \"persons_f1\": person_results[\"overall_f1\"],\n",
    "        \"organizations_f1\": org_results[\"overall_f1\"],\n",
    "        \"locations_f1\": loc_results[\"overall_f1\"]\n",
    "    }"
   ]
  },
  {
   "cell_type": "code",
   "execution_count": null,
   "id": "7c297f17-e956-480e-b232-cd5e880a35c6",
   "metadata": {},
   "outputs": [],
   "source": [
    "evaluate_ner(df, persons_pred=persons, orgs_pred=organizations, locs_pred=locations)"
   ]
  },
  {
   "cell_type": "code",
   "execution_count": 101,
   "id": "ba8e7bee-363f-4d73-8a6e-d923eb1add64",
   "metadata": {
    "execution": {
     "iopub.execute_input": "2024-09-06T00:13:36.419382Z",
     "iopub.status.busy": "2024-09-06T00:13:36.418943Z",
     "iopub.status.idle": "2024-09-06T00:13:36.425096Z",
     "shell.execute_reply": "2024-09-06T00:13:36.424676Z",
     "shell.execute_reply.started": "2024-09-06T00:13:36.419350Z"
    }
   },
   "outputs": [],
   "source": [
    "# Using sklearn\n",
    "\n",
    "from sklearn.metrics import precision_recall_fscore_support\n",
    "\n",
    "# Helper function to flatten the list of predictions and true labels\n",
    "def flatten_labels(preds, refs):\n",
    "    \"\"\"\n",
    "    Flatten the predictions and references (true labels) for evaluation.\n",
    "    We create a flat list of labels for multi-label classification.\n",
    "    \"\"\"\n",
    "    flat_preds = [entity for sublist in preds for entity in sublist]\n",
    "    flat_refs = [entity for sublist in refs for entity in sublist]\n",
    "    return flat_preds, flat_refs\n",
    "\n",
    "# Refactored evaluate function using scikit-learn's precision_recall_fscore_support\n",
    "def evaluate_ner(df, persons_pred, orgs_pred, locs_pred):\n",
    "    # Prepare true labels (split multi-entity strings by ';')\n",
    "    persons_true = [p.split(\";\") if p is not None else [] for p in df[\"persons\"]]\n",
    "    orgs_true = [o.split(\";\") if o is not None else [] for o in df[\"organizations\"]]\n",
    "    locs_true = [l.split(\";\") if l is not None else [] for l in df[\"locations\"]]\n",
    "    \n",
    "    print(persons_pred[:5])\n",
    "    print(persons_true[:5])\n",
    "\n",
    "    # Flatten the lists for scikit-learn evaluation\n",
    "    persons_flat_pred, persons_flat_true = flatten_labels(persons_pred, persons_true)\n",
    "    orgs_flat_pred, orgs_flat_true = flatten_labels(orgs_pred, orgs_true)\n",
    "    locs_flat_pred, locs_flat_true = flatten_labels(locs_pred, locs_true)\n",
    "\n",
    "    print(persons_flat_pred[:5])\n",
    "    print(persons_flat_true[:5])\n",
    "    # Evaluate persons\n",
    "    persons_metrics = precision_recall_fscore_support(persons_flat_true, persons_flat_pred, average='weighted')\n",
    "    print(\"Persons - Precision: {:.2f}, Recall: {:.2f}, F1-Score: {:.2f}\".format(*persons_metrics[:3]))\n",
    "\n",
    "    # Evaluate organizations\n",
    "    orgs_metrics = precision_recall_fscore_support(orgs_flat_true, orgs_flat_pred, average='weighted')\n",
    "    print(\"Organizations - Precision: {:.2f}, Recall: {:.2f}, F1-Score: {:.2f}\".format(*orgs_metrics[:3]))\n",
    "\n",
    "    # Evaluate locations\n",
    "    locs_metrics = precision_recall_fscore_support(locs_flat_true, locs_flat_pred, average='weighted')\n",
    "    print(\"Locations - Precision: {:.2f}, Recall: {:.2f}, F1-Score: {:.2f}\".format(*locs_metrics[:3]))\n",
    "\n",
    "    return {\n",
    "        \"persons_precision\": persons_metrics[0],\n",
    "        \"persons_recall\": persons_metrics[1],\n",
    "        \"persons_f1\": persons_metrics[2],\n",
    "        \"organizations_precision\": orgs_metrics[0],\n",
    "        \"organizations_recall\": orgs_metrics[1],\n",
    "        \"organizations_f1\": orgs_metrics[2],\n",
    "        \"locations_precision\": locs_metrics[0],\n",
    "        \"locations_recall\": locs_metrics[1],\n",
    "        \"locations_f1\": locs_metrics[2],\n",
    "    }\n"
   ]
  },
  {
   "cell_type": "code",
   "execution_count": 102,
   "id": "d1e32e63-8241-4ab0-8480-9d489d7037ad",
   "metadata": {
    "execution": {
     "iopub.execute_input": "2024-09-06T00:13:38.940967Z",
     "iopub.status.busy": "2024-09-06T00:13:38.940751Z",
     "iopub.status.idle": "2024-09-06T00:13:38.944481Z",
     "shell.execute_reply": "2024-09-06T00:13:38.944117Z",
     "shell.execute_reply.started": "2024-09-06T00:13:38.940953Z"
    }
   },
   "outputs": [
    {
     "data": {
      "text/plain": [
       "['Andrew Clyde;Kelly;Louie Gohmert;Lloyd Smucker;Trump;Timothy Kelly',\n",
       " 'Nicole Carroll;Haynes Boone;Rob;Laura Lee Prather',\n",
       " 'Matt Zeller;Kate Bolduan;Jon Stewart;Chuck Schum;Stewart;Zeller',\n",
       " 'Andrew Clyde;Kelly;Louie Gohmert;Lloyd Smucker;Trump;Timothy Kelly',\n",
       " 'Jake;Paul LeB;Pat Toomey;Too']"
      ]
     },
     "execution_count": 102,
     "metadata": {},
     "output_type": "execute_result"
    }
   ],
   "source": [
    "persons[:5]"
   ]
  },
  {
   "cell_type": "code",
   "execution_count": 103,
   "id": "0cdc60ab-cfc5-472b-b389-b0d9dd8f83d5",
   "metadata": {
    "collapsed": true,
    "execution": {
     "iopub.execute_input": "2024-09-06T00:13:45.537874Z",
     "iopub.status.busy": "2024-09-06T00:13:45.537377Z",
     "iopub.status.idle": "2024-09-06T00:13:45.598307Z",
     "shell.execute_reply": "2024-09-06T00:13:45.597469Z",
     "shell.execute_reply.started": "2024-09-06T00:13:45.537834Z"
    },
    "jupyter": {
     "outputs_hidden": true
    }
   },
   "outputs": [
    {
     "name": "stdout",
     "output_type": "stream",
     "text": [
      "['Andrew Clyde;Kelly;Louie Gohmert;Lloyd Smucker;Trump;Timothy Kelly', 'Nicole Carroll;Haynes Boone;Rob;Laura Lee Prather', 'Matt Zeller;Kate Bolduan;Jon Stewart;Chuck Schum;Stewart;Zeller', 'Andrew Clyde;Kelly;Louie Gohmert;Lloyd Smucker;Trump;Timothy Kelly', 'Jake;Paul LeB;Pat Toomey;Too']\n",
      "[['Louie Gohmert', 'Timothy Kelly', 'Andrew Clyde', 'Lloyd Smucker'], ['Laura Lee Prather', 'Haynes Boone', 'Nicole Carroll'], ['Pat Toomey', 'Kate Bolduan', 'Matt Zeller', 'Jon Stewart'], ['Louie Gohmert', 'Timothy Kelly', 'Andrew Clyde', 'Lloyd Smucker'], ['Pat Toomey', 'Joe Manchin', 'Paul Leblanc', 'Jake Tapper', 'Matt Zeller', 'Denis Mcdonough']]\n",
      "['A', 'n', 'd', 'r', 'e']\n",
      "['Louie Gohmert', 'Timothy Kelly', 'Andrew Clyde', 'Lloyd Smucker', 'Laura Lee Prather']\n"
     ]
    },
    {
     "ename": "ValueError",
     "evalue": "Found input variables with inconsistent numbers of samples: [4170, 34663]",
     "output_type": "error",
     "traceback": [
      "\u001b[0;31m---------------------------------------------------------------------------\u001b[0m",
      "\u001b[0;31mValueError\u001b[0m                                Traceback (most recent call last)",
      "Cell \u001b[0;32mIn[103], line 1\u001b[0m\n\u001b[0;32m----> 1\u001b[0m metrics \u001b[38;5;241m=\u001b[39m \u001b[43mevaluate_ner\u001b[49m\u001b[43m(\u001b[49m\u001b[43mdf\u001b[49m\u001b[43m,\u001b[49m\u001b[43m \u001b[49m\u001b[43mpersons_pred\u001b[49m\u001b[38;5;241;43m=\u001b[39;49m\u001b[43mpersons\u001b[49m\u001b[43m,\u001b[49m\u001b[43m \u001b[49m\u001b[43morgs_pred\u001b[49m\u001b[38;5;241;43m=\u001b[39;49m\u001b[43morganizations\u001b[49m\u001b[43m,\u001b[49m\u001b[43m \u001b[49m\u001b[43mlocs_pred\u001b[49m\u001b[38;5;241;43m=\u001b[39;49m\u001b[43mlocations\u001b[49m\u001b[43m)\u001b[49m\n\u001b[1;32m      2\u001b[0m \u001b[38;5;28mprint\u001b[39m(metrics)\n",
      "Cell \u001b[0;32mIn[101], line 33\u001b[0m, in \u001b[0;36mevaluate_ner\u001b[0;34m(df, persons_pred, orgs_pred, locs_pred)\u001b[0m\n\u001b[1;32m     31\u001b[0m \u001b[38;5;28mprint\u001b[39m(persons_flat_true[:\u001b[38;5;241m5\u001b[39m])\n\u001b[1;32m     32\u001b[0m \u001b[38;5;66;03m# Evaluate persons\u001b[39;00m\n\u001b[0;32m---> 33\u001b[0m persons_metrics \u001b[38;5;241m=\u001b[39m \u001b[43mprecision_recall_fscore_support\u001b[49m\u001b[43m(\u001b[49m\u001b[43mpersons_flat_true\u001b[49m\u001b[43m,\u001b[49m\u001b[43m \u001b[49m\u001b[43mpersons_flat_pred\u001b[49m\u001b[43m,\u001b[49m\u001b[43m \u001b[49m\u001b[43maverage\u001b[49m\u001b[38;5;241;43m=\u001b[39;49m\u001b[38;5;124;43m'\u001b[39;49m\u001b[38;5;124;43mweighted\u001b[39;49m\u001b[38;5;124;43m'\u001b[39;49m\u001b[43m)\u001b[49m\n\u001b[1;32m     34\u001b[0m \u001b[38;5;28mprint\u001b[39m(\u001b[38;5;124m\"\u001b[39m\u001b[38;5;124mPersons - Precision: \u001b[39m\u001b[38;5;132;01m{:.2f}\u001b[39;00m\u001b[38;5;124m, Recall: \u001b[39m\u001b[38;5;132;01m{:.2f}\u001b[39;00m\u001b[38;5;124m, F1-Score: \u001b[39m\u001b[38;5;132;01m{:.2f}\u001b[39;00m\u001b[38;5;124m\"\u001b[39m\u001b[38;5;241m.\u001b[39mformat(\u001b[38;5;241m*\u001b[39mpersons_metrics[:\u001b[38;5;241m3\u001b[39m]))\n\u001b[1;32m     36\u001b[0m \u001b[38;5;66;03m# Evaluate organizations\u001b[39;00m\n",
      "File \u001b[0;32m~/.local/lib/python3.10/site-packages/sklearn/utils/_param_validation.py:213\u001b[0m, in \u001b[0;36mvalidate_params.<locals>.decorator.<locals>.wrapper\u001b[0;34m(*args, **kwargs)\u001b[0m\n\u001b[1;32m    207\u001b[0m \u001b[38;5;28;01mtry\u001b[39;00m:\n\u001b[1;32m    208\u001b[0m     \u001b[38;5;28;01mwith\u001b[39;00m config_context(\n\u001b[1;32m    209\u001b[0m         skip_parameter_validation\u001b[38;5;241m=\u001b[39m(\n\u001b[1;32m    210\u001b[0m             prefer_skip_nested_validation \u001b[38;5;129;01mor\u001b[39;00m global_skip_validation\n\u001b[1;32m    211\u001b[0m         )\n\u001b[1;32m    212\u001b[0m     ):\n\u001b[0;32m--> 213\u001b[0m         \u001b[38;5;28;01mreturn\u001b[39;00m \u001b[43mfunc\u001b[49m\u001b[43m(\u001b[49m\u001b[38;5;241;43m*\u001b[39;49m\u001b[43margs\u001b[49m\u001b[43m,\u001b[49m\u001b[43m \u001b[49m\u001b[38;5;241;43m*\u001b[39;49m\u001b[38;5;241;43m*\u001b[39;49m\u001b[43mkwargs\u001b[49m\u001b[43m)\u001b[49m\n\u001b[1;32m    214\u001b[0m \u001b[38;5;28;01mexcept\u001b[39;00m InvalidParameterError \u001b[38;5;28;01mas\u001b[39;00m e:\n\u001b[1;32m    215\u001b[0m     \u001b[38;5;66;03m# When the function is just a wrapper around an estimator, we allow\u001b[39;00m\n\u001b[1;32m    216\u001b[0m     \u001b[38;5;66;03m# the function to delegate validation to the estimator, but we replace\u001b[39;00m\n\u001b[1;32m    217\u001b[0m     \u001b[38;5;66;03m# the name of the estimator by the name of the function in the error\u001b[39;00m\n\u001b[1;32m    218\u001b[0m     \u001b[38;5;66;03m# message to avoid confusion.\u001b[39;00m\n\u001b[1;32m    219\u001b[0m     msg \u001b[38;5;241m=\u001b[39m re\u001b[38;5;241m.\u001b[39msub(\n\u001b[1;32m    220\u001b[0m         \u001b[38;5;124mr\u001b[39m\u001b[38;5;124m\"\u001b[39m\u001b[38;5;124mparameter of \u001b[39m\u001b[38;5;124m\\\u001b[39m\u001b[38;5;124mw+ must be\u001b[39m\u001b[38;5;124m\"\u001b[39m,\n\u001b[1;32m    221\u001b[0m         \u001b[38;5;124mf\u001b[39m\u001b[38;5;124m\"\u001b[39m\u001b[38;5;124mparameter of \u001b[39m\u001b[38;5;132;01m{\u001b[39;00mfunc\u001b[38;5;241m.\u001b[39m\u001b[38;5;18m__qualname__\u001b[39m\u001b[38;5;132;01m}\u001b[39;00m\u001b[38;5;124m must be\u001b[39m\u001b[38;5;124m\"\u001b[39m,\n\u001b[1;32m    222\u001b[0m         \u001b[38;5;28mstr\u001b[39m(e),\n\u001b[1;32m    223\u001b[0m     )\n",
      "File \u001b[0;32m~/.local/lib/python3.10/site-packages/sklearn/metrics/_classification.py:1789\u001b[0m, in \u001b[0;36mprecision_recall_fscore_support\u001b[0;34m(y_true, y_pred, beta, labels, pos_label, average, warn_for, sample_weight, zero_division)\u001b[0m\n\u001b[1;32m   1626\u001b[0m \u001b[38;5;250m\u001b[39m\u001b[38;5;124;03m\"\"\"Compute precision, recall, F-measure and support for each class.\u001b[39;00m\n\u001b[1;32m   1627\u001b[0m \n\u001b[1;32m   1628\u001b[0m \u001b[38;5;124;03mThe precision is the ratio ``tp / (tp + fp)`` where ``tp`` is the number of\u001b[39;00m\n\u001b[0;32m   (...)\u001b[0m\n\u001b[1;32m   1786\u001b[0m \u001b[38;5;124;03m array([2, 2, 2]))\u001b[39;00m\n\u001b[1;32m   1787\u001b[0m \u001b[38;5;124;03m\"\"\"\u001b[39;00m\n\u001b[1;32m   1788\u001b[0m _check_zero_division(zero_division)\n\u001b[0;32m-> 1789\u001b[0m labels \u001b[38;5;241m=\u001b[39m \u001b[43m_check_set_wise_labels\u001b[49m\u001b[43m(\u001b[49m\u001b[43my_true\u001b[49m\u001b[43m,\u001b[49m\u001b[43m \u001b[49m\u001b[43my_pred\u001b[49m\u001b[43m,\u001b[49m\u001b[43m \u001b[49m\u001b[43maverage\u001b[49m\u001b[43m,\u001b[49m\u001b[43m \u001b[49m\u001b[43mlabels\u001b[49m\u001b[43m,\u001b[49m\u001b[43m \u001b[49m\u001b[43mpos_label\u001b[49m\u001b[43m)\u001b[49m\n\u001b[1;32m   1791\u001b[0m \u001b[38;5;66;03m# Calculate tp_sum, pred_sum, true_sum ###\u001b[39;00m\n\u001b[1;32m   1792\u001b[0m samplewise \u001b[38;5;241m=\u001b[39m average \u001b[38;5;241m==\u001b[39m \u001b[38;5;124m\"\u001b[39m\u001b[38;5;124msamples\u001b[39m\u001b[38;5;124m\"\u001b[39m\n",
      "File \u001b[0;32m~/.local/lib/python3.10/site-packages/sklearn/metrics/_classification.py:1561\u001b[0m, in \u001b[0;36m_check_set_wise_labels\u001b[0;34m(y_true, y_pred, average, labels, pos_label)\u001b[0m\n\u001b[1;32m   1558\u001b[0m \u001b[38;5;28;01mif\u001b[39;00m average \u001b[38;5;129;01mnot\u001b[39;00m \u001b[38;5;129;01min\u001b[39;00m average_options \u001b[38;5;129;01mand\u001b[39;00m average \u001b[38;5;241m!=\u001b[39m \u001b[38;5;124m\"\u001b[39m\u001b[38;5;124mbinary\u001b[39m\u001b[38;5;124m\"\u001b[39m:\n\u001b[1;32m   1559\u001b[0m     \u001b[38;5;28;01mraise\u001b[39;00m \u001b[38;5;167;01mValueError\u001b[39;00m(\u001b[38;5;124m\"\u001b[39m\u001b[38;5;124maverage has to be one of \u001b[39m\u001b[38;5;124m\"\u001b[39m \u001b[38;5;241m+\u001b[39m \u001b[38;5;28mstr\u001b[39m(average_options))\n\u001b[0;32m-> 1561\u001b[0m y_type, y_true, y_pred \u001b[38;5;241m=\u001b[39m \u001b[43m_check_targets\u001b[49m\u001b[43m(\u001b[49m\u001b[43my_true\u001b[49m\u001b[43m,\u001b[49m\u001b[43m \u001b[49m\u001b[43my_pred\u001b[49m\u001b[43m)\u001b[49m\n\u001b[1;32m   1562\u001b[0m \u001b[38;5;66;03m# Convert to Python primitive type to avoid NumPy type / Python str\u001b[39;00m\n\u001b[1;32m   1563\u001b[0m \u001b[38;5;66;03m# comparison. See https://github.com/numpy/numpy/issues/6784\u001b[39;00m\n\u001b[1;32m   1564\u001b[0m present_labels \u001b[38;5;241m=\u001b[39m unique_labels(y_true, y_pred)\u001b[38;5;241m.\u001b[39mtolist()\n",
      "File \u001b[0;32m~/.local/lib/python3.10/site-packages/sklearn/metrics/_classification.py:103\u001b[0m, in \u001b[0;36m_check_targets\u001b[0;34m(y_true, y_pred)\u001b[0m\n\u001b[1;32m     76\u001b[0m \u001b[38;5;250m\u001b[39m\u001b[38;5;124;03m\"\"\"Check that y_true and y_pred belong to the same classification task.\u001b[39;00m\n\u001b[1;32m     77\u001b[0m \n\u001b[1;32m     78\u001b[0m \u001b[38;5;124;03mThis converts multiclass or binary types to a common shape, and raises a\u001b[39;00m\n\u001b[0;32m   (...)\u001b[0m\n\u001b[1;32m    100\u001b[0m \u001b[38;5;124;03my_pred : array or indicator matrix\u001b[39;00m\n\u001b[1;32m    101\u001b[0m \u001b[38;5;124;03m\"\"\"\u001b[39;00m\n\u001b[1;32m    102\u001b[0m xp, _ \u001b[38;5;241m=\u001b[39m get_namespace(y_true, y_pred)\n\u001b[0;32m--> 103\u001b[0m \u001b[43mcheck_consistent_length\u001b[49m\u001b[43m(\u001b[49m\u001b[43my_true\u001b[49m\u001b[43m,\u001b[49m\u001b[43m \u001b[49m\u001b[43my_pred\u001b[49m\u001b[43m)\u001b[49m\n\u001b[1;32m    104\u001b[0m type_true \u001b[38;5;241m=\u001b[39m type_of_target(y_true, input_name\u001b[38;5;241m=\u001b[39m\u001b[38;5;124m\"\u001b[39m\u001b[38;5;124my_true\u001b[39m\u001b[38;5;124m\"\u001b[39m)\n\u001b[1;32m    105\u001b[0m type_pred \u001b[38;5;241m=\u001b[39m type_of_target(y_pred, input_name\u001b[38;5;241m=\u001b[39m\u001b[38;5;124m\"\u001b[39m\u001b[38;5;124my_pred\u001b[39m\u001b[38;5;124m\"\u001b[39m)\n",
      "File \u001b[0;32m~/.local/lib/python3.10/site-packages/sklearn/utils/validation.py:457\u001b[0m, in \u001b[0;36mcheck_consistent_length\u001b[0;34m(*arrays)\u001b[0m\n\u001b[1;32m    455\u001b[0m uniques \u001b[38;5;241m=\u001b[39m np\u001b[38;5;241m.\u001b[39munique(lengths)\n\u001b[1;32m    456\u001b[0m \u001b[38;5;28;01mif\u001b[39;00m \u001b[38;5;28mlen\u001b[39m(uniques) \u001b[38;5;241m>\u001b[39m \u001b[38;5;241m1\u001b[39m:\n\u001b[0;32m--> 457\u001b[0m     \u001b[38;5;28;01mraise\u001b[39;00m \u001b[38;5;167;01mValueError\u001b[39;00m(\n\u001b[1;32m    458\u001b[0m         \u001b[38;5;124m\"\u001b[39m\u001b[38;5;124mFound input variables with inconsistent numbers of samples: \u001b[39m\u001b[38;5;132;01m%r\u001b[39;00m\u001b[38;5;124m\"\u001b[39m\n\u001b[1;32m    459\u001b[0m         \u001b[38;5;241m%\u001b[39m [\u001b[38;5;28mint\u001b[39m(l) \u001b[38;5;28;01mfor\u001b[39;00m l \u001b[38;5;129;01min\u001b[39;00m lengths]\n\u001b[1;32m    460\u001b[0m     )\n",
      "\u001b[0;31mValueError\u001b[0m: Found input variables with inconsistent numbers of samples: [4170, 34663]"
     ]
    }
   ],
   "source": [
    "metrics = evaluate_ner(df, persons_pred=persons, orgs_pred=organizations, locs_pred=locations)\n",
    "print(metrics)"
   ]
  },
  {
   "cell_type": "markdown",
   "id": "ca7e42d0-bca6-435f-8474-34808b4ee690",
   "metadata": {},
   "source": [
    "## Custom evaluation\n",
    "\n",
    "The Hugging Face `evaluate` package requires too much configuration, so I fell back to the custom evaluation. \n",
    "It allows me to fully control calculations."
   ]
  },
  {
   "cell_type": "code",
   "execution_count": 25,
   "id": "e68f8313-9f16-4693-93ee-82ff718e078a",
   "metadata": {
    "execution": {
     "iopub.execute_input": "2024-11-07T01:00:06.687990Z",
     "iopub.status.busy": "2024-11-07T01:00:06.687586Z",
     "iopub.status.idle": "2024-11-07T01:00:06.697531Z",
     "shell.execute_reply": "2024-11-07T01:00:06.696885Z",
     "shell.execute_reply.started": "2024-11-07T01:00:06.687961Z"
    }
   },
   "outputs": [],
   "source": [
    "import pandas as pd\n",
    "from sklearn.metrics import precision_score, recall_score, f1_score\n",
    "\n",
    "def evaluate_binary(df):\n",
    "    def calculate_metrics(row):\n",
    "        true_set = set(row[column].split(';'))\n",
    "        pred_set = set(row[column+'_pred'].split(';'))\n",
    "        \n",
    "        tp = len(true_set & pred_set)  # True Positives\n",
    "        fp = len(pred_set - true_set)  # False Positives\n",
    "        fn = len(true_set - pred_set)  # False Negatives\n",
    "        support = len(true_set)        # Support: the number of true values (in 'persons')        \n",
    "        return pd.Series([tp, fp, fn, support])\n",
    "    \n",
    "    overall_metrics = {}    \n",
    "    for column in 'persons organizations locations'.split():\n",
    "        # Apply the function to each row\n",
    "        df[['TP_'+column, 'FP_'+column, 'FN_'+column, 'support_'+column]] = df.apply(calculate_metrics, axis=1)\n",
    "        \n",
    "        # Calculate precision, recall, F1 for each row\n",
    "        df['precision_'+column] = df['TP_'+column] / (df['TP_'+column] + df['FP_'+column])\n",
    "        df['recall_'+column] = df['TP_'+column] / (df['TP_'+column] + df['FN_'+column])\n",
    "        df['F1_'+column] = 2 * (df['precision_'+column] * df['recall_'+column]) / (df['precision_'+column] + df['recall_'+column])\n",
    "        \n",
    "        # Fill NaN values (where precision/recall is undefined) with 0\n",
    "        df.fillna(0, inplace=True)\n",
    "        \n",
    "        # Calculate overall precision, recall, F1-score, and support\n",
    "        overall_metrics[column] ={\n",
    "            \"precision\": round(sum(df['precision_'+column] * df['support_'+column]) /sum(df['support_'+column]), 3),\n",
    "            \"recall\": round(sum(df['recall_'+column] * df['support_'+column]) /sum(df['support_'+column]), 3),\n",
    "            \"F1\": round(sum(df['F1_'+column] * df['support_'+column]) /sum(df['support_'+column]), 3),\n",
    "            \"support\": int(df['support_'+column].sum())\n",
    "        }\n",
    "    return df, overall_metrics   \n"
   ]
  },
  {
   "cell_type": "code",
   "execution_count": 26,
   "id": "cfa66d2a-d92d-4e5e-8e23-df8a3e149640",
   "metadata": {
    "execution": {
     "iopub.execute_input": "2024-11-07T01:00:21.565271Z",
     "iopub.status.busy": "2024-11-07T01:00:21.564615Z",
     "iopub.status.idle": "2024-11-07T01:00:21.580582Z",
     "shell.execute_reply": "2024-11-07T01:00:21.580262Z",
     "shell.execute_reply.started": "2024-11-07T01:00:21.565228Z"
    }
   },
   "outputs": [],
   "source": [
    "# Example DataFrame\n",
    "data = {\n",
    "    'persons': [\"Andrew Clyde;Kelly;Louie Gohmert\", \"Lloyd Smucker;Trump\", \"Timothy Kelly;Trump\"],\n",
    "    'organizations': [\"Andrew Clyde;Kelly;Louie Gohmert\", \"Lloyd Smucker;Trump\", \"Timothy Kelly;Trump\"],\n",
    "    'locations': [\"Florida;Orlando\", \"San Francisco;California;Napa County\", \"Mexican\"],\n",
    "    'persons_pred': [\"Andrew Clyde;Louie Gohmert;something\", \"Trump;Lloyd Smucker\", \"Timothy Kelly;some\"],\n",
    "    'organizations_pred': [\"Andrew Clyde;Louie Gohmert;something\", \"Trump;Lloyd Smucker\", \"Timothy Kelly;some\"],\n",
    "    'locations_pred': [\"Florida;Orlando;something\", \"San Francisco;California;Napa County;some\",\"Mexican;New York\"],\n",
    "}\n",
    "df_test = pd.DataFrame(data)\n",
    "\n",
    "df_test, overall_metrics = evaluate_binary(df_test)"
   ]
  },
  {
   "cell_type": "code",
   "execution_count": 27,
   "id": "df3d1be5-2328-496c-a3c7-78a736138daf",
   "metadata": {
    "execution": {
     "iopub.execute_input": "2024-11-07T01:00:22.432193Z",
     "iopub.status.busy": "2024-11-07T01:00:22.431970Z",
     "iopub.status.idle": "2024-11-07T01:00:22.445577Z",
     "shell.execute_reply": "2024-11-07T01:00:22.444753Z",
     "shell.execute_reply.started": "2024-11-07T01:00:22.432176Z"
    }
   },
   "outputs": [
    {
     "data": {
      "text/html": [
       "<div>\n",
       "<style scoped>\n",
       "    .dataframe tbody tr th:only-of-type {\n",
       "        vertical-align: middle;\n",
       "    }\n",
       "\n",
       "    .dataframe tbody tr th {\n",
       "        vertical-align: top;\n",
       "    }\n",
       "\n",
       "    .dataframe thead th {\n",
       "        text-align: right;\n",
       "    }\n",
       "</style>\n",
       "<table border=\"1\" class=\"dataframe\">\n",
       "  <thead>\n",
       "    <tr style=\"text-align: right;\">\n",
       "      <th></th>\n",
       "      <th>persons</th>\n",
       "      <th>organizations</th>\n",
       "      <th>locations</th>\n",
       "      <th>persons_pred</th>\n",
       "      <th>organizations_pred</th>\n",
       "      <th>locations_pred</th>\n",
       "      <th>TP_persons</th>\n",
       "      <th>FP_persons</th>\n",
       "      <th>FN_persons</th>\n",
       "      <th>support_persons</th>\n",
       "      <th>...</th>\n",
       "      <th>precision_organizations</th>\n",
       "      <th>recall_organizations</th>\n",
       "      <th>F1_organizations</th>\n",
       "      <th>TP_locations</th>\n",
       "      <th>FP_locations</th>\n",
       "      <th>FN_locations</th>\n",
       "      <th>support_locations</th>\n",
       "      <th>precision_locations</th>\n",
       "      <th>recall_locations</th>\n",
       "      <th>F1_locations</th>\n",
       "    </tr>\n",
       "  </thead>\n",
       "  <tbody>\n",
       "    <tr>\n",
       "      <th>0</th>\n",
       "      <td>Andrew Clyde;Kelly;Louie Gohmert</td>\n",
       "      <td>Andrew Clyde;Kelly;Louie Gohmert</td>\n",
       "      <td>Florida;Orlando</td>\n",
       "      <td>Andrew Clyde;Louie Gohmert;something</td>\n",
       "      <td>Andrew Clyde;Louie Gohmert;something</td>\n",
       "      <td>Florida;Orlando;something</td>\n",
       "      <td>2</td>\n",
       "      <td>1</td>\n",
       "      <td>1</td>\n",
       "      <td>3</td>\n",
       "      <td>...</td>\n",
       "      <td>0.666667</td>\n",
       "      <td>0.666667</td>\n",
       "      <td>0.666667</td>\n",
       "      <td>2</td>\n",
       "      <td>1</td>\n",
       "      <td>0</td>\n",
       "      <td>2</td>\n",
       "      <td>0.666667</td>\n",
       "      <td>1.0</td>\n",
       "      <td>0.800000</td>\n",
       "    </tr>\n",
       "    <tr>\n",
       "      <th>1</th>\n",
       "      <td>Lloyd Smucker;Trump</td>\n",
       "      <td>Lloyd Smucker;Trump</td>\n",
       "      <td>San Francisco;California;Napa County</td>\n",
       "      <td>Trump;Lloyd Smucker</td>\n",
       "      <td>Trump;Lloyd Smucker</td>\n",
       "      <td>San Francisco;California;Napa County;some</td>\n",
       "      <td>2</td>\n",
       "      <td>0</td>\n",
       "      <td>0</td>\n",
       "      <td>2</td>\n",
       "      <td>...</td>\n",
       "      <td>1.000000</td>\n",
       "      <td>1.000000</td>\n",
       "      <td>1.000000</td>\n",
       "      <td>3</td>\n",
       "      <td>1</td>\n",
       "      <td>0</td>\n",
       "      <td>3</td>\n",
       "      <td>0.750000</td>\n",
       "      <td>1.0</td>\n",
       "      <td>0.857143</td>\n",
       "    </tr>\n",
       "    <tr>\n",
       "      <th>2</th>\n",
       "      <td>Timothy Kelly;Trump</td>\n",
       "      <td>Timothy Kelly;Trump</td>\n",
       "      <td>Mexican</td>\n",
       "      <td>Timothy Kelly;some</td>\n",
       "      <td>Timothy Kelly;some</td>\n",
       "      <td>Mexican;New York</td>\n",
       "      <td>1</td>\n",
       "      <td>1</td>\n",
       "      <td>1</td>\n",
       "      <td>2</td>\n",
       "      <td>...</td>\n",
       "      <td>0.500000</td>\n",
       "      <td>0.500000</td>\n",
       "      <td>0.500000</td>\n",
       "      <td>1</td>\n",
       "      <td>1</td>\n",
       "      <td>0</td>\n",
       "      <td>1</td>\n",
       "      <td>0.500000</td>\n",
       "      <td>1.0</td>\n",
       "      <td>0.666667</td>\n",
       "    </tr>\n",
       "  </tbody>\n",
       "</table>\n",
       "<p>3 rows × 27 columns</p>\n",
       "</div>"
      ],
      "text/plain": [
       "                            persons                     organizations  \\\n",
       "0  Andrew Clyde;Kelly;Louie Gohmert  Andrew Clyde;Kelly;Louie Gohmert   \n",
       "1               Lloyd Smucker;Trump               Lloyd Smucker;Trump   \n",
       "2               Timothy Kelly;Trump               Timothy Kelly;Trump   \n",
       "\n",
       "                              locations                          persons_pred  \\\n",
       "0                       Florida;Orlando  Andrew Clyde;Louie Gohmert;something   \n",
       "1  San Francisco;California;Napa County                   Trump;Lloyd Smucker   \n",
       "2                               Mexican                    Timothy Kelly;some   \n",
       "\n",
       "                     organizations_pred  \\\n",
       "0  Andrew Clyde;Louie Gohmert;something   \n",
       "1                   Trump;Lloyd Smucker   \n",
       "2                    Timothy Kelly;some   \n",
       "\n",
       "                              locations_pred  TP_persons  FP_persons  \\\n",
       "0                  Florida;Orlando;something           2           1   \n",
       "1  San Francisco;California;Napa County;some           2           0   \n",
       "2                           Mexican;New York           1           1   \n",
       "\n",
       "   FN_persons  support_persons  ...  precision_organizations  \\\n",
       "0           1                3  ...                 0.666667   \n",
       "1           0                2  ...                 1.000000   \n",
       "2           1                2  ...                 0.500000   \n",
       "\n",
       "   recall_organizations  F1_organizations  TP_locations  FP_locations  \\\n",
       "0              0.666667          0.666667             2             1   \n",
       "1              1.000000          1.000000             3             1   \n",
       "2              0.500000          0.500000             1             1   \n",
       "\n",
       "   FN_locations  support_locations  precision_locations  recall_locations  \\\n",
       "0             0                  2             0.666667               1.0   \n",
       "1             0                  3             0.750000               1.0   \n",
       "2             0                  1             0.500000               1.0   \n",
       "\n",
       "   F1_locations  \n",
       "0      0.800000  \n",
       "1      0.857143  \n",
       "2      0.666667  \n",
       "\n",
       "[3 rows x 27 columns]"
      ]
     },
     "execution_count": 27,
     "metadata": {},
     "output_type": "execute_result"
    }
   ],
   "source": [
    "df_test"
   ]
  },
  {
   "cell_type": "code",
   "execution_count": 70,
   "id": "fe0079ab-8c9d-43c9-bda6-61f1d2b8a27e",
   "metadata": {
    "execution": {
     "iopub.execute_input": "2024-11-01T04:04:45.126273Z",
     "iopub.status.busy": "2024-11-01T04:04:45.125814Z",
     "iopub.status.idle": "2024-11-01T04:04:45.133785Z",
     "shell.execute_reply": "2024-11-01T04:04:45.133323Z",
     "shell.execute_reply.started": "2024-11-01T04:04:45.126238Z"
    }
   },
   "outputs": [
    {
     "data": {
      "text/html": [
       "<div>\n",
       "<style scoped>\n",
       "    .dataframe tbody tr th:only-of-type {\n",
       "        vertical-align: middle;\n",
       "    }\n",
       "\n",
       "    .dataframe tbody tr th {\n",
       "        vertical-align: top;\n",
       "    }\n",
       "\n",
       "    .dataframe thead th {\n",
       "        text-align: right;\n",
       "    }\n",
       "</style>\n",
       "<table border=\"1\" class=\"dataframe\">\n",
       "  <thead>\n",
       "    <tr style=\"text-align: right;\">\n",
       "      <th></th>\n",
       "      <th>text</th>\n",
       "      <th>persons</th>\n",
       "      <th>locations</th>\n",
       "      <th>organizations</th>\n",
       "      <th>persons_pred</th>\n",
       "      <th>organizations_pred</th>\n",
       "      <th>locations_pred</th>\n",
       "    </tr>\n",
       "  </thead>\n",
       "  <tbody>\n",
       "    <tr>\n",
       "      <th>0</th>\n",
       "      <td>EU rejects German call to boycott British lamb .</td>\n",
       "      <td>NaN</td>\n",
       "      <td>NaN</td>\n",
       "      <td>EU</td>\n",
       "      <td></td>\n",
       "      <td>EU</td>\n",
       "      <td></td>\n",
       "    </tr>\n",
       "    <tr>\n",
       "      <th>1</th>\n",
       "      <td>Peter Blackburn</td>\n",
       "      <td>Peter Blackburn</td>\n",
       "      <td>NaN</td>\n",
       "      <td>NaN</td>\n",
       "      <td>Peter Blackburn</td>\n",
       "      <td></td>\n",
       "      <td></td>\n",
       "    </tr>\n",
       "    <tr>\n",
       "      <th>2</th>\n",
       "      <td>BRUSSELS 1996-08-22</td>\n",
       "      <td>NaN</td>\n",
       "      <td>BRUSSELS</td>\n",
       "      <td>NaN</td>\n",
       "      <td></td>\n",
       "      <td></td>\n",
       "      <td>BRUSSELS</td>\n",
       "    </tr>\n",
       "    <tr>\n",
       "      <th>3</th>\n",
       "      <td>The European Commission said on Thursday it di...</td>\n",
       "      <td>NaN</td>\n",
       "      <td>NaN</td>\n",
       "      <td>European Commission</td>\n",
       "      <td></td>\n",
       "      <td>European Commission</td>\n",
       "      <td></td>\n",
       "    </tr>\n",
       "    <tr>\n",
       "      <th>4</th>\n",
       "      <td>Germany 's representative to the European Unio...</td>\n",
       "      <td>Werner Zwingmann</td>\n",
       "      <td>Germany;Britain</td>\n",
       "      <td>European Union</td>\n",
       "      <td>Werner Zwingmann</td>\n",
       "      <td>European Union</td>\n",
       "      <td>Germany;Britain</td>\n",
       "    </tr>\n",
       "  </tbody>\n",
       "</table>\n",
       "</div>"
      ],
      "text/plain": [
       "                                                text           persons  \\\n",
       "0   EU rejects German call to boycott British lamb .               NaN   \n",
       "1                                    Peter Blackburn   Peter Blackburn   \n",
       "2                                BRUSSELS 1996-08-22               NaN   \n",
       "3  The European Commission said on Thursday it di...               NaN   \n",
       "4  Germany 's representative to the European Unio...  Werner Zwingmann   \n",
       "\n",
       "         locations        organizations      persons_pred  \\\n",
       "0              NaN                   EU                     \n",
       "1              NaN                  NaN   Peter Blackburn   \n",
       "2         BRUSSELS                  NaN                     \n",
       "3              NaN  European Commission                     \n",
       "4  Germany;Britain       European Union  Werner Zwingmann   \n",
       "\n",
       "    organizations_pred   locations_pred  \n",
       "0                   EU                   \n",
       "1                                        \n",
       "2                              BRUSSELS  \n",
       "3  European Commission                   \n",
       "4       European Union  Germany;Britain  "
      ]
     },
     "execution_count": 70,
     "metadata": {},
     "output_type": "execute_result"
    }
   ],
   "source": [
    "predictions_df.head(5)"
   ]
  },
  {
   "cell_type": "code",
   "execution_count": 68,
   "id": "9a703280-648d-4424-9076-14afcf3da4f5",
   "metadata": {
    "execution": {
     "iopub.execute_input": "2024-11-01T04:02:15.162160Z",
     "iopub.status.busy": "2024-11-01T04:02:15.161940Z",
     "iopub.status.idle": "2024-11-01T04:02:15.166149Z",
     "shell.execute_reply": "2024-11-01T04:02:15.165369Z",
     "shell.execute_reply.started": "2024-11-01T04:02:15.162147Z"
    }
   },
   "outputs": [
    {
     "data": {
      "text/plain": [
       "{'persons': {'precision': 0.714, 'recall': 0.714, 'F1': 0.714, 'support': 7},\n",
       " 'organizations': {'precision': 0.714,\n",
       "  'recall': 0.714,\n",
       "  'F1': 0.714,\n",
       "  'support': 7},\n",
       " 'locations': {'precision': 0.681, 'recall': 1.0, 'F1': 0.806, 'support': 6}}"
      ]
     },
     "execution_count": 68,
     "metadata": {},
     "output_type": "execute_result"
    }
   ],
   "source": [
    "overall_metrics"
   ]
  },
  {
   "cell_type": "code",
   "execution_count": 78,
   "id": "f9e7c0b6-c25f-4365-b872-b520b1236a71",
   "metadata": {
    "execution": {
     "iopub.execute_input": "2024-11-01T04:15:41.053057Z",
     "iopub.status.busy": "2024-11-01T04:15:41.052245Z",
     "iopub.status.idle": "2024-11-01T04:15:45.155253Z",
     "shell.execute_reply": "2024-11-01T04:15:45.154591Z",
     "shell.execute_reply.started": "2024-11-01T04:15:41.053037Z"
    }
   },
   "outputs": [],
   "source": [
    "predictions_metrics_df, overall_metrics = evaluate_binary(predictions_df)"
   ]
  },
  {
   "cell_type": "code",
   "execution_count": 79,
   "id": "b965631d-0c1e-485f-a0ea-cea03b2d9762",
   "metadata": {
    "execution": {
     "iopub.execute_input": "2024-11-01T04:15:47.820994Z",
     "iopub.status.busy": "2024-11-01T04:15:47.820828Z",
     "iopub.status.idle": "2024-11-01T04:15:47.837879Z",
     "shell.execute_reply": "2024-11-01T04:15:47.837529Z",
     "shell.execute_reply.started": "2024-11-01T04:15:47.820982Z"
    }
   },
   "outputs": [
    {
     "data": {
      "text/html": [
       "<div>\n",
       "<style scoped>\n",
       "    .dataframe tbody tr th:only-of-type {\n",
       "        vertical-align: middle;\n",
       "    }\n",
       "\n",
       "    .dataframe tbody tr th {\n",
       "        vertical-align: top;\n",
       "    }\n",
       "\n",
       "    .dataframe thead th {\n",
       "        text-align: right;\n",
       "    }\n",
       "</style>\n",
       "<table border=\"1\" class=\"dataframe\">\n",
       "  <thead>\n",
       "    <tr style=\"text-align: right;\">\n",
       "      <th></th>\n",
       "      <th>text</th>\n",
       "      <th>persons</th>\n",
       "      <th>locations</th>\n",
       "      <th>organizations</th>\n",
       "      <th>persons_pred</th>\n",
       "      <th>organizations_pred</th>\n",
       "      <th>locations_pred</th>\n",
       "      <th>TP_persons</th>\n",
       "      <th>FP_persons</th>\n",
       "      <th>FN_persons</th>\n",
       "      <th>...</th>\n",
       "      <th>precision_organizations</th>\n",
       "      <th>recall_organizations</th>\n",
       "      <th>F1_organizations</th>\n",
       "      <th>TP_locations</th>\n",
       "      <th>FP_locations</th>\n",
       "      <th>FN_locations</th>\n",
       "      <th>support_locations</th>\n",
       "      <th>precision_locations</th>\n",
       "      <th>recall_locations</th>\n",
       "      <th>F1_locations</th>\n",
       "    </tr>\n",
       "  </thead>\n",
       "  <tbody>\n",
       "    <tr>\n",
       "      <th>0</th>\n",
       "      <td>EU rejects German call to boycott British lamb .</td>\n",
       "      <td>0</td>\n",
       "      <td>0</td>\n",
       "      <td>EU</td>\n",
       "      <td></td>\n",
       "      <td>EU</td>\n",
       "      <td></td>\n",
       "      <td>0</td>\n",
       "      <td>0</td>\n",
       "      <td>0</td>\n",
       "      <td>...</td>\n",
       "      <td>1.0</td>\n",
       "      <td>1.0</td>\n",
       "      <td>1.0</td>\n",
       "      <td>0</td>\n",
       "      <td>0</td>\n",
       "      <td>0</td>\n",
       "      <td>0</td>\n",
       "      <td>0.0</td>\n",
       "      <td>0.0</td>\n",
       "      <td>0.0</td>\n",
       "    </tr>\n",
       "    <tr>\n",
       "      <th>1</th>\n",
       "      <td>Peter Blackburn</td>\n",
       "      <td>Peter Blackburn</td>\n",
       "      <td>0</td>\n",
       "      <td>0</td>\n",
       "      <td>Peter Blackburn</td>\n",
       "      <td></td>\n",
       "      <td></td>\n",
       "      <td>1</td>\n",
       "      <td>0</td>\n",
       "      <td>0</td>\n",
       "      <td>...</td>\n",
       "      <td>0.0</td>\n",
       "      <td>0.0</td>\n",
       "      <td>0.0</td>\n",
       "      <td>0</td>\n",
       "      <td>0</td>\n",
       "      <td>0</td>\n",
       "      <td>0</td>\n",
       "      <td>0.0</td>\n",
       "      <td>0.0</td>\n",
       "      <td>0.0</td>\n",
       "    </tr>\n",
       "    <tr>\n",
       "      <th>2</th>\n",
       "      <td>BRUSSELS 1996-08-22</td>\n",
       "      <td>0</td>\n",
       "      <td>BRUSSELS</td>\n",
       "      <td>0</td>\n",
       "      <td></td>\n",
       "      <td></td>\n",
       "      <td>BRUSSELS</td>\n",
       "      <td>0</td>\n",
       "      <td>0</td>\n",
       "      <td>0</td>\n",
       "      <td>...</td>\n",
       "      <td>0.0</td>\n",
       "      <td>0.0</td>\n",
       "      <td>0.0</td>\n",
       "      <td>1</td>\n",
       "      <td>0</td>\n",
       "      <td>0</td>\n",
       "      <td>1</td>\n",
       "      <td>1.0</td>\n",
       "      <td>1.0</td>\n",
       "      <td>1.0</td>\n",
       "    </tr>\n",
       "    <tr>\n",
       "      <th>3</th>\n",
       "      <td>The European Commission said on Thursday it di...</td>\n",
       "      <td>0</td>\n",
       "      <td>0</td>\n",
       "      <td>European Commission</td>\n",
       "      <td></td>\n",
       "      <td>European Commission</td>\n",
       "      <td></td>\n",
       "      <td>0</td>\n",
       "      <td>0</td>\n",
       "      <td>0</td>\n",
       "      <td>...</td>\n",
       "      <td>1.0</td>\n",
       "      <td>1.0</td>\n",
       "      <td>1.0</td>\n",
       "      <td>0</td>\n",
       "      <td>0</td>\n",
       "      <td>0</td>\n",
       "      <td>0</td>\n",
       "      <td>0.0</td>\n",
       "      <td>0.0</td>\n",
       "      <td>0.0</td>\n",
       "    </tr>\n",
       "    <tr>\n",
       "      <th>4</th>\n",
       "      <td>Germany 's representative to the European Unio...</td>\n",
       "      <td>Werner Zwingmann</td>\n",
       "      <td>Germany;Britain</td>\n",
       "      <td>European Union</td>\n",
       "      <td>Werner Zwingmann</td>\n",
       "      <td>European Union</td>\n",
       "      <td>Germany;Britain</td>\n",
       "      <td>1</td>\n",
       "      <td>0</td>\n",
       "      <td>0</td>\n",
       "      <td>...</td>\n",
       "      <td>1.0</td>\n",
       "      <td>1.0</td>\n",
       "      <td>1.0</td>\n",
       "      <td>2</td>\n",
       "      <td>0</td>\n",
       "      <td>0</td>\n",
       "      <td>2</td>\n",
       "      <td>1.0</td>\n",
       "      <td>1.0</td>\n",
       "      <td>1.0</td>\n",
       "    </tr>\n",
       "  </tbody>\n",
       "</table>\n",
       "<p>5 rows × 28 columns</p>\n",
       "</div>"
      ],
      "text/plain": [
       "                                                text           persons  \\\n",
       "0   EU rejects German call to boycott British lamb .                 0   \n",
       "1                                    Peter Blackburn   Peter Blackburn   \n",
       "2                                BRUSSELS 1996-08-22                 0   \n",
       "3  The European Commission said on Thursday it di...                 0   \n",
       "4  Germany 's representative to the European Unio...  Werner Zwingmann   \n",
       "\n",
       "         locations        organizations      persons_pred  \\\n",
       "0                0                   EU                     \n",
       "1                0                    0   Peter Blackburn   \n",
       "2         BRUSSELS                    0                     \n",
       "3                0  European Commission                     \n",
       "4  Germany;Britain       European Union  Werner Zwingmann   \n",
       "\n",
       "    organizations_pred   locations_pred  TP_persons  FP_persons  FN_persons  \\\n",
       "0                   EU                            0           0           0   \n",
       "1                                                 1           0           0   \n",
       "2                              BRUSSELS           0           0           0   \n",
       "3  European Commission                            0           0           0   \n",
       "4       European Union  Germany;Britain           1           0           0   \n",
       "\n",
       "   ...  precision_organizations  recall_organizations  F1_organizations  \\\n",
       "0  ...                      1.0                   1.0               1.0   \n",
       "1  ...                      0.0                   0.0               0.0   \n",
       "2  ...                      0.0                   0.0               0.0   \n",
       "3  ...                      1.0                   1.0               1.0   \n",
       "4  ...                      1.0                   1.0               1.0   \n",
       "\n",
       "   TP_locations  FP_locations  FN_locations  support_locations  \\\n",
       "0             0             0             0                  0   \n",
       "1             0             0             0                  0   \n",
       "2             1             0             0                  1   \n",
       "3             0             0             0                  0   \n",
       "4             2             0             0                  2   \n",
       "\n",
       "   precision_locations  recall_locations  F1_locations  \n",
       "0                  0.0               0.0           0.0  \n",
       "1                  0.0               0.0           0.0  \n",
       "2                  1.0               1.0           1.0  \n",
       "3                  0.0               0.0           0.0  \n",
       "4                  1.0               1.0           1.0  \n",
       "\n",
       "[5 rows x 28 columns]"
      ]
     },
     "execution_count": 79,
     "metadata": {},
     "output_type": "execute_result"
    }
   ],
   "source": [
    "predictions_metrics_df.head()"
   ]
  },
  {
   "cell_type": "code",
   "execution_count": 80,
   "id": "886f60b7-72c2-4d8c-ba12-792bc550c31a",
   "metadata": {
    "execution": {
     "iopub.execute_input": "2024-11-01T04:17:11.748183Z",
     "iopub.status.busy": "2024-11-01T04:17:11.747528Z",
     "iopub.status.idle": "2024-11-01T04:17:11.753443Z",
     "shell.execute_reply": "2024-11-01T04:17:11.752868Z",
     "shell.execute_reply.started": "2024-11-01T04:17:11.748144Z"
    }
   },
   "outputs": [
    {
     "data": {
      "text/plain": [
       "{'persons': {'precision': 0.516,\n",
       "  'recall': 0.59,\n",
       "  'F1': 0.543,\n",
       "  'support': 10022},\n",
       " 'organizations': {'precision': 0.848,\n",
       "  'recall': 0.861,\n",
       "  'F1': 0.852,\n",
       "  'support': 9225},\n",
       " 'locations': {'precision': 0.836,\n",
       "  'recall': 0.845,\n",
       "  'F1': 0.838,\n",
       "  'support': 10476}}"
      ]
     },
     "execution_count": 80,
     "metadata": {},
     "output_type": "execute_result"
    }
   ],
   "source": [
    "overall_metrics"
   ]
  },
  {
   "cell_type": "markdown",
   "id": "5c5cc26e-c7b6-4e51-8f96-ca4dc24bb6ee",
   "metadata": {},
   "source": [
    "## Whole pipeline"
   ]
  },
  {
   "cell_type": "markdown",
   "id": "847c2589-33bf-4d0f-a640-60969a6a82da",
   "metadata": {},
   "source": [
    "### Code"
   ]
  },
  {
   "cell_type": "code",
   "execution_count": 28,
   "id": "5f955d46-fa93-41c3-80e9-f49cd7e02f9a",
   "metadata": {
    "execution": {
     "iopub.execute_input": "2024-11-07T01:00:32.621024Z",
     "iopub.status.busy": "2024-11-07T01:00:32.620615Z",
     "iopub.status.idle": "2024-11-07T01:00:32.628578Z",
     "shell.execute_reply": "2024-11-07T01:00:32.627996Z",
     "shell.execute_reply.started": "2024-11-07T01:00:32.620994Z"
    }
   },
   "outputs": [],
   "source": [
    "import json\n",
    "\n",
    "def load_data(file_path, usecols=None, nrows=None):\n",
    "    df = pd.read_csv(file_path, usecols=usecols, nrows=nrows)\n",
    "    print(f\"Loaded {df.shape} {file_path}, {list(df.columns) =}\")\n",
    "    return df\n",
    "    \n",
    "def save_results(output_file_path, metrics_file_path, df, metrics):\n",
    "    df.to_csv(output_file_path, index=False)\n",
    "    print(f\"Results saved into {output_file_path}, rows: {df.shape[0]}\")\n",
    "\n",
    "    print(metrics)\n",
    "    with open(metrics_file_path, \"w\", encoding='utf-8') as fp:\n",
    "        json.dump(metrics, fp, check_circular=True)\n",
    "    print(f\"Metrics saved into {metrics_file_path}\")    \n",
    "\n",
    "    \n",
    "def evaluate_baseline(data_file_path, output_file_path, metrics_file_path, do_cleanup=True, nrows=None):\n",
    "    # Load data\n",
    "    used_columns = \"text persons organizations locations\".split()\n",
    "    df = load_data(data_file_path, usecols=used_columns, nrows=nrows)\n",
    "    print(f\"Loaded {df.shape}\")\n",
    "\n",
    "    if do_cleanup:\n",
    "        df = data_cleanup(df)\n",
    "        print(f\"Cleaned up to {df.shape}\")\n",
    "\n",
    "    df.fillna('', inplace=True)\n",
    "    print(\"Loading model\")\n",
    "    tokenizer, model = load_model()\n",
    "    print(\"Extracting NE\") \n",
    "    df_pred = predict_entities(df, tokenizer, model)\n",
    "    print(f'Extracted. Res df: {df_pred.shape}, {df_pred.columns}')\n",
    "    # print(df)\n",
    "\n",
    "    # Evaluate predictions against true labels\n",
    "    out_df, overall_metrics = evaluate_binary(df_pred)\n",
    "\n",
    "    # Save the predictions to a CSV file (required format for submission)\n",
    "    save_results(output_file_path, metrics_file_path, df=out_df, metrics=overall_metrics)\n",
    "    print(\"Finish\")\n",
    "    return out_df, overall_metrics"
   ]
  },
  {
   "cell_type": "markdown",
   "id": "961e075b-424e-40ab-ba33-bde477a2c53a",
   "metadata": {},
   "source": [
    "### Evaluation on `conll2003`"
   ]
  },
  {
   "cell_type": "code",
   "execution_count": 30,
   "id": "e4b76ccf-6eef-451e-bd94-cb0f7b28cb45",
   "metadata": {
    "execution": {
     "iopub.execute_input": "2024-11-07T01:01:17.128514Z",
     "iopub.status.busy": "2024-11-07T01:01:17.128120Z",
     "iopub.status.idle": "2024-11-07T01:10:11.177944Z",
     "shell.execute_reply": "2024-11-07T01:10:11.177348Z",
     "shell.execute_reply.started": "2024-11-07T01:01:17.128486Z"
    }
   },
   "outputs": [
    {
     "name": "stdout",
     "output_type": "stream",
     "text": [
      "Loaded (20744, 4) ../data/external/hf/conll2003_transformed.all.csv, list(df.columns) =['text', 'persons', 'locations', 'organizations']\n",
      "Loaded (20744, 4)\n",
      "Loading model\n"
     ]
    },
    {
     "name": "stderr",
     "output_type": "stream",
     "text": [
      "Some weights of the model checkpoint at dslim/bert-base-NER were not used when initializing BertForTokenClassification: ['bert.pooler.dense.bias', 'bert.pooler.dense.weight']\n",
      "- This IS expected if you are initializing BertForTokenClassification from the checkpoint of a model trained on another task or with another architecture (e.g. initializing a BertForSequenceClassification model from a BertForPreTraining model).\n",
      "- This IS NOT expected if you are initializing BertForTokenClassification from the checkpoint of a model that you expect to be exactly identical (initializing a BertForSequenceClassification model from a BertForSequenceClassification model).\n"
     ]
    },
    {
     "name": "stdout",
     "output_type": "stream",
     "text": [
      "Extracting NE\n",
      "Extracted. Res df: (20744, 7), Index(['text', 'persons', 'locations', 'organizations', 'persons_pred',\n",
      "       'organizations_pred', 'locations_pred'],\n",
      "      dtype='object')\n",
      "Results saved into ../data/external/hf/hf/with_scores.csv, rows: 20744\n",
      "{'persons': {'precision': 0.796, 'recall': 0.827, 'F1': 0.807, 'support': 24248}, 'organizations': {'precision': 0.93, 'recall': 0.935, 'F1': 0.932, 'support': 23191}, 'locations': {'precision': 0.921, 'recall': 0.925, 'F1': 0.922, 'support': 23498}}\n",
      "Metrics saved into ../data/external/hf/hf/scores.json\n",
      "Finish\n"
     ]
    }
   ],
   "source": [
    "from_source = 'external/hf'\n",
    "dataset_name = \"conll2003_transformed.all\"\n",
    "extractor_type = 'hf'\n",
    "\n",
    "data_file_path = f\"../data/{from_source}/{dataset_name}.csv\"\n",
    "output_file_path = f\"../data/{from_source}/{extractor_type}/with_scores.csv\"\n",
    "metrics_file_path = f\"../data/{from_source}/{extractor_type}/scores.json\"\n",
    "nrows = None\n",
    "\n",
    "out_df, overall_metrics = evaluate_baseline(data_file_path, output_file_path, metrics_file_path, do_cleanup=False, nrows=nrows)"
   ]
  },
  {
   "cell_type": "code",
   "execution_count": 31,
   "id": "87e9bc0d-db19-45a0-9183-93a44c4c2045",
   "metadata": {
    "execution": {
     "iopub.execute_input": "2024-11-07T01:11:16.982620Z",
     "iopub.status.busy": "2024-11-07T01:11:16.982197Z",
     "iopub.status.idle": "2024-11-07T01:11:16.986555Z",
     "shell.execute_reply": "2024-11-07T01:11:16.985768Z",
     "shell.execute_reply.started": "2024-11-07T01:11:16.982601Z"
    }
   },
   "outputs": [
    {
     "data": {
      "text/plain": [
       "{'persons': {'precision': 0.796,\n",
       "  'recall': 0.827,\n",
       "  'F1': 0.807,\n",
       "  'support': 24248},\n",
       " 'organizations': {'precision': 0.93,\n",
       "  'recall': 0.935,\n",
       "  'F1': 0.932,\n",
       "  'support': 23191},\n",
       " 'locations': {'precision': 0.921,\n",
       "  'recall': 0.925,\n",
       "  'F1': 0.922,\n",
       "  'support': 23498}}"
      ]
     },
     "execution_count": 31,
     "metadata": {},
     "output_type": "execute_result"
    }
   ],
   "source": [
    "overall_metrics"
   ]
  },
  {
   "cell_type": "code",
   "execution_count": null,
   "id": "156e9edc-2a48-4427-908b-4dccde969770",
   "metadata": {},
   "outputs": [],
   "source": []
  }
 ],
 "metadata": {
  "kernelspec": {
   "display_name": "Python 3 (ipykernel)",
   "language": "python",
   "name": "python3"
  },
  "language_info": {
   "codemirror_mode": {
    "name": "ipython",
    "version": 3
   },
   "file_extension": ".py",
   "mimetype": "text/x-python",
   "name": "python",
   "nbconvert_exporter": "python",
   "pygments_lexer": "ipython3",
   "version": "3.10.12"
  }
 },
 "nbformat": 4,
 "nbformat_minor": 5
}
